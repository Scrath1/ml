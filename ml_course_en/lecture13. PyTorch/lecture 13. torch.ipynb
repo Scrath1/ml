{
 "cells": [
  {
   "cell_type": "markdown",
   "id": "496b5a3b-5cf7-45f6-94dc-fbd216d719d2",
   "metadata": {},
   "source": [
    "# PyTorch\n"
   ]
  },
  {
   "cell_type": "code",
   "execution_count": 1,
   "id": "f31d0cf3-44ee-4144-9f27-69fcb73b9da6",
   "metadata": {},
   "outputs": [],
   "source": [
    "%matplotlib inline"
   ]
  },
  {
   "cell_type": "code",
   "execution_count": 2,
   "id": "859a782c-c5f1-464c-8e98-dd3b38d799c5",
   "metadata": {},
   "outputs": [],
   "source": [
    "import torch\n",
    "import numpy as np"
   ]
  },
  {
   "cell_type": "markdown",
   "id": "5506d815-f01d-4fd0-902c-95b7584fb69a",
   "metadata": {},
   "source": [
    "# Initializing a Tensor\n",
    "\n",
    "Tensors can be initialized in various ways. Take a look at the following examples:\n",
    "\n",
    "## Directly from data\n",
    "\n",
    "Tensors can be created directly from data. The data type is automatically inferred.\n"
   ]
  },
  {
   "cell_type": "code",
   "execution_count": 3,
   "id": "85c95e5b-cdec-4886-9ba7-f1b70e646f3e",
   "metadata": {},
   "outputs": [],
   "source": [
    "data = [[1, 2],[3, 4]]\n",
    "x_data = torch.tensor(data)"
   ]
  },
  {
   "cell_type": "markdown",
   "id": "383fbae3-8cd1-4b81-9672-b5b81a8ef695",
   "metadata": {},
   "source": [
    "## From a NumPy array\n",
    "\n",
    "Tensors can be created from NumPy arrays (and vice versa - see `bridge-to-np-label`).\n"
   ]
  },
  {
   "cell_type": "code",
   "execution_count": 4,
   "id": "6003d8ec-41a7-482a-a5a3-6be4afe86790",
   "metadata": {},
   "outputs": [],
   "source": [
    "np_array = np.array(data)\n",
    "x_np = torch.from_numpy(np_array)"
   ]
  },
  {
   "cell_type": "markdown",
   "id": "e85d6f8e-8bef-49c5-978f-2d57bbcee7c5",
   "metadata": {},
   "source": [
    "## From another tensor:\n",
    "\n",
    "The new tensor retains the properties (shape, data type) of the argument tensor, unless explicitly overridden.\n"
   ]
  },
  {
   "cell_type": "code",
   "execution_count": 6,
   "id": "23e55b9c-3c9a-4700-991e-fe85c6e92e2c",
   "metadata": {},
   "outputs": [
    {
     "name": "stdout",
     "output_type": "stream",
     "text": [
      "Ones Tensor: \n",
      " tensor([[1, 1],\n",
      "        [1, 1]]) \n",
      "\n",
      "Random Tensor: \n",
      " tensor([[0.3662, 0.1543],\n",
      "        [0.1541, 0.3946]]) \n",
      "\n"
     ]
    }
   ],
   "source": [
    "x_ones = torch.ones_like(x_data) # retains the properties of x_data\n",
    "print(f\"Ones Tensor: \\n {x_ones} \\n\")\n",
    "\n",
    "x_rand = torch.rand_like(x_data, dtype=torch.float) # overrides the datatype of x_data\n",
    "print(f\"Random Tensor: \\n {x_rand} \\n\")"
   ]
  },
  {
   "cell_type": "markdown",
   "id": "e8f447bc-983f-4b55-86a5-1f2b3b090411",
   "metadata": {},
   "source": [
    "## With random or constant values:\n",
    "\n",
    "``shape`` is a tuple of tensor dimensions. In the functions below, it determines the dimensionality of the output tensor.\n"
   ]
  },
  {
   "cell_type": "code",
   "execution_count": 7,
   "id": "93c7b65c-47d0-4dca-ac6b-19f7fb3107d9",
   "metadata": {},
   "outputs": [
    {
     "name": "stdout",
     "output_type": "stream",
     "text": [
      "Random Tensor: \n",
      " tensor([[0.4862, 0.5841, 0.8786],\n",
      "        [0.7433, 0.1754, 0.5825]]) \n",
      "\n",
      "Ones Tensor: \n",
      " tensor([[1., 1., 1.],\n",
      "        [1., 1., 1.]]) \n",
      "\n",
      "Zeros Tensor: \n",
      " tensor([[0., 0., 0.],\n",
      "        [0., 0., 0.]])\n"
     ]
    }
   ],
   "source": [
    "shape = (2,3,)\n",
    "rand_tensor = torch.rand(shape)\n",
    "ones_tensor = torch.ones(shape)\n",
    "zeros_tensor = torch.zeros(shape)\n",
    "\n",
    "print(f\"Random Tensor: \\n {rand_tensor} \\n\")\n",
    "print(f\"Ones Tensor: \\n {ones_tensor} \\n\")\n",
    "print(f\"Zeros Tensor: \\n {zeros_tensor}\")"
   ]
  },
  {
   "cell_type": "markdown",
   "id": "dac1ae93-a0d9-43a2-8fcf-ff1b38887c52",
   "metadata": {},
   "source": [
    "# Attributes of a Tensor\n",
    "\n",
    "Tensor attributes describe their shape, data type, and the device on which they are stored.\n"
   ]
  },
  {
   "cell_type": "code",
   "execution_count": 8,
   "id": "0246bb83-e83b-4650-bb54-9b28cc112250",
   "metadata": {},
   "outputs": [
    {
     "name": "stdout",
     "output_type": "stream",
     "text": [
      "Shape of tensor: torch.Size([3, 4])\n",
      "Datatype of tensor: torch.float32\n",
      "Device tensor is stored on: cpu\n"
     ]
    }
   ],
   "source": [
    "tensor = torch.rand(3,4)\n",
    "\n",
    "print(f\"Shape of tensor: {tensor.shape}\")\n",
    "print(f\"Datatype of tensor: {tensor.dtype}\")\n",
    "print(f\"Device tensor is stored on: {tensor.device}\")"
   ]
  },
  {
   "cell_type": "markdown",
   "id": "b1089e1f-f843-4d03-a926-75834e881924",
   "metadata": {},
   "source": [
    "# Operations on Tensors\n",
    "\n",
    "Over 100 tensor operations, including arithmetic, linear algebra, matrix manipulation (transposing, \n",
    "indexing, slicing), sampling and more are\n",
    "comprehensively described [here](https://pytorch.org/docs/stable/torch.html).\n",
    "\n",
    "Each of these operations can be run on the GPU (at typically higher speeds than on a\n",
    "CPU).\n",
    "\n",
    "By default, tensors are created on the CPU. We need to explicitly move tensors to the GPU using \n",
    "`.to` method (after checking for GPU availability). Keep in mind that copying large tensors\n",
    "across devices can be expensive in terms of time and memory!\n"
   ]
  },
  {
   "cell_type": "code",
   "execution_count": 12,
   "id": "d77cf400-4a1e-4cd7-87da-a6da15db0f8f",
   "metadata": {},
   "outputs": [],
   "source": [
    "# We move our tensor to the GPU if available\n",
    "if torch.cuda.is_available():\n",
    "  tensor = tensor.to('cuda')"
   ]
  },
  {
   "cell_type": "markdown",
   "id": "2e7bcd22-a569-482b-9b7f-77da8b506d40",
   "metadata": {},
   "source": [
    "Try out some of the operations from the list.\n",
    "If you're familiar with the NumPy API, you'll find the Tensor API a breeze to use.\n",
    "\n",
    "## Standard numpy-like indexing and slicing:"
   ]
  },
  {
   "cell_type": "code",
   "execution_count": 10,
   "id": "6061ce42-e858-458b-bdb2-3ec81b479e44",
   "metadata": {},
   "outputs": [
    {
     "name": "stdout",
     "output_type": "stream",
     "text": [
      "First row:  tensor([1., 1., 1., 1.])\n",
      "First column:  tensor([1., 1., 1., 1.])\n",
      "Last column: tensor([1., 1., 1., 1.])\n",
      "tensor([[1., 0., 1., 1.],\n",
      "        [1., 0., 1., 1.],\n",
      "        [1., 0., 1., 1.],\n",
      "        [1., 0., 1., 1.]])\n"
     ]
    }
   ],
   "source": [
    "tensor = torch.ones(4, 4)\n",
    "print('First row: ',tensor[0])\n",
    "print('First column: ', tensor[:, 0])\n",
    "print('Last column:', tensor[..., -1])\n",
    "tensor[:,1] = 0\n",
    "print(tensor)"
   ]
  },
  {
   "cell_type": "markdown",
   "id": "1dea8382-d286-461e-bf2d-89beaccae1e1",
   "metadata": {},
   "source": [
    "## Joining tensors\n",
    "You can use `torch.cat` to concatenate a sequence of tensors along a given dimension.\n",
    "See also [torch.stack](https://pytorch.org/docs/stable/generated/torch.stack.html),\n",
    "another tensor joining op that is subtly different from ``torch.cat``.\n"
   ]
  },
  {
   "cell_type": "code",
   "execution_count": 11,
   "id": "ea23f1d3-cdc9-4f65-a8d5-8198c4218e0f",
   "metadata": {},
   "outputs": [
    {
     "name": "stdout",
     "output_type": "stream",
     "text": [
      "tensor([[1., 0., 1., 1., 1., 0., 1., 1., 1., 0., 1., 1.],\n",
      "        [1., 0., 1., 1., 1., 0., 1., 1., 1., 0., 1., 1.],\n",
      "        [1., 0., 1., 1., 1., 0., 1., 1., 1., 0., 1., 1.],\n",
      "        [1., 0., 1., 1., 1., 0., 1., 1., 1., 0., 1., 1.]])\n"
     ]
    }
   ],
   "source": [
    "t1 = torch.cat([tensor, tensor, tensor], dim=1)\n",
    "print(t1)"
   ]
  },
  {
   "cell_type": "markdown",
   "id": "86d4019d-12c5-4b71-85fb-508bc9b5ed6d",
   "metadata": {},
   "source": [
    "## Arithmetic operations\n"
   ]
  },
  {
   "cell_type": "code",
   "execution_count": 13,
   "id": "d47e8413-c124-4276-8ff9-d11e20abaca9",
   "metadata": {},
   "outputs": [
    {
     "data": {
      "text/plain": [
       "tensor([[1., 0., 1., 1.],\n",
       "        [1., 0., 1., 1.],\n",
       "        [1., 0., 1., 1.],\n",
       "        [1., 0., 1., 1.]])"
      ]
     },
     "execution_count": 13,
     "metadata": {},
     "output_type": "execute_result"
    }
   ],
   "source": [
    "# This computes the matrix multiplication between two tensors. y1, y2, y3 will have the same value\n",
    "y1 = tensor @ tensor.T\n",
    "y2 = tensor.matmul(tensor.T)\n",
    "\n",
    "y3 = torch.rand_like(tensor)\n",
    "torch.matmul(tensor, tensor.T, out=y3)\n",
    "\n",
    "\n",
    "# This computes the element-wise product. z1, z2, z3 will have the same value\n",
    "z1 = tensor * tensor\n",
    "z2 = tensor.mul(tensor)\n",
    "\n",
    "z3 = torch.rand_like(tensor)\n",
    "torch.mul(tensor, tensor, out=z3)"
   ]
  },
  {
   "cell_type": "markdown",
   "id": "c9d2c029-a432-4f43-b84b-ac54cda0281f",
   "metadata": {},
   "source": [
    "## Single-element tensors\n",
    "If you have a one-element tensor, for example by aggregating all\n",
    "values of a tensor into one value, you can convert it to a Python\n",
    "numerical value using `item()`:\n"
   ]
  },
  {
   "cell_type": "code",
   "execution_count": 14,
   "id": "9a1809c1-776e-4dc6-b26c-46969dd3a79c",
   "metadata": {},
   "outputs": [
    {
     "name": "stdout",
     "output_type": "stream",
     "text": [
      "12.0 <class 'float'>\n"
     ]
    }
   ],
   "source": [
    "agg = tensor.sum()\n",
    "agg_item = agg.item()  \n",
    "print(agg_item, type(agg_item))"
   ]
  },
  {
   "cell_type": "markdown",
   "id": "7b2db9af-5fbd-42f5-9404-1a072b920777",
   "metadata": {},
   "source": [
    "## In-place operations\n",
    "Operations that store the result into the operand are called in-place. They are denoted by a ``_`` suffix. \n",
    "For example: ``x.copy_(y)``, ``x.t_()``, will change ``x``.\n",
    "\n",
    "> **Note:** In-place operations save some memory, but can be problematic when computing derivatives because of an immediate loss of history. Hence, their use is discouraged.\n"
   ]
  },
  {
   "cell_type": "code",
   "execution_count": 15,
   "id": "b72b084b-c5f5-47dd-beb8-b1d63a2ac471",
   "metadata": {},
   "outputs": [
    {
     "name": "stdout",
     "output_type": "stream",
     "text": [
      "tensor([[1., 0., 1., 1.],\n",
      "        [1., 0., 1., 1.],\n",
      "        [1., 0., 1., 1.],\n",
      "        [1., 0., 1., 1.]]) \n",
      "\n",
      "tensor([[6., 5., 6., 6.],\n",
      "        [6., 5., 6., 6.],\n",
      "        [6., 5., 6., 6.],\n",
      "        [6., 5., 6., 6.]])\n"
     ]
    }
   ],
   "source": [
    "print(tensor, \"\\n\")\n",
    "tensor.add_(5)\n",
    "print(tensor)"
   ]
  },
  {
   "cell_type": "markdown",
   "id": "b0790ea2-b687-4ea1-a5a7-d32b881d361d",
   "metadata": {},
   "source": [
    "## Bridge with NumPy\n",
    "\n",
    "Tensors on the CPU and NumPy arrays can share their underlying memory\n",
    "locations, and changing one will change\tthe other.\n",
    "\n",
    "### Tensor to NumPy array"
   ]
  },
  {
   "cell_type": "code",
   "execution_count": 16,
   "id": "2293017e-4b85-45e1-aa1e-47f514055896",
   "metadata": {},
   "outputs": [
    {
     "name": "stdout",
     "output_type": "stream",
     "text": [
      "t: tensor([1., 1., 1., 1., 1.])\n",
      "n: [1. 1. 1. 1. 1.]\n"
     ]
    }
   ],
   "source": [
    "t = torch.ones(5)\n",
    "print(f\"t: {t}\")\n",
    "n = t.numpy()\n",
    "print(f\"n: {n}\")"
   ]
  },
  {
   "cell_type": "markdown",
   "id": "51ca8f1f-9b5f-4298-ac1a-53036dabd720",
   "metadata": {},
   "source": [
    "A change in the tensor reflects in the NumPy array.\n"
   ]
  },
  {
   "cell_type": "code",
   "execution_count": 18,
   "id": "66772923-3596-4c48-a533-2309edd59ad4",
   "metadata": {},
   "outputs": [
    {
     "name": "stdout",
     "output_type": "stream",
     "text": [
      "t: tensor([2., 2., 2., 2., 2.])\n",
      "n: [2. 2. 2. 2. 2.]\n"
     ]
    }
   ],
   "source": [
    "t.add_(1)\n",
    "print(f\"t: {t}\")\n",
    "print(f\"n: {n}\")"
   ]
  },
  {
   "cell_type": "markdown",
   "id": "059899c1-c19f-44c6-80ae-a987d1e624ec",
   "metadata": {},
   "source": [
    "### NumPy array to Tensor"
   ]
  },
  {
   "cell_type": "code",
   "execution_count": 20,
   "id": "eb99692c-26f3-429b-ab67-7874c2fe15cc",
   "metadata": {},
   "outputs": [],
   "source": [
    "n = np.ones(5)\n",
    "t = torch.from_numpy(n)"
   ]
  },
  {
   "cell_type": "markdown",
   "id": "264ea353-5e78-4939-81b0-d25082105704",
   "metadata": {},
   "source": [
    "Changes in the NumPy array reflects in the tensor.\n"
   ]
  },
  {
   "cell_type": "code",
   "execution_count": 21,
   "id": "600804bb-2501-4a36-af07-0cdaa17f9fbf",
   "metadata": {},
   "outputs": [
    {
     "name": "stdout",
     "output_type": "stream",
     "text": [
      "t: tensor([2., 2., 2., 2., 2.], dtype=torch.float64)\n",
      "n: [2. 2. 2. 2. 2.]\n"
     ]
    }
   ],
   "source": [
    "np.add(n, 1, out=n)\n",
    "print(f\"t: {t}\")\n",
    "print(f\"n: {n}\")"
   ]
  },
  {
   "cell_type": "markdown",
   "id": "67bddf1b-546d-497a-b68a-ed17cb349622",
   "metadata": {},
   "source": [
    "# Datasets and Dataloaders\n",
    "\n",
    "Code for processing data samples can get messy and hard to maintain; we ideally want our dataset code\n",
    "to be decoupled from our model training code for better readability and modularity.\n",
    "PyTorch provides two data primitives: ``torch.utils.data.DataLoader`` and ``torch.utils.data.Dataset``\n",
    "that allow you to use pre-loaded datasets as well as your own data.\n",
    "``Dataset`` stores the samples and their corresponding labels, and ``DataLoader`` wraps an iterable around\n",
    "the ``Dataset`` to enable easy access to the samples.\n",
    "\n",
    "PyTorch domain libraries provide a number of pre-loaded datasets (such as FashionMNIST) that \n",
    "subclass ``torch.utils.data.Dataset`` and implement functions specific to the particular data.\n",
    "They can be used to prototype and benchmark your model. You can find them\n",
    "here: [Image Datasets](https://pytorch.org/vision/stable/datasets.html),\n",
    "[Text Datasets](https://pytorch.org/text/stable/datasets.html), and\n",
    "[Audio Datasets](https://pytorch.org/audio/stable/datasets.html)\n",
    "\n",
    "## Loading a dataset\n",
    "\n",
    "Here is an example of how to load the [Fashion-MNIST](https://research.zalando.com/welcome/mission/research-projects/fashion-mnist/) dataset from TorchVision.\n",
    "Fashion-MNIST is a dataset of Zalando’s article images consisting of of 60,000 training examples and 10,000 test examples.\n",
    "Each example comprises a 28×28 grayscale image and an associated label from one of 10 classes.\n",
    "\n",
    "We load the [FashionMNIST Dataset](https://pytorch.org/vision/stable/datasets.html#fashion-mnist) with the following parameters:\n",
    " - `root` is the path where the train/test data is stored,\n",
    " - `train` specifies training or test dataset,\n",
    " - `download=True` downloads the data from the Internet if it's not available at `root`.\n",
    " - `transform` and `target_transform` specify the feature and label transformations\n",
    "\n"
   ]
  },
  {
   "cell_type": "code",
   "execution_count": 22,
   "id": "24845a39-6a00-4328-9a2f-cad3416338cc",
   "metadata": {},
   "outputs": [
    {
     "name": "stdout",
     "output_type": "stream",
     "text": [
      "Downloading http://fashion-mnist.s3-website.eu-central-1.amazonaws.com/train-images-idx3-ubyte.gz\n",
      "Downloading http://fashion-mnist.s3-website.eu-central-1.amazonaws.com/train-images-idx3-ubyte.gz to data/FashionMNIST/raw/train-images-idx3-ubyte.gz\n"
     ]
    },
    {
     "data": {
      "application/vnd.jupyter.widget-view+json": {
       "model_id": "e0c47490d78746c782a5c50b54dab163",
       "version_major": 2,
       "version_minor": 0
      },
      "text/plain": [
       "  0%|          | 0/26421880 [00:00<?, ?it/s]"
      ]
     },
     "metadata": {},
     "output_type": "display_data"
    },
    {
     "name": "stdout",
     "output_type": "stream",
     "text": [
      "Extracting data/FashionMNIST/raw/train-images-idx3-ubyte.gz to data/FashionMNIST/raw\n",
      "\n",
      "Downloading http://fashion-mnist.s3-website.eu-central-1.amazonaws.com/train-labels-idx1-ubyte.gz\n",
      "Downloading http://fashion-mnist.s3-website.eu-central-1.amazonaws.com/train-labels-idx1-ubyte.gz to data/FashionMNIST/raw/train-labels-idx1-ubyte.gz\n"
     ]
    },
    {
     "data": {
      "application/vnd.jupyter.widget-view+json": {
       "model_id": "b90eb6ec7490460e8e573e3d57c9820e",
       "version_major": 2,
       "version_minor": 0
      },
      "text/plain": [
       "  0%|          | 0/29515 [00:00<?, ?it/s]"
      ]
     },
     "metadata": {},
     "output_type": "display_data"
    },
    {
     "name": "stdout",
     "output_type": "stream",
     "text": [
      "Extracting data/FashionMNIST/raw/train-labels-idx1-ubyte.gz to data/FashionMNIST/raw\n",
      "\n",
      "Downloading http://fashion-mnist.s3-website.eu-central-1.amazonaws.com/t10k-images-idx3-ubyte.gz\n",
      "Downloading http://fashion-mnist.s3-website.eu-central-1.amazonaws.com/t10k-images-idx3-ubyte.gz to data/FashionMNIST/raw/t10k-images-idx3-ubyte.gz\n"
     ]
    },
    {
     "data": {
      "application/vnd.jupyter.widget-view+json": {
       "model_id": "c05dd552e700452db0e275aad94850f5",
       "version_major": 2,
       "version_minor": 0
      },
      "text/plain": [
       "  0%|          | 0/4422102 [00:00<?, ?it/s]"
      ]
     },
     "metadata": {},
     "output_type": "display_data"
    },
    {
     "name": "stdout",
     "output_type": "stream",
     "text": [
      "Extracting data/FashionMNIST/raw/t10k-images-idx3-ubyte.gz to data/FashionMNIST/raw\n",
      "\n",
      "Downloading http://fashion-mnist.s3-website.eu-central-1.amazonaws.com/t10k-labels-idx1-ubyte.gz\n",
      "Downloading http://fashion-mnist.s3-website.eu-central-1.amazonaws.com/t10k-labels-idx1-ubyte.gz to data/FashionMNIST/raw/t10k-labels-idx1-ubyte.gz\n"
     ]
    },
    {
     "data": {
      "application/vnd.jupyter.widget-view+json": {
       "model_id": "21f80fcdb735463f9f99ec8257ade772",
       "version_major": 2,
       "version_minor": 0
      },
      "text/plain": [
       "  0%|          | 0/5148 [00:00<?, ?it/s]"
      ]
     },
     "metadata": {},
     "output_type": "display_data"
    },
    {
     "name": "stdout",
     "output_type": "stream",
     "text": [
      "Extracting data/FashionMNIST/raw/t10k-labels-idx1-ubyte.gz to data/FashionMNIST/raw\n",
      "\n"
     ]
    },
    {
     "name": "stderr",
     "output_type": "stream",
     "text": [
      "/Users/hiber/miniforge3/envs/venv/lib/python3.8/site-packages/torchvision/datasets/mnist.py:498: UserWarning: The given NumPy array is not writeable, and PyTorch does not support non-writeable tensors. This means you can write to the underlying (supposedly non-writeable) NumPy array using the tensor. You may want to copy the array to protect its data or make it writeable before converting it to a tensor. This type of warning will be suppressed for the rest of this program. (Triggered internally at  /tmp/pip-req-build-jhk0fkj8/torch/csrc/utils/tensor_numpy.cpp:180.)\n",
      "  return torch.from_numpy(parsed.astype(m[2], copy=False)).view(*s)\n"
     ]
    }
   ],
   "source": [
    "import torch\n",
    "from torch.utils.data import Dataset\n",
    "from torchvision import datasets\n",
    "from torchvision.transforms import ToTensor, Lambda\n",
    "import matplotlib.pyplot as plt\n",
    "\n",
    "training_data = datasets.FashionMNIST(\n",
    "    root=\"data\",\n",
    "    train=True,\n",
    "    download=True,\n",
    "    transform=ToTensor()\n",
    ")\n",
    "\n",
    "test_data = datasets.FashionMNIST(\n",
    "    root=\"data\",\n",
    "    train=False,\n",
    "    download=True,\n",
    "    transform=ToTensor()\n",
    ")"
   ]
  },
  {
   "cell_type": "markdown",
   "id": "e0e513d8-8506-45f9-9b21-cf112f90dbd6",
   "metadata": {},
   "source": [
    "Iterating and Visualizing the Dataset\n",
    "-----------------\n",
    "\n",
    "We can index ``Datasets`` manually like a list: ``training_data[index]``. \n",
    "We use ``matplotlib`` to visualize some samples in our training data.\n"
   ]
  },
  {
   "cell_type": "code",
   "execution_count": 23,
   "id": "91420eeb-3ba4-4d7a-9e3c-f07778f9e275",
   "metadata": {},
   "outputs": [
    {
     "data": {
      "image/png": "[encoded data removed]",
      "text/plain": [
       "<Figure size 576x576 with 9 Axes>"
      ]
     },
     "metadata": {
      "needs_background": "light"
     },
     "output_type": "display_data"
    }
   ],
   "source": [
    "labels_map = {\n",
    "    0: \"T-Shirt\",\n",
    "    1: \"Trouser\",\n",
    "    2: \"Pullover\",\n",
    "    3: \"Dress\",\n",
    "    4: \"Coat\",\n",
    "    5: \"Sandal\",\n",
    "    6: \"Shirt\",\n",
    "    7: \"Sneaker\",\n",
    "    8: \"Bag\",\n",
    "    9: \"Ankle Boot\",\n",
    "}\n",
    "figure = plt.figure(figsize=(8, 8))\n",
    "cols, rows = 3, 3\n",
    "for i in range(1, cols * rows + 1):\n",
    "    sample_idx = torch.randint(len(training_data), size=(1,)).item()\n",
    "    img, label = training_data[sample_idx]\n",
    "    figure.add_subplot(rows, cols, i)\n",
    "    plt.title(labels_map[label])\n",
    "    plt.axis(\"off\")\n",
    "    plt.imshow(img.squeeze(), cmap=\"gray\")\n",
    "plt.show()"
   ]
  },
  {
   "cell_type": "markdown",
   "id": "1f5035a9-a34b-4584-b6cc-3b1401e65497",
   "metadata": {},
   "source": [
    "Creating a Custom Dataset for your files\n",
    "---------------------------------------------------\n",
    "\n",
    "A custom Dataset class must implement three functions: `__init__`, `__len__`, and `__getitem__`. \n",
    "Take a look at this implementation; the FashionMNIST images are stored \n",
    "in a directory ``img_dir``, and their labels are stored separately in a CSV file ``annotations_file``. \n",
    "\n",
    "In the next sections, we'll break down what's happening in each of these functions.\n"
   ]
  },
  {
   "cell_type": "code",
   "execution_count": 24,
   "id": "c533df3b-886a-474a-b58a-dca045df4160",
   "metadata": {},
   "outputs": [],
   "source": [
    "import os\n",
    "import pandas as pd\n",
    "import torchvision.io as tvio\n",
    "\n",
    "class CustomImageDataset(Dataset):\n",
    "    def __init__(self, annotations_file, img_dir, transform=None, target_transform=None):\n",
    "        self.img_labels = pd.read_csv(annotations_file)\n",
    "        self.img_dir = img_dir\n",
    "        self.transform = transform\n",
    "        self.target_transform = target_transform\n",
    "\n",
    "    def __len__(self):\n",
    "        return len(self.img_labels)\n",
    "\n",
    "    def __getitem__(self, idx):\n",
    "        img_path = os.path.join(self.img_dir, self.img_labels.iloc[idx, 0])\n",
    "        image = tvio.read_image(img_path)\n",
    "        label = self.img_labels.iloc[idx, 1]\n",
    "        if self.transform:\n",
    "            image = self.transform(image)\n",
    "        if self.target_transform:\n",
    "            label = self.target_transform(label)\n",
    "        sample = {\"image\": image, \"label\": label}\n",
    "        return sample"
   ]
  },
  {
   "cell_type": "markdown",
   "id": "4f1a68d6-ae80-407f-8df7-99f1529c7b75",
   "metadata": {},
   "source": [
    "## init\n",
    "\n",
    "The `__init__` function is run once when instantiating the Dataset object. We initialize\n",
    "the directory containing the images, the annotations file, and both transforms (covered \n",
    "in more detail in the next section). \n",
    "\n",
    "The labels.csv file looks like:\n",
    "```\n",
    "\n",
    "    tshirt1.jpg, 0\n",
    "    tshirt2.jpg, 0\n",
    "    ......\n",
    "    ankleboot999.jpg, 9\n",
    "```\n",
    "Example:\n",
    "```\n",
    "def __init__(self, annotations_file, img_dir, transform=None, target_transform=None):\n",
    "    self.img_labels = pd.read_csv(annotations_file)\n",
    "    self.img_dir = img_dir\n",
    "    self.transform = transform\n",
    "    self.target_transform = target_transform\n",
    "```"
   ]
  },
  {
   "cell_type": "markdown",
   "id": "947eb2d6-79a4-4d88-9677-7afe49840fea",
   "metadata": {},
   "source": [
    "## len\n",
    "\n",
    "The `__len__` function returns the number of samples in our dataset.\n",
    "\n",
    "Example:\n",
    "```\n",
    "def __len__(self):\n",
    "    return len(self.img_labels)\n",
    "```\n"
   ]
  },
  {
   "cell_type": "markdown",
   "id": "239ab155-1204-412f-bc3d-eb57dc07e650",
   "metadata": {},
   "source": [
    "## getitem\n",
    "\n",
    "The `__getitem__` function loads and returns a sample from the dataset at the given index `idx`. \n",
    "Based on the index, it identifies the image's location on disk, converts that to a tensor using `read_image`, retrieves the \n",
    "corresponding label from the csv data in `self.img_labels`, calls the transform functions on them (if applicable), and returns the \n",
    "tensor image and corresponding label in a Python `dict`.\n",
    "\n",
    "Example:\n",
    "```\n",
    "def __getitem__(self, idx):\n",
    "    img_path = os.path.join(self.img_dir, self.img_labels.iloc[idx, 0])\n",
    "    image = read_image(img_path)\n",
    "    label = self.img_labels.iloc[idx, 1]\n",
    "    if self.transform:\n",
    "        image = self.transform(image)\n",
    "    if self.target_transform:\n",
    "        label = self.target_transform(label)\n",
    "    sample = {\"image\": image, \"label\": label}\n",
    "    return sample\n",
    "```"
   ]
  },
  {
   "cell_type": "markdown",
   "id": "8ee99ca2-efb2-425a-b6a1-0d9248019038",
   "metadata": {},
   "source": [
    "Preparing your data for training with DataLoaders\n",
    "-------------------------------------------------\n",
    "The ``Dataset`` retrieves our dataset's features and labels one sample at a time. While training a model, we typically want to \n",
    "pass samples in \"minibatches\", reshuffle the data at every epoch to reduce model overfitting, and use Python's ``multiprocessing`` to\n",
    "speed up data retrieval.\n",
    "\n",
    "``DataLoader`` is an iterable that abstracts this complexity for us in an easy API.\n",
    "\n"
   ]
  },
  {
   "cell_type": "code",
   "execution_count": 25,
   "id": "9fdc25e7-bafb-4d4d-8a95-323ad199bd7b",
   "metadata": {},
   "outputs": [],
   "source": [
    "from torch.utils.data import DataLoader\n",
    "\n",
    "train_dataloader = DataLoader(training_data, batch_size=64, shuffle=True)\n",
    "test_dataloader = DataLoader(test_data, batch_size=64, shuffle=True)"
   ]
  },
  {
   "cell_type": "markdown",
   "id": "64d1f1f7-cd5a-4eef-803b-7d1e03c4f261",
   "metadata": {},
   "source": [
    "## Iterate through the DataLoader\n",
    "\n",
    "We have loaded that dataset into the `Dataloader` and can iterate through the dataset as needed.\n",
    "Each iteration below returns a batch of `train_features` and `train_labels`(containing `batch_size=64` features and labels respectively). Because we specified `shuffle=True`, after we iterate over all batches the data is shuffled (for finer-grained control over  the data loading order, take a look at [Samplers](https://pytorch.org/docs/stable/data.html#data-loading-order-and-sampler>).\n",
    "\n"
   ]
  },
  {
   "cell_type": "code",
   "execution_count": 26,
   "id": "e037ce07-2fd9-4241-9572-d3455a42a13c",
   "metadata": {},
   "outputs": [
    {
     "name": "stdout",
     "output_type": "stream",
     "text": [
      "Feature batch shape: torch.Size([64, 1, 28, 28])\n",
      "Labels batch shape: torch.Size([64])\n"
     ]
    },
    {
     "data": {
      "image/png": "[encoded data removed]",
      "text/plain": [
       "<Figure size 432x288 with 1 Axes>"
      ]
     },
     "metadata": {
      "needs_background": "light"
     },
     "output_type": "display_data"
    },
    {
     "name": "stdout",
     "output_type": "stream",
     "text": [
      "Label: 4\n"
     ]
    }
   ],
   "source": [
    "# Display image and label.\n",
    "train_features, train_labels = next(iter(train_dataloader))\n",
    "print(f\"Feature batch shape: {train_features.size()}\")\n",
    "print(f\"Labels batch shape: {train_labels.size()}\")\n",
    "img = train_features[0].squeeze()\n",
    "label = train_labels[0]\n",
    "plt.imshow(img, cmap=\"gray\")\n",
    "plt.show()\n",
    "print(f\"Label: {label}\")"
   ]
  },
  {
   "cell_type": "markdown",
   "id": "60e8053a-d759-4853-8a9b-24ac2b9b4075",
   "metadata": {},
   "source": [
    "# Transforms\n",
    "\n",
    "Data does not always come in its final processed form that is required for \n",
    "training machine learning algorithms. We use **transforms** to perform some\n",
    "manipulation of the data and make it suitable for training.\n",
    "\n",
    "All TorchVision datasets have two parameters (`transform` to modify the features and\n",
    "`target_transform` to modify the labels) that accept callables containing the transformation logic.\n",
    "The [torchvision.transforms](https://pytorch.org/vision/stable/transforms.html) module offers \n",
    "several commonly-used transforms out of the box.\n",
    "\n",
    "The FashionMNIST features are in PIL Image format, and the labels are integers.\n",
    "For training, we need the features as normalized tensors, and the labels as one-hot encoded tensors.\n",
    "To make these transformations, we use `ToTensor` and `Lambda`."
   ]
  },
  {
   "cell_type": "code",
   "execution_count": 27,
   "id": "83664d8e-1b20-4d77-91e6-47ce11223869",
   "metadata": {},
   "outputs": [],
   "source": [
    "from torchvision import datasets\n",
    "from torchvision.transforms import ToTensor, Lambda\n",
    "\n",
    "ds = datasets.FashionMNIST(\n",
    "    root=\"data\",\n",
    "    train=True,\n",
    "    download=True,\n",
    "    transform=ToTensor(),\n",
    "    target_transform=Lambda(lambda y: torch.zeros(10, dtype=torch.float).scatter_(0, torch.tensor(y), value=1))\n",
    ")"
   ]
  },
  {
   "cell_type": "markdown",
   "id": "6ed3acc3-34c3-4c2d-8893-1f5c402ee070",
   "metadata": {},
   "source": [
    "## ToTensor()\n",
    "\n",
    "[ToTensor](https://pytorch.org/vision/stable/transforms.html#torchvision.transforms.ToTensor) \n",
    "converts a PIL image or NumPy `ndarray` into a `FloatTensor` and scales the image's pixel intensity values in the range \\[0., 1.\\]\n",
    "\n",
    "## Lambda transforms\n",
    "\n",
    "Lambda transforms apply any user-defined lambda function. Here, we define a function \n",
    "to turn the integer into a one-hot encoded tensor. \n",
    "It first creates a zero tensor of size 10 (the number of labels in our dataset) and calls \n",
    "[scatter](https://pytorch.org/docs/stable/tensors.html#torch.Tensor.scatter_) which assigns a \n",
    "`value=1` on the index as given by the label `y`."
   ]
  },
  {
   "cell_type": "code",
   "execution_count": 28,
   "id": "3e8cbb58-5019-4055-a009-7d9eb66b4c3f",
   "metadata": {},
   "outputs": [],
   "source": [
    "target_transform = Lambda(lambda y: torch.zeros(\n",
    "    10, dtype=torch.float).scatter_(dim=0, index=torch.tensor(y), value=1))"
   ]
  },
  {
   "cell_type": "markdown",
   "id": "eca02c43-5ddc-411b-83be-ec16fd4475ce",
   "metadata": {},
   "source": [
    "# Build a neural network\n",
    "\n",
    "Neural networks comprise of layers/modules that perform operations on data. \n",
    "The [torch.nn](https://pytorch.org/docs/stable/nn.html) namespace provides all the building blocks you need to \n",
    "build your own neural network. Every module in PyTorch subclasses the [nn.Module](https://pytorch.org/docs/stable/generated/torch.nn.Module.html). \n",
    "A neural network is a module itself that consists of other modules (layers). This nested structure allows for\n",
    "building and managing complex architectures easily.\n",
    "\n",
    "In the following sections, we'll build a neural network to classify images in the FashionMNIST dataset."
   ]
  },
  {
   "cell_type": "code",
   "execution_count": 29,
   "id": "c2828db1-2fd0-48f6-9f0f-01f5f32dc8a4",
   "metadata": {},
   "outputs": [],
   "source": [
    "import os\n",
    "import torch\n",
    "from torch import nn\n",
    "from torch.utils.data import DataLoader\n",
    "from torchvision import datasets, transforms\n"
   ]
  },
  {
   "cell_type": "markdown",
   "id": "84d9eeef-9d21-43a9-a229-833e4f37e20c",
   "metadata": {},
   "source": [
    "## Get a hardware device for training\n",
    "\n",
    "We want to be able to train our model on a hardware accelerator like the GPU, \n",
    "if it is available. Let's check to see if \n",
    "[torch.cuda](https://pytorch.org/docs/stable/notes/cuda.html) is available, else we \n",
    "continue to use the CPU."
   ]
  },
  {
   "cell_type": "code",
   "execution_count": 31,
   "id": "51937062-a79e-486e-a113-2dc4b833d877",
   "metadata": {},
   "outputs": [
    {
     "name": "stdout",
     "output_type": "stream",
     "text": [
      "Using cpu device\n"
     ]
    }
   ],
   "source": [
    "device = 'cuda' if torch.cuda.is_available() else 'cpu'\n",
    "print('Using {} device'.format(device))"
   ]
  },
  {
   "cell_type": "markdown",
   "id": "d195faaa-8435-4164-9230-0e5fc1f91623",
   "metadata": {},
   "source": [
    "## Define the class\n",
    "\n",
    "We define our neural network by subclassing `nn.Module`, and \n",
    "initialize the neural network layers in `__init__`. Every `nn.Module` subclass implements\n",
    "the operations on input data in the `forward` method."
   ]
  },
  {
   "cell_type": "code",
   "execution_count": 32,
   "id": "6a7109d6-fef4-4d40-94b5-f01eaf71be14",
   "metadata": {},
   "outputs": [],
   "source": [
    "class NeuralNetwork(nn.Module):\n",
    "    def __init__(self):\n",
    "        super(NeuralNetwork, self).__init__()\n",
    "        self.flatten = nn.Flatten()\n",
    "        self.linear_relu_stack = nn.Sequential(\n",
    "            nn.Linear(28*28, 512),\n",
    "            nn.ReLU(),\n",
    "            nn.Linear(512, 512),\n",
    "            nn.ReLU(),\n",
    "            nn.Linear(512, 10),\n",
    "            nn.ReLU()\n",
    "        )\n",
    "\n",
    "    def forward(self, x):\n",
    "        x = self.flatten(x)\n",
    "        logits = self.linear_relu_stack(x)\n",
    "        return logits"
   ]
  },
  {
   "cell_type": "markdown",
   "id": "5e9b974a-b3ba-4a09-a360-7aa48946f1ed",
   "metadata": {},
   "source": [
    "We create an instance of `NeuralNetwork`, and move it to the `device`, and print \n",
    "it's structure.\n"
   ]
  },
  {
   "cell_type": "code",
   "execution_count": 33,
   "id": "a7f4d885-0187-46d4-bf9c-604357d5568a",
   "metadata": {},
   "outputs": [
    {
     "name": "stdout",
     "output_type": "stream",
     "text": [
      "NeuralNetwork(\n",
      "  (flatten): Flatten(start_dim=1, end_dim=-1)\n",
      "  (linear_relu_stack): Sequential(\n",
      "    (0): Linear(in_features=784, out_features=512, bias=True)\n",
      "    (1): ReLU()\n",
      "    (2): Linear(in_features=512, out_features=512, bias=True)\n",
      "    (3): ReLU()\n",
      "    (4): Linear(in_features=512, out_features=10, bias=True)\n",
      "    (5): ReLU()\n",
      "  )\n",
      ")\n"
     ]
    }
   ],
   "source": [
    "model = NeuralNetwork().to(device)\n",
    "print(model)"
   ]
  },
  {
   "cell_type": "markdown",
   "id": "fe432785-27eb-4b1d-b692-e4317c737ce4",
   "metadata": {},
   "source": [
    "To use the model, we pass it the input data. This executes the model's `forward`,\n",
    "along with some [background operations](https://github.com/pytorch/pytorch/blob/270111b7b611d174967ed204776985cefca9c144/torch/nn/modules/module.py#L866). \n",
    "Do not call `model.forward()` directly!\n",
    "\n",
    "Calling the model on the input returns a 10-dimensional tensor with raw predicted values for each class.\n",
    "We get the prediction densities by passing it through an instance of the `nn.Softmax` module."
   ]
  },
  {
   "cell_type": "code",
   "execution_count": 34,
   "id": "46d9e3dd-2181-4865-9aca-e4f264fd33d2",
   "metadata": {},
   "outputs": [
    {
     "name": "stdout",
     "output_type": "stream",
     "text": [
      "Predicted class: tensor([1])\n"
     ]
    }
   ],
   "source": [
    "X = torch.rand(1, 28, 28, device=device)\n",
    "logits = model(X) \n",
    "pred_probab = nn.Softmax(dim=1)(logits)\n",
    "y_pred = pred_probab.argmax(1)\n",
    "print(f\"Predicted class: {y_pred}\")"
   ]
  },
  {
   "cell_type": "markdown",
   "id": "f6cef079-c007-48fa-9e9b-63179e80ab2e",
   "metadata": {},
   "source": [
    "## Model layers\n",
    "\n",
    "Let's break down the layers in the FashionMNIST model. To illustrate it, we \n",
    "will take a sample minibatch of 3 images of size **28x28** and see what happens to it as \n",
    "we pass it through the network. \n",
    "\n"
   ]
  },
  {
   "cell_type": "code",
   "execution_count": 35,
   "id": "6484cbf5-c3c8-4491-82e2-6b51b42ab1cf",
   "metadata": {},
   "outputs": [
    {
     "name": "stdout",
     "output_type": "stream",
     "text": [
      "torch.Size([3, 28, 28])\n"
     ]
    }
   ],
   "source": [
    "input_image = torch.rand(3,28,28)\n",
    "print(input_image.size())"
   ]
  },
  {
   "cell_type": "markdown",
   "id": "167d9c59-4bb7-4fbb-b6bd-47058b95dfe1",
   "metadata": {},
   "source": [
    "### nn.Flatten\n",
    "\n",
    "We initialize the [nn.Flatten](https://pytorch.org/docs/stable/generated/torch.nn.Flatten.html) \n",
    "layer to convert each 2D 28x28 image into a contiguous array of 784 pixel values (the minibatch dimension (at dim=0) is maintained).\n",
    "\n"
   ]
  },
  {
   "cell_type": "code",
   "execution_count": 36,
   "id": "e19d3603-5937-4866-8d6b-19394fd996d4",
   "metadata": {},
   "outputs": [
    {
     "name": "stdout",
     "output_type": "stream",
     "text": [
      "torch.Size([3, 784])\n"
     ]
    }
   ],
   "source": [
    "flatten = nn.Flatten()\n",
    "flat_image = flatten(input_image)\n",
    "print(flat_image.size())"
   ]
  },
  {
   "cell_type": "markdown",
   "id": "c5b11e0a-5686-496b-bbc5-6f2f637d912b",
   "metadata": {},
   "source": [
    "### nn.Linear \n",
    "\n",
    "The [linear layer](https://pytorch.org/docs/stable/generated/torch.nn.Linear.html)\n",
    "is a module that applies a linear transformation on the input using it's stored weights and biases."
   ]
  },
  {
   "cell_type": "code",
   "execution_count": 37,
   "id": "b13f296e-ba52-4a2c-ae07-a8819d6fa9b0",
   "metadata": {},
   "outputs": [
    {
     "name": "stdout",
     "output_type": "stream",
     "text": [
      "torch.Size([3, 20])\n"
     ]
    }
   ],
   "source": [
    "layer1 = nn.Linear(in_features=28*28, out_features=20)\n",
    "hidden1 = layer1(flat_image)\n",
    "print(hidden1.size())"
   ]
  },
  {
   "cell_type": "markdown",
   "id": "86083de6-8336-45b2-968e-1ee324ce606c",
   "metadata": {},
   "source": [
    "### nn.ReLU\n",
    "\n",
    "Non-linear activations are what create the complex mappings between the model's inputs and outputs.\n",
    "They are applied after linear transformations to introduce *nonlinearity*, helping neural networks\n",
    "learn a wide variety of phenomena.\n",
    "\n",
    "In this model, we use [nn.ReLU](https://pytorch.org/docs/stable/generated/torch.nn.ReLU.html) between our\n",
    "linear layers, but there's other activations to introduce non-linearity in your model."
   ]
  },
  {
   "cell_type": "code",
   "execution_count": 39,
   "id": "7360dfe1-a677-475f-8025-21ac290607f9",
   "metadata": {},
   "outputs": [
    {
     "name": "stdout",
     "output_type": "stream",
     "text": [
      "Before ReLU: tensor([[-0.2654, -0.2184,  0.2783,  0.5403,  0.7280,  0.4964, -0.3080, -0.0197,\n",
      "          0.0419, -0.2154, -0.2838,  0.1765, -0.2642, -0.1541, -0.0168,  0.2139,\n",
      "         -0.1704, -0.1694, -0.3179, -0.1882],\n",
      "        [ 0.0392, -0.0294,  0.0517,  0.3461,  0.5804,  0.7390, -0.2160,  0.2599,\n",
      "          0.4487, -0.0791, -0.3499,  0.1182, -0.2789, -0.3272,  0.1252,  0.2894,\n",
      "          0.0680, -0.2513, -0.7060,  0.0315],\n",
      "        [-0.0136, -0.0447,  0.2069,  0.4127,  0.5514,  0.5462, -0.2410, -0.0335,\n",
      "          0.1270, -0.0924,  0.0065,  0.1721, -0.1624, -0.2227,  0.0791,  0.1166,\n",
      "         -0.3824, -0.1535, -0.4708, -0.2453]], grad_fn=<AddmmBackward>)\n",
      "\n",
      "\n",
      "After ReLU: tensor([[0.0000, 0.0000, 0.2783, 0.5403, 0.7280, 0.4964, 0.0000, 0.0000, 0.0419,\n",
      "         0.0000, 0.0000, 0.1765, 0.0000, 0.0000, 0.0000, 0.2139, 0.0000, 0.0000,\n",
      "         0.0000, 0.0000],\n",
      "        [0.0392, 0.0000, 0.0517, 0.3461, 0.5804, 0.7390, 0.0000, 0.2599, 0.4487,\n",
      "         0.0000, 0.0000, 0.1182, 0.0000, 0.0000, 0.1252, 0.2894, 0.0680, 0.0000,\n",
      "         0.0000, 0.0315],\n",
      "        [0.0000, 0.0000, 0.2069, 0.4127, 0.5514, 0.5462, 0.0000, 0.0000, 0.1270,\n",
      "         0.0000, 0.0065, 0.1721, 0.0000, 0.0000, 0.0791, 0.1166, 0.0000, 0.0000,\n",
      "         0.0000, 0.0000]], grad_fn=<ReluBackward0>)\n"
     ]
    }
   ],
   "source": [
    "print(f\"Before ReLU: {hidden1}\\n\\n\")\n",
    "hidden1 = nn.ReLU()(hidden1)\n",
    "print(f\"After ReLU: {hidden1}\")"
   ]
  },
  {
   "cell_type": "markdown",
   "id": "736aff20-39e3-4717-a4b0-6bdbb7d914e0",
   "metadata": {},
   "source": [
    "### nn.Sequential\n",
    "\n",
    "[nn.Sequential](https://pytorch.org/docs/stable/generated/torch.nn.Sequential.html) is an ordered \n",
    "container of modules. The data is passed through all the modules in the same order as defined. You can use\n",
    "sequential containers to put together a quick network like `seq_modules`.\n",
    "\n"
   ]
  },
  {
   "cell_type": "code",
   "execution_count": 40,
   "id": "0ce031e8-96cf-42ea-9662-f50263420d91",
   "metadata": {},
   "outputs": [],
   "source": [
    "seq_modules = nn.Sequential(\n",
    "    flatten,\n",
    "    layer1,\n",
    "    nn.ReLU(),\n",
    "    nn.Linear(20, 10)\n",
    ")\n",
    "input_image = torch.rand(3,28,28)\n",
    "logits = seq_modules(input_image)"
   ]
  },
  {
   "cell_type": "markdown",
   "id": "0ecab646-f77b-4748-b1fe-5f7b9ef00490",
   "metadata": {},
   "source": [
    "### nn.Softmax\n",
    "\n",
    "The last linear layer of the neural network returns `logits` - raw values in \\[`-infty`, `infty`] - which are passed to the\n",
    "[nn.Softmax](https://pytorch.org/docs/stable/generated/torch.nn.Softmax.html) module. The logits are scaled to values \\[0, 1\\] representing the model's predicted densities for each class. `dim` parameter indicates the dimension along which the values must sum to 1."
   ]
  },
  {
   "cell_type": "code",
   "execution_count": 41,
   "id": "bd169011-4f29-48e0-afb3-64b8cf35d177",
   "metadata": {},
   "outputs": [],
   "source": [
    "softmax = nn.Softmax(dim=1)\n",
    "pred_probab = softmax(logits)"
   ]
  },
  {
   "cell_type": "markdown",
   "id": "1075aae2-0e83-4793-b8d0-98477369ed39",
   "metadata": {},
   "source": [
    "## Model parameters\n",
    "\n",
    "Many layers inside a neural network are *parameterized*, i.e. have associated weights \n",
    "and biases that are optimized during training. Subclassing `nn.Module` automatically \n",
    "tracks all fields defined inside your model object, and makes all parameters \n",
    "accessible using your model's `parameters()` or `named_parameters()` methods.\n",
    "\n",
    "In this example, we iterate over each parameter, and print its size and a preview of its values.\n"
   ]
  },
  {
   "cell_type": "code",
   "execution_count": 42,
   "id": "8c733cb2-ba48-4c64-a543-530b20694489",
   "metadata": {},
   "outputs": [
    {
     "name": "stdout",
     "output_type": "stream",
     "text": [
      "Model structure:  NeuralNetwork(\n",
      "  (flatten): Flatten(start_dim=1, end_dim=-1)\n",
      "  (linear_relu_stack): Sequential(\n",
      "    (0): Linear(in_features=784, out_features=512, bias=True)\n",
      "    (1): ReLU()\n",
      "    (2): Linear(in_features=512, out_features=512, bias=True)\n",
      "    (3): ReLU()\n",
      "    (4): Linear(in_features=512, out_features=10, bias=True)\n",
      "    (5): ReLU()\n",
      "  )\n",
      ") \n",
      "\n",
      "\n",
      "Layer: linear_relu_stack.0.weight | Size: torch.Size([512, 784]) | Values : tensor([[ 0.0044, -0.0338, -0.0028,  ...,  0.0221,  0.0038,  0.0159],\n",
      "        [-0.0098,  0.0138, -0.0083,  ...,  0.0127, -0.0288, -0.0060]],\n",
      "       grad_fn=<SliceBackward>) \n",
      "\n",
      "Layer: linear_relu_stack.0.bias | Size: torch.Size([512]) | Values : tensor([ 0.0074, -0.0212], grad_fn=<SliceBackward>) \n",
      "\n",
      "Layer: linear_relu_stack.2.weight | Size: torch.Size([512, 512]) | Values : tensor([[-0.0037, -0.0277,  0.0136,  ...,  0.0149, -0.0198,  0.0266],\n",
      "        [-0.0219, -0.0102, -0.0435,  ...,  0.0213,  0.0313,  0.0231]],\n",
      "       grad_fn=<SliceBackward>) \n",
      "\n",
      "Layer: linear_relu_stack.2.bias | Size: torch.Size([512]) | Values : tensor([ 0.0002, -0.0257], grad_fn=<SliceBackward>) \n",
      "\n",
      "Layer: linear_relu_stack.4.weight | Size: torch.Size([10, 512]) | Values : tensor([[ 0.0026, -0.0381,  0.0380,  ..., -0.0142,  0.0297,  0.0428],\n",
      "        [-0.0183, -0.0438,  0.0123,  ...,  0.0095,  0.0011,  0.0197]],\n",
      "       grad_fn=<SliceBackward>) \n",
      "\n",
      "Layer: linear_relu_stack.4.bias | Size: torch.Size([10]) | Values : tensor([-0.0119,  0.0210], grad_fn=<SliceBackward>) \n",
      "\n"
     ]
    }
   ],
   "source": [
    "print(\"Model structure: \", model, \"\\n\\n\")\n",
    "\n",
    "for name, param in model.named_parameters():\n",
    "    print(f\"Layer: {name} | Size: {param.size()} | Values : {param[:2]} \\n\")"
   ]
  },
  {
   "cell_type": "markdown",
   "id": "178dbe0a-e027-4c71-88a2-d0a891f11fbc",
   "metadata": {},
   "source": [
    "## Automatic differentiation with ``torch.autograd``\n",
    "\n",
    "When training neural networks, the most frequently used algorithm is\n",
    "**back propagation**. In this algorithm, parameters (model weights) are\n",
    "adjusted according to the **gradient** of the loss function with respect\n",
    "to the given parameter.\n",
    "\n",
    "To compute those gradients, PyTorch has a built-in differentiation engine\n",
    "called `torch.autograd`. It supports automatic computation of gradient for any\n",
    "computational graph.\n",
    "\n",
    "Consider the simplest one-layer neural network, with input `x`,\n",
    "parameters `w` and `b`, and some loss function. It can be defined in\n",
    "PyTorch in the following manner:"
   ]
  },
  {
   "cell_type": "code",
   "execution_count": 43,
   "id": "3975bcb2-f02d-4e32-9c98-82d839360815",
   "metadata": {},
   "outputs": [],
   "source": [
    "import torch\n",
    "\n",
    "x = torch.ones(5)  # input tensor\n",
    "y = torch.zeros(3)  # expected output\n",
    "w = torch.randn(5, 3, requires_grad=True)\n",
    "b = torch.randn(3, requires_grad=True)\n",
    "z = torch.matmul(x, w)+b\n",
    "loss = torch.nn.functional.binary_cross_entropy_with_logits(z, y)"
   ]
  },
  {
   "cell_type": "markdown",
   "id": "e547c050-3cc0-4f95-9177-aaeaa3526b20",
   "metadata": {},
   "source": [
    "## Tensors, Functions and Computational graph\n",
    "\n",
    "This code defines the following **computational graph**:\n",
    "\n",
    "![Diagram showing a computational graph with two parameters 'w' and 'b' to compute the gradients of loss.](computational-graph.png)\n",
    "\n",
    "In this network, `w` and `b` are **parameters**, which we need to\n",
    "optimize. Thus, we need to be able to compute the gradients of loss\n",
    "function with respect to those variables. In order to do that, we set\n",
    "the `requires_grad` property of those tensors.\n",
    "\n",
    "> **Note:** You can set the value of `requires_grad` when creating a tensor, or later by using `x.requires_grad_(True)` method.\n",
    "\n",
    "A function that we apply to tensors to construct computational graph is\n",
    "in fact an object of class `Function`. This object knows how to\n",
    "compute the function in the *forward* direction, and also how to compute\n",
    "its derivative during the *backward propagation* step. A reference to\n",
    "the backward propagation function is stored in `grad_fn` property of a\n",
    "tensor. You can find more information of `Function` [in the\n",
    "documentation](https://pytorch.org/docs/stable/autograd.html#function)."
   ]
  },
  {
   "cell_type": "code",
   "execution_count": 44,
   "id": "5f5fa6ae-e7e7-404b-b545-387ba9d8a42a",
   "metadata": {},
   "outputs": [
    {
     "name": "stdout",
     "output_type": "stream",
     "text": [
      "Gradient function for z = <AddBackward0 object at 0x16217dc10>\n",
      "Gradient function for loss = <BinaryCrossEntropyWithLogitsBackward object at 0x16217dee0>\n"
     ]
    }
   ],
   "source": [
    "print('Gradient function for z =',z.grad_fn)\n",
    "print('Gradient function for loss =', loss.grad_fn)"
   ]
  },
  {
   "cell_type": "markdown",
   "id": "324ac62c-6858-44e2-9ac4-d4772de8e96f",
   "metadata": {},
   "source": [
    "## Computing gradients\n",
    "\n",
    "To optimize weights of parameters in the neural network, we need to\n",
    "compute the derivatives of our loss function with respect to parameters,\n",
    "namely, we need $\\frac{\\partial loss}{\\partial w}$ and\n",
    "$\\frac{\\partial loss}{\\partial b}$ under some fixed values of\n",
    "`x` and `y`. To compute those derivatives, we call\n",
    "`loss.backward()`, and then retrieve the values from `w.grad` and\n",
    "`b.grad`:"
   ]
  },
  {
   "cell_type": "code",
   "execution_count": 45,
   "id": "abdbb955-cf53-4d13-9b68-28b103e96f20",
   "metadata": {},
   "outputs": [
    {
     "name": "stdout",
     "output_type": "stream",
     "text": [
      "tensor([[0.1524, 0.1544, 0.0013],\n",
      "        [0.1524, 0.1544, 0.0013],\n",
      "        [0.1524, 0.1544, 0.0013],\n",
      "        [0.1524, 0.1544, 0.0013],\n",
      "        [0.1524, 0.1544, 0.0013]])\n",
      "tensor([0.1524, 0.1544, 0.0013])\n"
     ]
    }
   ],
   "source": [
    "loss.backward()\n",
    "print(w.grad)\n",
    "print(b.grad)"
   ]
  },
  {
   "cell_type": "markdown",
   "id": "297cdbca-bd7b-4700-b671-6adb19e9cb0c",
   "metadata": {},
   "source": [
    "> **Note:** We can only obtain the `grad` properties for the leaf nodes of the computational graph, which have `requires_grad` property set to ``True``. For all other nodes in our graph, gradients will not be available. In addition, we can only perform gradient calculations using ``backward`` once on a given graph, for performance reasons. If we need to do several ``backward`` calls on the same graph, we need to pass ``retain_graph=True`` to the ``backward`` call.\n",
    "\n",
    "## Disabling gradient tracking\n",
    "\n",
    "By default, all tensors with `requires_grad=True` are tracking their\n",
    "computational history and support gradient computation. However, there\n",
    "are some cases when we do not need to do that, for example, when we have\n",
    "trained the model and just want to apply it to some input data, i.e. we\n",
    "only want to do *forward* computations through the network. We can stop\n",
    "tracking computations by surrounding our computation code with\n",
    "`torch.no_grad()` block:"
   ]
  },
  {
   "cell_type": "code",
   "execution_count": 46,
   "id": "c11aba37-5602-4fb4-8a06-670d28db2ee2",
   "metadata": {},
   "outputs": [
    {
     "name": "stdout",
     "output_type": "stream",
     "text": [
      "True\n",
      "False\n"
     ]
    }
   ],
   "source": [
    "z = torch.matmul(x, w)+b\n",
    "print(z.requires_grad)\n",
    "\n",
    "with torch.no_grad():\n",
    "    z = torch.matmul(x, w)+b\n",
    "print(z.requires_grad)"
   ]
  },
  {
   "cell_type": "markdown",
   "id": "6ba54afe-2c50-4142-ac3b-f0b6c9063f31",
   "metadata": {},
   "source": [
    "Another way to achieve the same result is to use the ``detach()`` method\n",
    "on the tensor:\n"
   ]
  },
  {
   "cell_type": "code",
   "execution_count": 47,
   "id": "02592b70-81c8-4259-a825-e7a6f912a2aa",
   "metadata": {},
   "outputs": [
    {
     "name": "stdout",
     "output_type": "stream",
     "text": [
      "False\n"
     ]
    }
   ],
   "source": [
    "z = torch.matmul(x, w)+b\n",
    "z_det = z.detach()\n",
    "print(z_det.requires_grad)"
   ]
  },
  {
   "cell_type": "markdown",
   "id": "b5fc542c-6f18-4714-a2b8-d49a51ebff00",
   "metadata": {},
   "source": [
    "There are reasons you might want to disable gradient tracking:\n",
    "  - To mark some parameters in your neural network at **frozen parameters**. This is\n",
    "    a very common scenario for\n",
    "    [fine tuning a pre-trained network](https://pytorch.org/tutorials/beginner/finetuning_torchvision_models_tutorial.html)\n",
    "  - To **speed up computations** when you are only doing forward pass, because computations on tensors that do\n",
    "    not track gradients would be more efficient.\n",
    "\n"
   ]
  },
  {
   "cell_type": "markdown",
   "id": "703bb5dd-b1d9-4638-bb81-41742759dfff",
   "metadata": {},
   "source": [
    "More on Computational Graphs\n",
    "----------------------------\n",
    "Conceptually, autograd keeps a record of data (tensors) and all executed\n",
    "operations (along with the resulting new tensors) in a directed acyclic\n",
    "graph (DAG) consisting of\n",
    "[Function](https://pytorch.org/docs/stable/autograd.html#torch.autograd.Function)\n",
    "objects. In this DAG, leaves are the input tensors, roots are the output\n",
    "tensors. By tracing this graph from roots to leaves, you can\n",
    "automatically compute the gradients using the chain rule.\n",
    "\n",
    "In a forward pass, autograd does two things simultaneously:\n",
    "\n",
    "- run the requested operation to compute a resulting tensor\n",
    "- maintain the operation’s *gradient function* in the DAG.\n",
    "\n",
    "The backward pass kicks off when `.backward()` is called on the DAG\n",
    "root. `autograd` then:\n",
    "\n",
    "- computes the gradients from each `.grad_fn`,\n",
    "- accumulates them in the respective tensor’s `.grad` attribute\n",
    "- using the chain rule, propagates all the way to the leaf tensors.\n",
    "\n",
    "**DAGs are dynamic in PyTorch**\n",
    "\n",
    "  An important thing to note is that the graph is recreated from scratch; after each\n",
    "  `.backward()` call, autograd starts populating a new graph. This is\n",
    "  exactly what allows you to use control flow statements in your model;\n",
    "  you can change the shape, size and operations at every iteration if\n",
    "  needed.\n",
    "\n"
   ]
  },
  {
   "cell_type": "markdown",
   "id": "794bcb1e-e895-4c40-ba0e-99304df04d08",
   "metadata": {},
   "source": [
    "## Optional reading: Tensor gradients and Jacobian products\n",
    "\n",
    "In many cases, we have a scalar loss function, and we need to compute\n",
    "the gradient with respect to some parameters. However, there are cases\n",
    "when the output function is an arbitrary tensor. In this case, PyTorch\n",
    "allows you to compute so-called **Jacobian product**, and not the actual\n",
    "gradient.\n",
    "\n",
    "For a vector function $\\vec{y}=f(\\vec{x})$, where\n",
    "$\\vec{x}=\\langle x_1,\\dots,x_n\\rangle$ and\n",
    "$\\vec{y}=\\langle y_1,\\dots,y_m\\rangle$, a gradient of\n",
    "$\\vec{y}$ with respect to $\\vec{x}$ is given by **Jacobian\n",
    "matrix**:\n",
    "\n",
    "\\begin{align}\\begin{align}J=\\left(\\begin{array}{ccc}\n",
    "      \\frac{\\partial y_{1}}{\\partial x_{1}} & \\cdots & \\frac{\\partial y_{1}}{\\partial x_{n}}\\\\\n",
    "      \\vdots & \\ddots & \\vdots\\\\\n",
    "      \\frac{\\partial y_{m}}{\\partial x_{1}} & \\cdots & \\frac{\\partial y_{m}}{\\partial x_{n}}\n",
    "      \\end{array}\\right)\\end{align}\\end{align}\n",
    "\n",
    "Instead of computing the Jacobian matrix itself, PyTorch allows you to\n",
    "compute **Jacobian Product** $v^T\\cdot J$ for a given input vector\n",
    "$v=(v_1 \\dots v_m)$. This is achieved by calling `backward` with\n",
    "$v$ as an argument. The size of $v$ should be the same as\n",
    "the size of the original tensor, with respect to which we want to\n",
    "compute the product:\n",
    "\n",
    "\n"
   ]
  },
  {
   "cell_type": "code",
   "execution_count": 48,
   "id": "69887eb8-ba42-487a-86d7-75d2abe7edc1",
   "metadata": {},
   "outputs": [
    {
     "name": "stdout",
     "output_type": "stream",
     "text": [
      "First call\n",
      " tensor([[4., 2., 2., 2., 2.],\n",
      "        [2., 4., 2., 2., 2.],\n",
      "        [2., 2., 4., 2., 2.],\n",
      "        [2., 2., 2., 4., 2.],\n",
      "        [2., 2., 2., 2., 4.]])\n",
      "\n",
      "Second call\n",
      " tensor([[8., 4., 4., 4., 4.],\n",
      "        [4., 8., 4., 4., 4.],\n",
      "        [4., 4., 8., 4., 4.],\n",
      "        [4., 4., 4., 8., 4.],\n",
      "        [4., 4., 4., 4., 8.]])\n",
      "\n",
      "Call after zeroing gradients\n",
      " tensor([[4., 2., 2., 2., 2.],\n",
      "        [2., 4., 2., 2., 2.],\n",
      "        [2., 2., 4., 2., 2.],\n",
      "        [2., 2., 2., 4., 2.],\n",
      "        [2., 2., 2., 2., 4.]])\n"
     ]
    }
   ],
   "source": [
    "inp = torch.eye(5, requires_grad=True)\n",
    "out = (inp+1).pow(2)\n",
    "out.backward(torch.ones_like(inp), retain_graph=True)\n",
    "print(\"First call\\n\", inp.grad)\n",
    "out.backward(torch.ones_like(inp), retain_graph=True)\n",
    "print(\"\\nSecond call\\n\", inp.grad)\n",
    "inp.grad.zero_()\n",
    "out.backward(torch.ones_like(inp), retain_graph=True)\n",
    "print(\"\\nCall after zeroing gradients\\n\", inp.grad)"
   ]
  },
  {
   "cell_type": "markdown",
   "id": "f8c4d2d7-e5f3-4f7c-b3e6-9ef23c5be655",
   "metadata": {},
   "source": [
    "Notice that when we call `backward` for the second time with the same\n",
    "argument, the value of the gradient is different. This happens because\n",
    "when doing `backward` propagation, PyTorch **accumulates the\n",
    "gradients**, i.e. the value of computed gradients is added to the\n",
    "`grad` property of all leaf nodes of computational graph. If you want\n",
    "to compute the proper gradients, you need to zero out the `grad`\n",
    "property before. In real-life training an *optimizer* helps us to do\n",
    "this.\n",
    "\n"
   ]
  },
  {
   "cell_type": "markdown",
   "id": "2d104e65-820b-4261-8d8f-69474edde9d7",
   "metadata": {},
   "source": [
    "> **Note:** previously we were calling `backward()` function without parameters. This is equivalent to calling `backward(torch.tensor(1.0))`, which is a useful way to compute the gradients in case of a scalar-valued function, such as loss during neural network training.\n",
    "\n"
   ]
  },
  {
   "cell_type": "markdown",
   "id": "51446238-c135-4dc9-87b0-011444d84340",
   "metadata": {},
   "source": [
    "# Optimizing the model parameters\n",
    "\n",
    "Now that we have a model and data it's time to train, validate and test our model by optimizing its parameters on our data. Training a model is an iterative process; in each iteration (called an *epoch*) the model makes a guess about the output, calculates the error in its guess (*loss*), collects the derivatives of the error with respect to its parameters (as we saw in the module), and **optimizes** these parameters using gradient descent. For a more detailed walkthrough of this process, check out this video on [backpropagation from 3Blue1Brown](https://www.youtube.com/watch?v=tIeHLnjs5U8).\n",
    "\n",
    "## Prerequisite code \n",
    "\n",
    "We load the code from the previous modules on **Datasets & DataLoaders** and **Build Model**\n",
    "\n"
   ]
  },
  {
   "cell_type": "code",
   "execution_count": 50,
   "id": "a29934b8-91b3-4b87-b529-0a56f9809f38",
   "metadata": {},
   "outputs": [],
   "source": [
    "import torch\n",
    "from torch import nn\n",
    "from torch.utils.data import DataLoader\n",
    "from torchvision import datasets\n",
    "from torchvision.transforms import ToTensor, Lambda\n",
    "\n",
    "training_data = datasets.FashionMNIST(\n",
    "    root=\"data\",\n",
    "    train=True,\n",
    "    download=True,\n",
    "    transform=ToTensor()\n",
    ")\n",
    "\n",
    "test_data = datasets.FashionMNIST(\n",
    "    root=\"data\",\n",
    "    train=False,\n",
    "    download=True,\n",
    "    transform=ToTensor()\n",
    ")\n",
    "\n",
    "train_dataloader = DataLoader(training_data, batch_size=64)\n",
    "test_dataloader = DataLoader(test_data, batch_size=64)\n",
    "\n",
    "class NeuralNetwork(nn.Module):\n",
    "    def __init__(self):\n",
    "        super(NeuralNetwork, self).__init__()\n",
    "        self.flatten = nn.Flatten()\n",
    "        self.linear_relu_stack = nn.Sequential(\n",
    "            nn.Linear(28*28, 512),\n",
    "            nn.ReLU(),\n",
    "            nn.Linear(512, 512),\n",
    "            nn.ReLU(),\n",
    "            nn.Linear(512, 10),\n",
    "            nn.ReLU()\n",
    "        )\n",
    "\n",
    "    def forward(self, x):\n",
    "        x = self.flatten(x)\n",
    "        logits = self.linear_relu_stack(x)\n",
    "        return logits\n",
    "\n",
    "model = NeuralNetwork()"
   ]
  },
  {
   "cell_type": "markdown",
   "id": "eb86d1a8-99d7-4b9f-943f-7030e457ee5c",
   "metadata": {},
   "source": [
    "## Setting hyperparameters \n",
    "\n",
    "Hyperparameters are adjustable parameters that let you control the model optimization process. \n",
    "Different hyperparameter values can impact model training and convergence rates \n",
    "([read more](https://pytorch.org/tutorials/beginner/hyperparameter_tuning_tutorial.html) about hyperparameter tuning)\n",
    "\n",
    "We define the following hyperparameters for training:\n",
    " - **Number of Epochs** - the number times to iterate over the dataset\n",
    " - **Batch Size** - the number of data samples seen by the model in each epoch\n",
    " - **Learning Rate** - how much to update models parameters at each batch/epoch. Smaller values yield slow learning speed, while large values may result in unpredictable behavior during training."
   ]
  },
  {
   "cell_type": "code",
   "execution_count": 52,
   "id": "409b6232-bebc-4be4-a29a-391ec3a95bb7",
   "metadata": {},
   "outputs": [],
   "source": [
    "learning_rate = 1e-3\n",
    "batch_size = 64\n",
    "epochs = 5"
   ]
  },
  {
   "cell_type": "markdown",
   "id": "a48a2d21-399c-4f87-a2d2-206d6bf5186a",
   "metadata": {},
   "source": [
    "## Add an optimization loop\n",
    "\n",
    "Once we set our hyperparameters, we can then train and optimize our model with an optimization loop. Each \n",
    "iteration of the optimization loop is called an **epoch**. \n",
    "\n",
    "Each epoch consists of two main parts:\n",
    " - **The Train Loop** - iterate over the training dataset and try to converge to optimal parameters.\n",
    " - **The Validation/Test Loop** - iterate over the test dataset to check if model performance is improving.\n",
    "\n",
    "Let's briefly familiarize ourselves with some of the concepts used in the training loop. Jump ahead to \n",
    "see the `full-impl-label` of the optimization loop.\n",
    "\n",
    "### Add a loss function\n",
    "\n",
    "When presented with some training data, our untrained network is likely not to give the correct \n",
    "answer. **Loss function** measures the degree of dissimilarity of obtained result to the target value, \n",
    "and it is the loss function that we want to minimize during training. To calculate the loss we make a \n",
    "prediction using the inputs of our given data sample and compare it against the true data label value.\n",
    "\n",
    "Common loss functions include [nn.MSELoss](https://pytorch.org/docs/stable/generated/torch.nn.MSELoss.html#torch.nn.MSELoss) (Mean Square Error) for regression tasks, and \n",
    "[nn.NLLLoss](https://pytorch.org/docs/stable/generated/torch.nn.NLLLoss.html#torch.nn.NLLLoss) (Negative Log Likelihood) for classification. \n",
    "[nn.CrossEntropyLoss](https://pytorch.org/docs/stable/generated/torch.nn.CrossEntropyLoss.html#torch.nn.CrossEntropyLoss) combines `nn.LogSoftmax` and `nn.NLLLoss`.\n",
    "\n",
    "We pass our model's output logits to `nn.CrossEntropyLoss`, which will normalize the logits and compute the prediction error."
   ]
  },
  {
   "cell_type": "code",
   "execution_count": 53,
   "id": "768d9ca7-8927-4028-8354-9693869995c4",
   "metadata": {},
   "outputs": [],
   "source": [
    "# Initialize the loss function\n",
    "loss_fn = nn.CrossEntropyLoss()"
   ]
  },
  {
   "cell_type": "markdown",
   "id": "fa618803-6646-419b-863a-e1ffb17c7b73",
   "metadata": {},
   "source": [
    "### Optimization pass\n",
    "\n",
    "Optimization is the process of adjusting model parameters to reduce model error in each training step. **Optimization algorithms** define how this process is performed (in this example we use Stochastic Gradient Descent).\n",
    "All optimization logic is encapsulated in  the ``optimizer`` object. Here, we use the SGD optimizer; additionally, there are many [different optimizers](https://pytorch.org/docs/stable/optim.html) \n",
    "available in PyTorch such as ADAM and RMSProp, that work better for different kinds of models and data.\n",
    "\n",
    "We initialize the optimizer by registering the model's parameters that need to be trained, and passing in the learning rate hyperparameter.\n",
    "\n"
   ]
  },
  {
   "cell_type": "code",
   "execution_count": 55,
   "id": "714a94d6-373f-4806-8091-ae0c91a3f899",
   "metadata": {},
   "outputs": [],
   "source": [
    "optimizer = torch.optim.SGD(model.parameters(), lr=learning_rate)"
   ]
  },
  {
   "cell_type": "markdown",
   "id": "5e3cb03d-48ef-4cc9-b0ef-b652718a41dd",
   "metadata": {},
   "source": [
    "Inside the training loop, optimization happens in three steps:\n",
    " * Call `optimizer.zero_grad()` to reset the gradients of model parameters. Gradients by default add up; to prevent double-counting, we explicitly zero them at each iteration.\n",
    " * Back-propagate the prediction loss with a call to `loss.backwards()`. PyTorch deposits the gradients of the loss w.r.t. each parameter. \n",
    " * Once we have our gradients, we call ``optimizer.step()`` to adjust the parameters by the gradients collected in the backward pass."
   ]
  },
  {
   "cell_type": "markdown",
   "id": "d8d0af0d-ccec-47b3-a685-d0db0da83d65",
   "metadata": {},
   "source": [
    "## Full implementation\n",
    "\n",
    "We define `train_loop` that loops over our optimization code, and `test_loop` that \n",
    "evaluates the model's performance against our test data."
   ]
  },
  {
   "cell_type": "code",
   "execution_count": 56,
   "id": "092e4ef0-b700-4e47-9cba-4285667d8aa6",
   "metadata": {},
   "outputs": [],
   "source": [
    "def train_loop(dataloader, model, loss_fn, optimizer):\n",
    "    size = len(dataloader.dataset)\n",
    "    for batch, (X, y) in enumerate(dataloader):        \n",
    "        # Compute prediction and loss\n",
    "        pred = model(X)\n",
    "        loss = loss_fn(pred, y)\n",
    "        \n",
    "        # Backpropagation\n",
    "        optimizer.zero_grad()\n",
    "        loss.backward()\n",
    "        optimizer.step()\n",
    "\n",
    "        if batch % 100 == 0:\n",
    "            loss, current = loss.item(), batch * len(X)\n",
    "            print(f\"loss: {loss:>7f}  [{current:>5d}/{size:>5d}]\")\n",
    "\n",
    "\n",
    "def test_loop(dataloader, model, loss_fn):\n",
    "    size = len(dataloader.dataset)\n",
    "    test_loss, correct = 0, 0\n",
    "\n",
    "    with torch.no_grad():\n",
    "        for X, y in dataloader:\n",
    "            pred = model(X)\n",
    "            test_loss += loss_fn(pred, y).item()\n",
    "            correct += (pred.argmax(1) == y).type(torch.float).sum().item()\n",
    "            \n",
    "    test_loss /= size\n",
    "    correct /= size\n",
    "    print(f\"Test Error: \\n Accuracy: {(100*correct):>0.1f}%, Avg loss: {test_loss:>8f} \\n\")"
   ]
  },
  {
   "cell_type": "markdown",
   "id": "92eb3ddc-9c2f-4b6f-8764-3f36185dd69c",
   "metadata": {},
   "source": [
    "We initialize the loss function and optimizer, and pass it to `train_loop` and `test_loop`.\n",
    "Feel free to increase the number of epochs to track the model's improving performance."
   ]
  },
  {
   "cell_type": "code",
   "execution_count": 57,
   "id": "88957a72-e2c4-4acd-91aa-1921e897f133",
   "metadata": {},
   "outputs": [
    {
     "name": "stdout",
     "output_type": "stream",
     "text": [
      "Epoch 1\n",
      "-------------------------------\n",
      "loss: 2.296274  [    0/60000]\n",
      "loss: 2.295595  [ 6400/60000]\n",
      "loss: 2.275837  [12800/60000]\n",
      "loss: 2.273094  [19200/60000]\n",
      "loss: 2.269170  [25600/60000]\n",
      "loss: 2.250658  [32000/60000]\n",
      "loss: 2.262363  [38400/60000]\n",
      "loss: 2.235126  [44800/60000]\n",
      "loss: 2.231316  [51200/60000]\n",
      "loss: 2.224532  [57600/60000]\n",
      "Test Error: \n",
      " Accuracy: 44.6%, Avg loss: 0.034673 \n",
      "\n",
      "Epoch 2\n",
      "-------------------------------\n",
      "loss: 2.218721  [    0/60000]\n",
      "loss: 2.222688  [ 6400/60000]\n",
      "loss: 2.155261  [12800/60000]\n",
      "loss: 2.170505  [19200/60000]\n",
      "loss: 2.164008  [25600/60000]\n",
      "loss: 2.122691  [32000/60000]\n",
      "loss: 2.167369  [38400/60000]\n",
      "loss: 2.104836  [44800/60000]\n",
      "loss: 2.115127  [51200/60000]\n",
      "loss: 2.089954  [57600/60000]\n",
      "Test Error: \n",
      " Accuracy: 45.9%, Avg loss: 0.032326 \n",
      "\n",
      "Epoch 3\n",
      "-------------------------------\n",
      "loss: 2.088562  [    0/60000]\n",
      "loss: 2.091011  [ 6400/60000]\n",
      "loss: 1.946095  [12800/60000]\n",
      "loss: 1.989668  [19200/60000]\n",
      "loss: 1.985339  [25600/60000]\n",
      "loss: 1.907883  [32000/60000]\n",
      "loss: 2.007047  [38400/60000]\n",
      "loss: 1.891167  [44800/60000]\n",
      "loss: 1.940774  [51200/60000]\n",
      "loss: 1.896597  [57600/60000]\n",
      "Test Error: \n",
      " Accuracy: 46.9%, Avg loss: 0.028913 \n",
      "\n",
      "Epoch 4\n",
      "-------------------------------\n",
      "loss: 1.903422  [    0/60000]\n",
      "loss: 1.901368  [ 6400/60000]\n",
      "loss: 1.668062  [12800/60000]\n",
      "loss: 1.762158  [19200/60000]\n",
      "loss: 1.778427  [25600/60000]\n",
      "loss: 1.673706  [32000/60000]\n",
      "loss: 1.846427  [38400/60000]\n",
      "loss: 1.688769  [44800/60000]\n",
      "loss: 1.786529  [51200/60000]\n",
      "loss: 1.746811  [57600/60000]\n",
      "Test Error: \n",
      " Accuracy: 50.7%, Avg loss: 0.026104 \n",
      "\n",
      "Epoch 5\n",
      "-------------------------------\n",
      "loss: 1.743354  [    0/60000]\n",
      "loss: 1.748774  [ 6400/60000]\n",
      "loss: 1.456414  [12800/60000]\n",
      "loss: 1.599643  [19200/60000]\n",
      "loss: 1.634137  [25600/60000]\n",
      "loss: 1.521032  [32000/60000]\n",
      "loss: 1.741806  [38400/60000]\n",
      "loss: 1.566117  [44800/60000]\n",
      "loss: 1.681425  [51200/60000]\n",
      "loss: 1.659257  [57600/60000]\n",
      "Test Error: \n",
      " Accuracy: 53.6%, Avg loss: 0.024315 \n",
      "\n",
      "Epoch 6\n",
      "-------------------------------\n",
      "loss: 1.629140  [    0/60000]\n",
      "loss: 1.650650  [ 6400/60000]\n",
      "loss: 1.321247  [12800/60000]\n",
      "loss: 1.496238  [19200/60000]\n",
      "loss: 1.529142  [25600/60000]\n",
      "loss: 1.420874  [32000/60000]\n",
      "loss: 1.663845  [38400/60000]\n",
      "loss: 1.483210  [44800/60000]\n",
      "loss: 1.598415  [51200/60000]\n",
      "loss: 1.591469  [57600/60000]\n",
      "Test Error: \n",
      " Accuracy: 55.5%, Avg loss: 0.023008 \n",
      "\n",
      "Epoch 7\n",
      "-------------------------------\n",
      "loss: 1.538682  [    0/60000]\n",
      "loss: 1.580361  [ 6400/60000]\n",
      "loss: 1.225245  [12800/60000]\n",
      "loss: 1.420857  [19200/60000]\n",
      "loss: 1.448573  [25600/60000]\n",
      "loss: 1.344594  [32000/60000]\n",
      "loss: 1.599364  [38400/60000]\n",
      "loss: 1.418898  [44800/60000]\n",
      "loss: 1.529716  [51200/60000]\n",
      "loss: 1.532528  [57600/60000]\n",
      "Test Error: \n",
      " Accuracy: 56.8%, Avg loss: 0.021980 \n",
      "\n",
      "Epoch 8\n",
      "-------------------------------\n",
      "loss: 1.462797  [    0/60000]\n",
      "loss: 1.523123  [ 6400/60000]\n",
      "loss: 1.150795  [12800/60000]\n",
      "loss: 1.361474  [19200/60000]\n",
      "loss: 1.386033  [25600/60000]\n",
      "loss: 1.282177  [32000/60000]\n",
      "loss: 1.545971  [38400/60000]\n",
      "loss: 1.358985  [44800/60000]\n",
      "loss: 1.440453  [51200/60000]\n",
      "loss: 1.403094  [57600/60000]\n",
      "Test Error: \n",
      " Accuracy: 57.8%, Avg loss: 0.020622 \n",
      "\n",
      "Epoch 9\n",
      "-------------------------------\n",
      "loss: 1.375148  [    0/60000]\n",
      "loss: 1.453028  [ 6400/60000]\n",
      "loss: 1.070265  [12800/60000]\n",
      "loss: 1.232007  [19200/60000]\n",
      "loss: 1.286826  [25600/60000]\n",
      "loss: 1.183269  [32000/60000]\n",
      "loss: 1.371153  [38400/60000]\n",
      "loss: 1.252778  [44800/60000]\n",
      "loss: 1.294522  [51200/60000]\n",
      "loss: 1.192706  [57600/60000]\n",
      "Test Error: \n",
      " Accuracy: 62.6%, Avg loss: 0.018786 \n",
      "\n",
      "Epoch 10\n",
      "-------------------------------\n",
      "loss: 1.264621  [    0/60000]\n",
      "loss: 1.363119  [ 6400/60000]\n",
      "loss: 0.982406  [12800/60000]\n",
      "loss: 1.104760  [19200/60000]\n",
      "loss: 1.191599  [25600/60000]\n",
      "loss: 1.089283  [32000/60000]\n",
      "loss: 1.234850  [38400/60000]\n",
      "loss: 1.167037  [44800/60000]\n",
      "loss: 1.189164  [51200/60000]\n",
      "loss: 1.057075  [57600/60000]\n",
      "Test Error: \n",
      " Accuracy: 65.4%, Avg loss: 0.017398 \n",
      "\n",
      "Done!\n"
     ]
    }
   ],
   "source": [
    "loss_fn = nn.CrossEntropyLoss()\n",
    "optimizer = torch.optim.SGD(model.parameters(), lr=learning_rate)\n",
    "\n",
    "epochs = 10\n",
    "for t in range(epochs):\n",
    "    print(f\"Epoch {t+1}\\n-------------------------------\")\n",
    "    train_loop(train_dataloader, model, loss_fn, optimizer)\n",
    "    test_loop(test_dataloader, model, loss_fn)\n",
    "print(\"Done!\")"
   ]
  },
  {
   "cell_type": "markdown",
   "id": "b9bd7162-4b6d-4370-99f1-4d54a538f464",
   "metadata": {},
   "source": [
    "You may have noticed that the model is initially not very good (that's OK!). Try running the loop for more `epochs` or adjusting the `learning_rate` to a bigger number. It might also be the case that the model configuration we chose might not be the optimal one for this kind of problem (it isn't). Later courses will delve more into the model shapes that work for vision problems.\n"
   ]
  },
  {
   "cell_type": "markdown",
   "id": "662962e6-04c5-4fb2-89b8-aa6cb7163121",
   "metadata": {},
   "source": [
    "# Save and load the model\n",
    "\n",
    "In this unit we will look at how to persist model state with saving, loading and running model predictions.\n"
   ]
  },
  {
   "cell_type": "code",
   "execution_count": 58,
   "id": "35174a61-5739-46a0-93e8-3dd87990c37b",
   "metadata": {},
   "outputs": [],
   "source": [
    "import torch\n",
    "import torch.onnx as onnx\n",
    "import torchvision.models as models"
   ]
  },
  {
   "cell_type": "markdown",
   "id": "5dbc7f66-4ba1-4491-8e67-2b178692ae8d",
   "metadata": {},
   "source": [
    "## Saving and loading model weights\n",
    "\n",
    "PyTorch models store the learned parameters in an internal state dictionary, called `state_dict`. These can be persisted via the `torch.save` method:\n",
    "\n"
   ]
  },
  {
   "cell_type": "code",
   "execution_count": 59,
   "id": "e2a72bb3-39c7-46e2-98f0-0bc79200fb65",
   "metadata": {},
   "outputs": [
    {
     "name": "stderr",
     "output_type": "stream",
     "text": [
      "Downloading: \"https://download.pytorch.org/models/vgg16-397923af.pth\" to /Users/hiber/.cache/torch/hub/checkpoints/vgg16-397923af.pth\n"
     ]
    },
    {
     "data": {
      "application/vnd.jupyter.widget-view+json": {
       "model_id": "770c10f3e24a46639db99fa33a2e1b58",
       "version_major": 2,
       "version_minor": 0
      },
      "text/plain": [
       "  0%|          | 0.00/528M [00:00<?, ?B/s]"
      ]
     },
     "metadata": {},
     "output_type": "display_data"
    }
   ],
   "source": [
    "model = models.vgg16(pretrained=True)\n",
    "torch.save(model.state_dict(), 'data/model_weights.pth')"
   ]
  },
  {
   "cell_type": "markdown",
   "id": "f1a6cfd9-48c6-45fd-b85b-ea15511781cc",
   "metadata": {},
   "source": [
    "To load model weights, you need to create an instance of the same model first, and then load the parameters using the `load_state_dict()` method.\n",
    "\n"
   ]
  },
  {
   "cell_type": "code",
   "execution_count": 60,
   "id": "a88a9263-ca9a-4a0e-b253-63ec47a34163",
   "metadata": {},
   "outputs": [
    {
     "data": {
      "text/plain": [
       "VGG(\n",
       "  (features): Sequential(\n",
       "    (0): Conv2d(3, 64, kernel_size=(3, 3), stride=(1, 1), padding=(1, 1))\n",
       "    (1): ReLU(inplace=True)\n",
       "    (2): Conv2d(64, 64, kernel_size=(3, 3), stride=(1, 1), padding=(1, 1))\n",
       "    (3): ReLU(inplace=True)\n",
       "    (4): MaxPool2d(kernel_size=2, stride=2, padding=0, dilation=1, ceil_mode=False)\n",
       "    (5): Conv2d(64, 128, kernel_size=(3, 3), stride=(1, 1), padding=(1, 1))\n",
       "    (6): ReLU(inplace=True)\n",
       "    (7): Conv2d(128, 128, kernel_size=(3, 3), stride=(1, 1), padding=(1, 1))\n",
       "    (8): ReLU(inplace=True)\n",
       "    (9): MaxPool2d(kernel_size=2, stride=2, padding=0, dilation=1, ceil_mode=False)\n",
       "    (10): Conv2d(128, 256, kernel_size=(3, 3), stride=(1, 1), padding=(1, 1))\n",
       "    (11): ReLU(inplace=True)\n",
       "    (12): Conv2d(256, 256, kernel_size=(3, 3), stride=(1, 1), padding=(1, 1))\n",
       "    (13): ReLU(inplace=True)\n",
       "    (14): Conv2d(256, 256, kernel_size=(3, 3), stride=(1, 1), padding=(1, 1))\n",
       "    (15): ReLU(inplace=True)\n",
       "    (16): MaxPool2d(kernel_size=2, stride=2, padding=0, dilation=1, ceil_mode=False)\n",
       "    (17): Conv2d(256, 512, kernel_size=(3, 3), stride=(1, 1), padding=(1, 1))\n",
       "    (18): ReLU(inplace=True)\n",
       "    (19): Conv2d(512, 512, kernel_size=(3, 3), stride=(1, 1), padding=(1, 1))\n",
       "    (20): ReLU(inplace=True)\n",
       "    (21): Conv2d(512, 512, kernel_size=(3, 3), stride=(1, 1), padding=(1, 1))\n",
       "    (22): ReLU(inplace=True)\n",
       "    (23): MaxPool2d(kernel_size=2, stride=2, padding=0, dilation=1, ceil_mode=False)\n",
       "    (24): Conv2d(512, 512, kernel_size=(3, 3), stride=(1, 1), padding=(1, 1))\n",
       "    (25): ReLU(inplace=True)\n",
       "    (26): Conv2d(512, 512, kernel_size=(3, 3), stride=(1, 1), padding=(1, 1))\n",
       "    (27): ReLU(inplace=True)\n",
       "    (28): Conv2d(512, 512, kernel_size=(3, 3), stride=(1, 1), padding=(1, 1))\n",
       "    (29): ReLU(inplace=True)\n",
       "    (30): MaxPool2d(kernel_size=2, stride=2, padding=0, dilation=1, ceil_mode=False)\n",
       "  )\n",
       "  (avgpool): AdaptiveAvgPool2d(output_size=(7, 7))\n",
       "  (classifier): Sequential(\n",
       "    (0): Linear(in_features=25088, out_features=4096, bias=True)\n",
       "    (1): ReLU(inplace=True)\n",
       "    (2): Dropout(p=0.5, inplace=False)\n",
       "    (3): Linear(in_features=4096, out_features=4096, bias=True)\n",
       "    (4): ReLU(inplace=True)\n",
       "    (5): Dropout(p=0.5, inplace=False)\n",
       "    (6): Linear(in_features=4096, out_features=1000, bias=True)\n",
       "  )\n",
       ")"
      ]
     },
     "execution_count": 60,
     "metadata": {},
     "output_type": "execute_result"
    }
   ],
   "source": [
    "model = models.vgg16() # we do not specify pretrained=True, i.e. do not load default weights\n",
    "model.load_state_dict(torch.load('data/model_weights.pth'))\n",
    "model.eval()"
   ]
  },
  {
   "cell_type": "markdown",
   "id": "9bd976f7-ebce-4ffe-8337-b717fd13e31c",
   "metadata": {},
   "source": [
    "> **Note:** Be sure to call `model.eval()` method before inferencing to set the dropout and batch normalization layers to evaluation mode. Failing to do this will yield inconsistent inference results.\n"
   ]
  },
  {
   "cell_type": "markdown",
   "id": "3618f80f-6183-4aa3-a72d-61aa9039bc67",
   "metadata": {},
   "source": [
    "## Saving and loading models with shapes\n",
    "\n",
    "When loading model weights, we needed to instantiate the model class first, because the class defines the structure of a network. We might want to save the structure of this class together with the model, in which case we can pass `model` (and not `model.state_dict()`) to the saving function:"
   ]
  },
  {
   "cell_type": "code",
   "execution_count": 61,
   "id": "0baf839b-a592-4e61-b991-e6f39f76e574",
   "metadata": {},
   "outputs": [],
   "source": [
    "torch.save(model, 'data/vgg_model.pth')"
   ]
  },
  {
   "cell_type": "markdown",
   "id": "d3367ec2-8167-4b24-a39d-5beb4074c072",
   "metadata": {},
   "source": [
    "We can then load the model like this:"
   ]
  },
  {
   "cell_type": "code",
   "execution_count": 62,
   "id": "0a57956e-f976-4ffc-a6fd-fd9829aa7fae",
   "metadata": {},
   "outputs": [],
   "source": [
    "model = torch.load('data/vgg_model.pth')"
   ]
  },
  {
   "cell_type": "markdown",
   "id": "9609adc6-5e9a-42bc-8e5b-b9c8c92f5f17",
   "metadata": {},
   "source": [
    "> **Note:** This approach uses Python [pickle](https://docs.python.org/3/library/pickle.html) module when serializing the model, thus it relies on the actual class definition to be available when loading the model.\n"
   ]
  },
  {
   "cell_type": "markdown",
   "id": "6234cccd-2fe5-4c25-ad23-22376efaa294",
   "metadata": {},
   "source": [
    "## Exporting the model to ONNX\n",
    "\n",
    "PyTorch also has native ONNX export support. Given the dynamic nature of the PyTorch execution graph, however, the export process must traverse the execution graph to produce a persisted ONNX model. For this reason, a test variable of the appropriate size should be passed in to the export routine (in our case, we will create a dummy zero tensor of the correct size):"
   ]
  },
  {
   "cell_type": "code",
   "execution_count": 63,
   "id": "ed847ec5-37d9-452c-8931-cea03167bb60",
   "metadata": {},
   "outputs": [
    {
     "name": "stderr",
     "output_type": "stream",
     "text": [
      "/Users/hiber/miniforge3/envs/venv/lib/python3.8/site-packages/torch/nn/functional.py:718: UserWarning: Named tensors and all their associated APIs are an experimental feature and subject to change. Please do not use them for anything important until they are released as stable. (Triggered internally at  /tmp/pip-req-build-jhk0fkj8/c10/core/TensorImpl.h:1156.)\n",
      "  return torch.max_pool2d(input, kernel_size, stride, padding, dilation, ceil_mode)\n"
     ]
    }
   ],
   "source": [
    "input_image = torch.zeros((1,3,224,224))\n",
    "onnx.export(model, input_image, 'data/model.onnx')"
   ]
  },
  {
   "cell_type": "markdown",
   "id": "da2c7fb8-b8ba-483f-9656-9aadbb50b21b",
   "metadata": {},
   "source": [
    "There are a lot of things you can do with ONNX model, including running inference on different platforms and in different programming languages. For more details, we recommend visiting [ONNX tutorial](https://github.com/onnx/tutorials).\n"
   ]
  },
  {
   "cell_type": "markdown",
   "id": "1b401124-95e2-4a1f-87c3-9d4572870ded",
   "metadata": {},
   "source": [
    "\n",
    "## Working with data\n",
    "PyTorch has two [primitives to work with data](https://pytorch.org/docs/stable/data.html): ``torch.utils.data.DataLoader`` and ``torch.utils.data.Dataset``. ``Dataset`` stores the samples and their corresponding labels, and ``DataLoader`` wraps an iterable around the ``Dataset``.\n",
    "\n"
   ]
  },
  {
   "cell_type": "code",
   "execution_count": 64,
   "id": "24810b0d-4338-4d1c-b10c-fa4092012271",
   "metadata": {},
   "outputs": [],
   "source": [
    "import torch\n",
    "from torch import nn\n",
    "from torch.utils.data import DataLoader\n",
    "from torchvision import datasets\n",
    "from torchvision.transforms import ToTensor, Lambda, Compose\n",
    "import matplotlib.pyplot as plt"
   ]
  },
  {
   "cell_type": "markdown",
   "id": "89904ac6-9159-4b9a-b610-4476a735c588",
   "metadata": {},
   "source": [
    "PyTorch offers domain-specific libraries such as [TorchText](https://pytorch.org/text/stable/index.html), [TorchVision](https://pytorch.org/vision/stable/index.html), and [TorchAudio](https://pytorch.org/audio/stable/index.html), all of which include datasets. For this tutorial, we  will be using a TorchVision dataset.\n",
    "\n",
    "The ``torchvision.datasets`` module contains ``Dataset`` objects for many real-world vision data like CIFAR, COCO ([full list here](https://pytorch.org/docs/stable/torchvision/datasets.html)). In this tutorial, we'll use the **FashionMNIST** dataset. Every TorchVision ``Dataset`` includes two arguments: ``transform`` and ``target_transform`` to modify the samples and labels respectively.\n",
    "\n"
   ]
  },
  {
   "cell_type": "code",
   "execution_count": 65,
   "id": "5ce51ab4-0fb0-4350-a5a1-86e88543f1d8",
   "metadata": {},
   "outputs": [],
   "source": [
    "# Download training data from open datasets.\n",
    "training_data = datasets.FashionMNIST(\n",
    "    root=\"data\",\n",
    "    train=True,\n",
    "    download=True,\n",
    "    transform=ToTensor(),\n",
    ")\n",
    "\n",
    "# Download test data from open datasets.\n",
    "test_data = datasets.FashionMNIST(\n",
    "    root=\"data\",\n",
    "    train=False,\n",
    "    download=True,\n",
    "    transform=ToTensor(),\n",
    ")"
   ]
  },
  {
   "cell_type": "markdown",
   "id": "c6e8d3f4-15fa-4642-80e1-2d467c7a5094",
   "metadata": {},
   "source": [
    "We pass the ``Dataset`` as an argument to ``DataLoader``. This wraps an iterable over our dataset, and supports automatic batching, sampling, shuffling and multiprocess data loading. Here we define a batch size of 64, i.e. each element in the dataloader iterable will return a batch of 64 features and labels.\n"
   ]
  },
  {
   "cell_type": "code",
   "execution_count": 66,
   "id": "a8074bb3-a547-4659-bfde-bb363df626c8",
   "metadata": {},
   "outputs": [
    {
     "name": "stdout",
     "output_type": "stream",
     "text": [
      "Shape of X [N, C, H, W]:  torch.Size([64, 1, 28, 28])\n",
      "Shape of y:  torch.Size([64]) torch.int64\n"
     ]
    }
   ],
   "source": [
    "batch_size = 64\n",
    "\n",
    "# Create data loaders.\n",
    "train_dataloader = DataLoader(training_data, batch_size=batch_size)\n",
    "test_dataloader = DataLoader(test_data, batch_size=batch_size)\n",
    "\n",
    "for X, y in test_dataloader:\n",
    "    print(\"Shape of X [N, C, H, W]: \", X.shape)\n",
    "    print(\"Shape of y: \", y.shape, y.dtype)\n",
    "    break"
   ]
  },
  {
   "cell_type": "markdown",
   "id": "72bbab8a-6666-461b-87ab-93124dcf9de6",
   "metadata": {},
   "source": [
    "## Creating models\n",
    "To define a neural network in PyTorch, we create a class that inherits from [nn.Module](https://pytorch.org/docs/stable/generated/torch.nn.Module.html). We define the layers of the network in the ``__init__`` function and specify how data will pass through the network in the ``forward`` function. To accelerate operations in the neural network, we move it to the GPU if available.\n",
    "\n"
   ]
  },
  {
   "cell_type": "code",
   "execution_count": 67,
   "id": "02a410a0-e9c0-4b00-a57f-1395937fa8be",
   "metadata": {},
   "outputs": [
    {
     "name": "stdout",
     "output_type": "stream",
     "text": [
      "Using cpu device\n",
      "NeuralNetwork(\n",
      "  (flatten): Flatten(start_dim=1, end_dim=-1)\n",
      "  (linear_relu_stack): Sequential(\n",
      "    (0): Linear(in_features=784, out_features=512, bias=True)\n",
      "    (1): ReLU()\n",
      "    (2): Linear(in_features=512, out_features=512, bias=True)\n",
      "    (3): ReLU()\n",
      "    (4): Linear(in_features=512, out_features=10, bias=True)\n",
      "    (5): ReLU()\n",
      "  )\n",
      ")\n"
     ]
    }
   ],
   "source": [
    "# Get cpu or gpu device for training.\n",
    "device = \"cuda\" if torch.cuda.is_available() else \"cpu\"\n",
    "print(\"Using {} device\".format(device))\n",
    "\n",
    "# Define model\n",
    "class NeuralNetwork(nn.Module):\n",
    "    def __init__(self):\n",
    "        super(NeuralNetwork, self).__init__()\n",
    "        self.flatten = nn.Flatten()\n",
    "        self.linear_relu_stack = nn.Sequential(\n",
    "            nn.Linear(28*28, 512),\n",
    "            nn.ReLU(),\n",
    "            nn.Linear(512, 512),\n",
    "            nn.ReLU(),\n",
    "            nn.Linear(512, 10),\n",
    "            nn.ReLU()\n",
    "        )\n",
    "\n",
    "    def forward(self, x):\n",
    "        x = self.flatten(x)\n",
    "        logits = self.linear_relu_stack(x)\n",
    "        return logits\n",
    "\n",
    "model = NeuralNetwork().to(device)\n",
    "print(model)"
   ]
  },
  {
   "cell_type": "markdown",
   "id": "5b70c619-14d0-45ce-af97-ffe306763623",
   "metadata": {},
   "source": [
    "## Optimizing the Model Parameters\n",
    "To train a model, we need a [loss function](https://pytorch.org/docs/stable/nn.html#loss-functions>) and an [optimizer](https://pytorch.org/docs/stable/optim.html). \n",
    "\n"
   ]
  },
  {
   "cell_type": "code",
   "execution_count": 72,
   "id": "d60bdd16-a078-4795-995a-7a90f1a14a0a",
   "metadata": {},
   "outputs": [],
   "source": [
    "loss_fn = nn.CrossEntropyLoss()\n",
    "learning_rate = 1e-2\n",
    "optimizer = torch.optim.SGD(model.parameters(), lr=learning_rate)"
   ]
  },
  {
   "cell_type": "markdown",
   "id": "35e770f7-a0cf-4bc8-8545-1b91a3f0e013",
   "metadata": {},
   "source": [
    "In a single training loop, the model makes predictions on the training dataset (fed to it in batches), and back-propagates the prediction error to adjust the model's parameters. \n"
   ]
  },
  {
   "cell_type": "code",
   "execution_count": 69,
   "id": "ab72260e-163a-4367-8809-f9bd7e69accb",
   "metadata": {},
   "outputs": [],
   "source": [
    "def train(dataloader, model, loss_fn, optimizer):\n",
    "    size = len(dataloader.dataset)\n",
    "    for batch, (X, y) in enumerate(dataloader):\n",
    "        X, y = X.to(device), y.to(device)\n",
    "        \n",
    "        # Compute prediction error\n",
    "        pred = model(X)\n",
    "        loss = loss_fn(pred, y)\n",
    "        \n",
    "        # Backpropagation\n",
    "        optimizer.zero_grad()\n",
    "        loss.backward()\n",
    "        optimizer.step()\n",
    "\n",
    "        if batch % 100 == 0:\n",
    "            loss, current = loss.item(), batch * len(X)\n",
    "            print(f\"loss: {loss:>7f}  [{current:>5d}/{size:>5d}]\")"
   ]
  },
  {
   "cell_type": "markdown",
   "id": "d3a38694-ce9c-4e4d-aca3-a52747e3c66c",
   "metadata": {},
   "source": [
    "We can also check the model's performance against the test dataset to ensure it is learning.\n"
   ]
  },
  {
   "cell_type": "code",
   "execution_count": 70,
   "id": "0a94d85c-ee68-4486-8391-f931489e4604",
   "metadata": {},
   "outputs": [],
   "source": [
    "def test(dataloader, model):\n",
    "    size = len(dataloader.dataset)\n",
    "    model.eval()\n",
    "    test_loss, correct = 0, 0\n",
    "    with torch.no_grad():\n",
    "        for X, y in dataloader:\n",
    "            X, y = X.to(device), y.to(device)\n",
    "            pred = model(X)\n",
    "            test_loss += loss_fn(pred, y).item()\n",
    "            correct += (pred.argmax(1) == y).type(torch.float).sum().item()\n",
    "    test_loss /= size\n",
    "    correct /= size\n",
    "    print(f\"Test Error: \\n Accuracy: {(100*correct):>0.1f}%, Avg loss: {test_loss:>8f} \\n\")"
   ]
  },
  {
   "cell_type": "markdown",
   "id": "c157ef43-9450-4e42-a6cb-4245663425c0",
   "metadata": {},
   "source": [
    "The training process is conducted over several iterations (*epochs*). During each epoch, the model learns parameters to make better predictions. We print the model's accuracy and loss at each epoch; we'd like to see the accuracy increase and the loss decrease with every epoch.\n",
    "\n"
   ]
  },
  {
   "cell_type": "code",
   "execution_count": 73,
   "id": "bbf858ac-d4a3-45fb-951d-1acec12227a4",
   "metadata": {},
   "outputs": [
    {
     "name": "stdout",
     "output_type": "stream",
     "text": [
      "Epoch 1\n",
      "-------------------------------\n",
      "loss: 1.619246  [    0/60000]\n",
      "loss: 1.751548  [ 6400/60000]\n",
      "loss: 1.715452  [12800/60000]\n",
      "loss: 1.950279  [19200/60000]\n",
      "loss: 1.941464  [25600/60000]\n",
      "loss: 1.715651  [32000/60000]\n",
      "loss: 1.658181  [38400/60000]\n",
      "loss: 1.594506  [44800/60000]\n",
      "loss: 1.641746  [51200/60000]\n",
      "loss: 1.763116  [57600/60000]\n",
      "Test Error: \n",
      " Accuracy: 36.8%, Avg loss: 0.027579 \n",
      "\n",
      "Epoch 2\n",
      "-------------------------------\n",
      "loss: 1.554700  [    0/60000]\n",
      "loss: 1.712837  [ 6400/60000]\n",
      "loss: 1.667646  [12800/60000]\n",
      "loss: 1.910457  [19200/60000]\n",
      "loss: 1.913852  [25600/60000]\n",
      "loss: 1.687185  [32000/60000]\n",
      "loss: 1.629112  [38400/60000]\n",
      "loss: 1.594812  [44800/60000]\n",
      "loss: 1.609373  [51200/60000]\n",
      "loss: 1.718618  [57600/60000]\n",
      "Test Error: \n",
      " Accuracy: 36.9%, Avg loss: 0.027089 \n",
      "\n",
      "Epoch 3\n",
      "-------------------------------\n",
      "loss: 1.514557  [    0/60000]\n",
      "loss: 1.682889  [ 6400/60000]\n",
      "loss: 1.640941  [12800/60000]\n",
      "loss: 1.880192  [19200/60000]\n",
      "loss: 1.892212  [25600/60000]\n",
      "loss: 1.665308  [32000/60000]\n",
      "loss: 1.611266  [38400/60000]\n",
      "loss: 1.609382  [44800/60000]\n",
      "loss: 1.589444  [51200/60000]\n",
      "loss: 1.683938  [57600/60000]\n",
      "Test Error: \n",
      " Accuracy: 36.8%, Avg loss: 0.026823 \n",
      "\n",
      "Epoch 4\n",
      "-------------------------------\n",
      "loss: 1.489093  [    0/60000]\n",
      "loss: 1.660414  [ 6400/60000]\n",
      "loss: 1.624689  [12800/60000]\n",
      "loss: 1.854934  [19200/60000]\n",
      "loss: 1.879252  [25600/60000]\n",
      "loss: 1.655028  [32000/60000]\n",
      "loss: 1.598339  [38400/60000]\n",
      "loss: 1.618277  [44800/60000]\n",
      "loss: 1.573994  [51200/60000]\n",
      "loss: 1.658606  [57600/60000]\n",
      "Test Error: \n",
      " Accuracy: 36.7%, Avg loss: 0.026666 \n",
      "\n",
      "Epoch 5\n",
      "-------------------------------\n",
      "loss: 1.471801  [    0/60000]\n",
      "loss: 1.645471  [ 6400/60000]\n",
      "loss: 1.614500  [12800/60000]\n",
      "loss: 1.836073  [19200/60000]\n",
      "loss: 1.846444  [25600/60000]\n",
      "loss: 1.643540  [32000/60000]\n",
      "loss: 1.535313  [38400/60000]\n",
      "loss: 1.595473  [44800/60000]\n",
      "loss: 1.533558  [51200/60000]\n",
      "loss: 1.580831  [57600/60000]\n",
      "Test Error: \n",
      " Accuracy: 45.5%, Avg loss: 0.024560 \n",
      "\n",
      "Epoch 6\n",
      "-------------------------------\n",
      "loss: 1.429016  [    0/60000]\n",
      "loss: 1.494885  [ 6400/60000]\n",
      "loss: 1.444713  [12800/60000]\n",
      "loss: 1.578276  [19200/60000]\n",
      "loss: 1.703133  [25600/60000]\n",
      "loss: 1.523879  [32000/60000]\n",
      "loss: 1.445372  [38400/60000]\n",
      "loss: 1.548475  [44800/60000]\n",
      "loss: 1.460556  [51200/60000]\n",
      "loss: 1.516332  [57600/60000]\n",
      "Test Error: \n",
      " Accuracy: 45.9%, Avg loss: 0.023564 \n",
      "\n",
      "Epoch 7\n",
      "-------------------------------\n",
      "loss: 1.372308  [    0/60000]\n",
      "loss: 1.451844  [ 6400/60000]\n",
      "loss: 1.414665  [12800/60000]\n",
      "loss: 1.529922  [19200/60000]\n",
      "loss: 1.664904  [25600/60000]\n",
      "loss: 1.500540  [32000/60000]\n",
      "loss: 1.424636  [38400/60000]\n",
      "loss: 1.542388  [44800/60000]\n",
      "loss: 1.437205  [51200/60000]\n",
      "loss: 1.499420  [57600/60000]\n",
      "Test Error: \n",
      " Accuracy: 46.0%, Avg loss: 0.023380 \n",
      "\n",
      "Epoch 8\n",
      "-------------------------------\n",
      "loss: 1.358500  [    0/60000]\n",
      "loss: 1.437192  [ 6400/60000]\n",
      "loss: 1.406221  [12800/60000]\n",
      "loss: 1.509758  [19200/60000]\n",
      "loss: 1.640842  [25600/60000]\n",
      "loss: 1.488442  [32000/60000]\n",
      "loss: 1.415329  [38400/60000]\n",
      "loss: 1.535904  [44800/60000]\n",
      "loss: 1.422959  [51200/60000]\n",
      "loss: 1.490134  [57600/60000]\n",
      "Test Error: \n",
      " Accuracy: 46.0%, Avg loss: 0.023269 \n",
      "\n",
      "Epoch 9\n",
      "-------------------------------\n",
      "loss: 1.348959  [    0/60000]\n",
      "loss: 1.427955  [ 6400/60000]\n",
      "loss: 1.400130  [12800/60000]\n",
      "loss: 1.496949  [19200/60000]\n",
      "loss: 1.622898  [25600/60000]\n",
      "loss: 1.480730  [32000/60000]\n",
      "loss: 1.405704  [38400/60000]\n",
      "loss: 1.527515  [44800/60000]\n",
      "loss: 1.410561  [51200/60000]\n",
      "loss: 1.482914  [57600/60000]\n",
      "Test Error: \n",
      " Accuracy: 46.0%, Avg loss: 0.023178 \n",
      "\n",
      "Epoch 10\n",
      "-------------------------------\n",
      "loss: 1.341104  [    0/60000]\n",
      "loss: 1.419397  [ 6400/60000]\n",
      "loss: 1.395152  [12800/60000]\n",
      "loss: 1.488636  [19200/60000]\n",
      "loss: 1.610536  [25600/60000]\n",
      "loss: 1.475262  [32000/60000]\n",
      "loss: 1.399180  [38400/60000]\n",
      "loss: 1.518290  [44800/60000]\n",
      "loss: 1.400137  [51200/60000]\n",
      "loss: 1.479589  [57600/60000]\n",
      "Test Error: \n",
      " Accuracy: 46.1%, Avg loss: 0.023094 \n",
      "\n",
      "Epoch 11\n",
      "-------------------------------\n",
      "loss: 1.333553  [    0/60000]\n",
      "loss: 1.412417  [ 6400/60000]\n",
      "loss: 1.391169  [12800/60000]\n",
      "loss: 1.481612  [19200/60000]\n",
      "loss: 1.602237  [25600/60000]\n",
      "loss: 1.466280  [32000/60000]\n",
      "loss: 1.391963  [38400/60000]\n",
      "loss: 1.512084  [44800/60000]\n",
      "loss: 1.393203  [51200/60000]\n",
      "loss: 1.475318  [57600/60000]\n",
      "Test Error: \n",
      " Accuracy: 46.1%, Avg loss: 0.023024 \n",
      "\n",
      "Epoch 12\n",
      "-------------------------------\n",
      "loss: 1.327770  [    0/60000]\n",
      "loss: 1.406436  [ 6400/60000]\n",
      "loss: 1.388436  [12800/60000]\n",
      "loss: 1.476194  [19200/60000]\n",
      "loss: 1.592281  [25600/60000]\n",
      "loss: 1.461450  [32000/60000]\n",
      "loss: 1.386548  [38400/60000]\n",
      "loss: 1.506025  [44800/60000]\n",
      "loss: 1.385322  [51200/60000]\n",
      "loss: 1.470632  [57600/60000]\n",
      "Test Error: \n",
      " Accuracy: 46.2%, Avg loss: 0.022973 \n",
      "\n",
      "Epoch 13\n",
      "-------------------------------\n",
      "loss: 1.323392  [    0/60000]\n",
      "loss: 1.400498  [ 6400/60000]\n",
      "loss: 1.384894  [12800/60000]\n",
      "loss: 1.469988  [19200/60000]\n",
      "loss: 1.584815  [25600/60000]\n",
      "loss: 1.456646  [32000/60000]\n",
      "loss: 1.381384  [38400/60000]\n",
      "loss: 1.499182  [44800/60000]\n",
      "loss: 1.378047  [51200/60000]\n",
      "loss: 1.466683  [57600/60000]\n",
      "Test Error: \n",
      " Accuracy: 46.3%, Avg loss: 0.022920 \n",
      "\n",
      "Epoch 14\n",
      "-------------------------------\n",
      "loss: 1.318623  [    0/60000]\n",
      "loss: 1.394736  [ 6400/60000]\n",
      "loss: 1.382236  [12800/60000]\n",
      "loss: 1.463636  [19200/60000]\n",
      "loss: 1.577955  [25600/60000]\n",
      "loss: 1.452452  [32000/60000]\n",
      "loss: 1.376577  [38400/60000]\n",
      "loss: 1.494452  [44800/60000]\n",
      "loss: 1.371102  [51200/60000]\n",
      "loss: 1.462113  [57600/60000]\n",
      "Test Error: \n",
      " Accuracy: 46.3%, Avg loss: 0.022871 \n",
      "\n",
      "Epoch 15\n",
      "-------------------------------\n",
      "loss: 1.314585  [    0/60000]\n",
      "loss: 1.389660  [ 6400/60000]\n",
      "loss: 1.377515  [12800/60000]\n",
      "loss: 1.457850  [19200/60000]\n",
      "loss: 1.571253  [25600/60000]\n",
      "loss: 1.448941  [32000/60000]\n",
      "loss: 1.369982  [38400/60000]\n",
      "loss: 1.489921  [44800/60000]\n",
      "loss: 1.364867  [51200/60000]\n",
      "loss: 1.457923  [57600/60000]\n",
      "Test Error: \n",
      " Accuracy: 46.2%, Avg loss: 0.022829 \n",
      "\n",
      "Epoch 16\n",
      "-------------------------------\n",
      "loss: 1.311495  [    0/60000]\n",
      "loss: 1.384500  [ 6400/60000]\n",
      "loss: 1.373844  [12800/60000]\n",
      "loss: 1.455044  [19200/60000]\n",
      "loss: 1.566284  [25600/60000]\n",
      "loss: 1.445151  [32000/60000]\n",
      "loss: 1.363681  [38400/60000]\n",
      "loss: 1.485513  [44800/60000]\n",
      "loss: 1.359351  [51200/60000]\n",
      "loss: 1.454874  [57600/60000]\n",
      "Test Error: \n",
      " Accuracy: 46.3%, Avg loss: 0.022785 \n",
      "\n",
      "Epoch 17\n",
      "-------------------------------\n",
      "loss: 1.308620  [    0/60000]\n",
      "loss: 1.380044  [ 6400/60000]\n",
      "loss: 1.370381  [12800/60000]\n",
      "loss: 1.451555  [19200/60000]\n",
      "loss: 1.561578  [25600/60000]\n",
      "loss: 1.442956  [32000/60000]\n",
      "loss: 1.358837  [38400/60000]\n",
      "loss: 1.482765  [44800/60000]\n",
      "loss: 1.354181  [51200/60000]\n",
      "loss: 1.451328  [57600/60000]\n",
      "Test Error: \n",
      " Accuracy: 46.3%, Avg loss: 0.022748 \n",
      "\n",
      "Epoch 18\n",
      "-------------------------------\n",
      "loss: 1.306002  [    0/60000]\n",
      "loss: 1.376174  [ 6400/60000]\n",
      "loss: 1.368535  [12800/60000]\n",
      "loss: 1.447768  [19200/60000]\n",
      "loss: 1.558009  [25600/60000]\n",
      "loss: 1.440102  [32000/60000]\n",
      "loss: 1.354374  [38400/60000]\n",
      "loss: 1.478492  [44800/60000]\n",
      "loss: 1.349972  [51200/60000]\n",
      "loss: 1.447036  [57600/60000]\n",
      "Test Error: \n",
      " Accuracy: 46.3%, Avg loss: 0.022712 \n",
      "\n",
      "Epoch 19\n",
      "-------------------------------\n",
      "loss: 1.303959  [    0/60000]\n",
      "loss: 1.372201  [ 6400/60000]\n",
      "loss: 1.367009  [12800/60000]\n",
      "loss: 1.444137  [19200/60000]\n",
      "loss: 1.554357  [25600/60000]\n",
      "loss: 1.436942  [32000/60000]\n",
      "loss: 1.350402  [38400/60000]\n",
      "loss: 1.476268  [44800/60000]\n",
      "loss: 1.346553  [51200/60000]\n",
      "loss: 1.444302  [57600/60000]\n",
      "Test Error: \n",
      " Accuracy: 46.3%, Avg loss: 0.022674 \n",
      "\n",
      "Epoch 20\n",
      "-------------------------------\n",
      "loss: 1.301742  [    0/60000]\n",
      "loss: 1.369303  [ 6400/60000]\n",
      "loss: 1.365304  [12800/60000]\n",
      "loss: 1.440852  [19200/60000]\n",
      "loss: 1.550127  [25600/60000]\n",
      "loss: 1.436858  [32000/60000]\n",
      "loss: 1.346760  [38400/60000]\n",
      "loss: 1.473436  [44800/60000]\n",
      "loss: 1.342329  [51200/60000]\n",
      "loss: 1.441220  [57600/60000]\n",
      "Test Error: \n",
      " Accuracy: 46.4%, Avg loss: 0.022645 \n",
      "\n",
      "Done!\n"
     ]
    }
   ],
   "source": [
    "epochs = 20\n",
    "for t in range(epochs):\n",
    "    print(f\"Epoch {t+1}\\n-------------------------------\")\n",
    "    train(train_dataloader, model, loss_fn, optimizer)\n",
    "    test(test_dataloader, model)\n",
    "print(\"Done!\")"
   ]
  },
  {
   "cell_type": "markdown",
   "id": "2fb8873a-7409-4345-bb94-7032abcb8c89",
   "metadata": {},
   "source": [
    "The accuracy will initially not be very good (that's OK!). Try running the loop for more `epochs` or adjusting the `learning_rate` to a bigger number. It might also be the case that the model configuration we chose might not be the optimal one for this kind of problem (it isn't). Later courses will delve more into the model shapes that work for vision problems."
   ]
  },
  {
   "cell_type": "markdown",
   "id": "7e700631-de4b-48a4-b43e-71cef146ebda",
   "metadata": {},
   "source": [
    "Saving Models\n",
    "-------------\n",
    "A common way to save a model is to serialize the internal state dictionary (containing the model parameters).\n",
    "\n"
   ]
  },
  {
   "cell_type": "code",
   "execution_count": 74,
   "id": "dd2cfccf-1a39-4770-adbe-5891fe7338f6",
   "metadata": {},
   "outputs": [
    {
     "name": "stdout",
     "output_type": "stream",
     "text": [
      "Saved PyTorch Model State to model.pth\n"
     ]
    }
   ],
   "source": [
    "torch.save(model.state_dict(), \"data/model.pth\")\n",
    "print(\"Saved PyTorch Model State to model.pth\")"
   ]
  },
  {
   "cell_type": "markdown",
   "id": "fbf13aa4-8ee3-4791-a947-89fdfee2e5b6",
   "metadata": {},
   "source": [
    "Loading Models\n",
    "----------------------------\n",
    "\n",
    "The process for loading a model includes re-creating the model structure and loading\n",
    "the state dictionary into it. \n",
    "\n"
   ]
  },
  {
   "cell_type": "code",
   "execution_count": 75,
   "id": "657b6c67-0d46-47e4-b311-e55d9ffbe9a3",
   "metadata": {},
   "outputs": [
    {
     "data": {
      "text/plain": [
       "<All keys matched successfully>"
      ]
     },
     "execution_count": 75,
     "metadata": {},
     "output_type": "execute_result"
    }
   ],
   "source": [
    "model = NeuralNetwork()\n",
    "model.load_state_dict(torch.load(\"data/model.pth\"))"
   ]
  },
  {
   "cell_type": "markdown",
   "id": "ebd90233-3fa8-4dbc-b02b-cf5fa5ab2204",
   "metadata": {},
   "source": [
    "This model can now be used to make predictions.\n"
   ]
  },
  {
   "cell_type": "code",
   "execution_count": 81,
   "id": "099a4668-579c-4496-9fb0-1fff43525d1a",
   "metadata": {},
   "outputs": [
    {
     "name": "stdout",
     "output_type": "stream",
     "text": [
      "Predicted: \"T-shirt/top\", Actual: \"Shirt\"\n"
     ]
    },
    {
     "data": {
      "image/png": "[encoded data removed]",
      "text/plain": [
       "<Figure size 432x288 with 1 Axes>"
      ]
     },
     "metadata": {
      "needs_background": "light"
     },
     "output_type": "display_data"
    }
   ],
   "source": [
    "classes = [\n",
    "    \"T-shirt/top\",\n",
    "    \"Trouser\",\n",
    "    \"Pullover\",\n",
    "    \"Dress\",\n",
    "    \"Coat\",\n",
    "    \"Sandal\",\n",
    "    \"Shirt\",\n",
    "    \"Sneaker\",\n",
    "    \"Bag\",\n",
    "    \"Ankle boot\",\n",
    "]\n",
    "\n",
    "model.eval()\n",
    "idx = 4\n",
    "x, y = test_data[idx][0], test_data[idx][1]\n",
    "with torch.no_grad():\n",
    "    pred = model(x)\n",
    "    predicted, actual = classes[pred[0].argmax(0)], classes[y]\n",
    "    print(f'Predicted: \"{predicted}\", Actual: \"{actual}\"')\n",
    "    \n",
    "#    img = train_features[0].squeeze()\n",
    "#    label = train_labels[0]\n",
    "    plt.imshow(x.squeeze(), cmap=\"gray\")\n",
    "    plt.show()\n"
   ]
  },
  {
   "cell_type": "code",
   "execution_count": null,
   "id": "9886a9cf-74a1-4e60-9992-fbbe1f4c442c",
   "metadata": {},
   "outputs": [],
   "source": []
  }
 ],
 "metadata": {
  "kernelspec": {
   "display_name": "Python 3",
   "language": "python",
   "name": "python3"
  },
  "language_info": {
   "codemirror_mode": {
    "name": "ipython",
    "version": 3
   },
   "file_extension": ".py",
   "mimetype": "text/x-python",
   "name": "python",
   "nbconvert_exporter": "python",
   "pygments_lexer": "ipython3",
   "version": "3.8.12"
  }
 },
 "nbformat": 4,
 "nbformat_minor": 5
}
