{
 "cells": [
  {
   "cell_type": "markdown",
   "metadata": {},
   "source": [
    "# Assignment 4. Basics of neural networks (classification)\n",
    "## General Assignment\n",
    "\n",
    "Before performing the practical work, you need download the data set accordingly to the option on your machine\n",
    "1. Write a program that splits the original sample into a training set and a test set (training set, validation set, test set)\n",
    "2. Build a model using [Perceptron](http://scikit-learn.org/stable/modules/generated/sklearn.linear_model.Perceptron.html) and [MLPClassifier](http://scikit-learn.org/stable/modules/generated/sklearn.neural_network.MLPClassifier.html). On the basis of experiments with MLPClassifier, select best values for learning rate, the regularization parameter, the optimization function. Try different architectures for the MLPClassifier (number of hidden layers and number of neurons in each layer). Use [f1 score](https://scikit-learn.org/stable/modules/generated/sklearn.metrics.f1_score.html) for evaluation.\n",
    "3. Build learning curves for better explanation of your experiments for training set and validation set on the same plot (f1_score on the max_iter parameter for MLPClassifier).\n",
    "\n",
    "## Options\n",
    "Data sets are taken from the UCI Machine Learning Repository\n",
    "https://archive.ics.uci.edu/ml/\n",
    "The option is determined by the data set, which can be downloaded from the link above:\n",
    "\n",
    "1. Sponge\n",
    "2. Water Treatment Plant\n",
    "3. Synthetic Control Chart Time Series\n",
    "4. Character Trajectories\n",
    "5. Abalone\n",
    "6. Libras Movement\n",
    "7. KEGG Metabolic Relation Network (Directed)\n",
    "8. SMS Spam Collection\n",
    "9. **seeds**\n",
    "10. Human Activity Recognition Using Smartphones\n",
    "11. User Knowledge Modeling\n",
    "12. NYSK\n",
    "13. Activities of Daily Living (ADLs) Recognition Using Binary Sensors\n",
    "14. Dresses_Attribute_Sales\n",
    "15. Wholesale customers\n",
    "16. StoneFlakes\n",
    "17. Gesture Phase Segmentation\n",
    "18. AAAI 2014 Accepted Papers\n",
    "19. Dow Jones Index\n",
    "20. AAAI 2013 Accepted Papers\n",
    "21. wiki4HE\n",
    "22. Folio\n",
    "23. Mice Protein Expression\n",
    "24. Improved Spiral Test Using Digitized Graphics Tablet for Monitoring Parkinson’s Disease\n"
   ]
  },
  {
   "cell_type": "code",
   "execution_count": 240,
   "metadata": {
    "pycharm": {
     "name": "#%%\n"
    }
   },
   "outputs": [],
   "source": [
    "import pandas as pd\n",
    "import matplotlib.pyplot as plt\n",
    "import random\n",
    "from sklearn.model_selection import train_test_split\n",
    "from sklearn.metrics import f1_score, accuracy_score\n",
    "from sklearn.linear_model import Perceptron\n",
    "from sklearn.neural_network import MLPClassifier\n",
    "from sklearn.pipeline import Pipeline\n",
    "from sklearn.preprocessing import StandardScaler\n",
    "from sklearn.model_selection import GridSearchCV, StratifiedKFold\n",
    "\n",
    "from sklearn.exceptions import ConvergenceWarning"
   ]
  },
  {
   "cell_type": "code",
   "execution_count": 222,
   "outputs": [
    {
     "data": {
      "text/plain": "    area  perimeter  compactness  length_of_kernel  width_of_kernel  \\\n0  15.26      14.84       0.8710             5.763            3.312   \n1  14.88      14.57       0.8811             5.554            3.333   \n2  14.29      14.09       0.9050             5.291            3.337   \n3  13.84      13.94       0.8955             5.324            3.379   \n4  16.14      14.99       0.9034             5.658            3.562   \n\n   asymmetry_coefficient  length_of_kernel_groove  wheat_type  \n0                  2.221                    5.220           1  \n1                  1.018                    4.956           1  \n2                  2.699                    4.825           1  \n3                  2.259                    4.805           1  \n4                  1.355                    5.175           1  ",
      "text/html": "<div>\n<style scoped>\n    .dataframe tbody tr th:only-of-type {\n        vertical-align: middle;\n    }\n\n    .dataframe tbody tr th {\n        vertical-align: top;\n    }\n\n    .dataframe thead th {\n        text-align: right;\n    }\n</style>\n<table border=\"1\" class=\"dataframe\">\n  <thead>\n    <tr style=\"text-align: right;\">\n      <th></th>\n      <th>area</th>\n      <th>perimeter</th>\n      <th>compactness</th>\n      <th>length_of_kernel</th>\n      <th>width_of_kernel</th>\n      <th>asymmetry_coefficient</th>\n      <th>length_of_kernel_groove</th>\n      <th>wheat_type</th>\n    </tr>\n  </thead>\n  <tbody>\n    <tr>\n      <th>0</th>\n      <td>15.26</td>\n      <td>14.84</td>\n      <td>0.8710</td>\n      <td>5.763</td>\n      <td>3.312</td>\n      <td>2.221</td>\n      <td>5.220</td>\n      <td>1</td>\n    </tr>\n    <tr>\n      <th>1</th>\n      <td>14.88</td>\n      <td>14.57</td>\n      <td>0.8811</td>\n      <td>5.554</td>\n      <td>3.333</td>\n      <td>1.018</td>\n      <td>4.956</td>\n      <td>1</td>\n    </tr>\n    <tr>\n      <th>2</th>\n      <td>14.29</td>\n      <td>14.09</td>\n      <td>0.9050</td>\n      <td>5.291</td>\n      <td>3.337</td>\n      <td>2.699</td>\n      <td>4.825</td>\n      <td>1</td>\n    </tr>\n    <tr>\n      <th>3</th>\n      <td>13.84</td>\n      <td>13.94</td>\n      <td>0.8955</td>\n      <td>5.324</td>\n      <td>3.379</td>\n      <td>2.259</td>\n      <td>4.805</td>\n      <td>1</td>\n    </tr>\n    <tr>\n      <th>4</th>\n      <td>16.14</td>\n      <td>14.99</td>\n      <td>0.9034</td>\n      <td>5.658</td>\n      <td>3.562</td>\n      <td>1.355</td>\n      <td>5.175</td>\n      <td>1</td>\n    </tr>\n  </tbody>\n</table>\n</div>"
     },
     "execution_count": 222,
     "metadata": {},
     "output_type": "execute_result"
    }
   ],
   "source": [
    "data = pd.read_csv('Assignment_Data/seeds_dataset.csv')\n",
    "data.head()"
   ],
   "metadata": {
    "collapsed": false,
    "pycharm": {
     "name": "#%%\n"
    }
   }
  },
  {
   "cell_type": "markdown",
   "source": [
    "## Analysis"
   ],
   "metadata": {
    "collapsed": false,
    "pycharm": {
     "name": "#%% md\n"
    }
   }
  },
  {
   "cell_type": "code",
   "execution_count": 223,
   "outputs": [
    {
     "data": {
      "text/plain": "area                       False\nperimeter                  False\ncompactness                False\nlength_of_kernel           False\nwidth_of_kernel            False\nasymmetry_coefficient      False\nlength_of_kernel_groove    False\nwheat_type                 False\ndtype: bool"
     },
     "execution_count": 223,
     "metadata": {},
     "output_type": "execute_result"
    }
   ],
   "source": [
    "data.any().isnull()"
   ],
   "metadata": {
    "collapsed": false,
    "pycharm": {
     "name": "#%%\n"
    }
   }
  },
  {
   "cell_type": "code",
   "execution_count": 224,
   "outputs": [
    {
     "data": {
      "text/plain": "                             area  perimeter  compactness  length_of_kernel  \\\narea                     1.000000   0.994341     0.608288          0.949985   \nperimeter                0.994341   1.000000     0.529244          0.972422   \ncompactness              0.608288   0.529244     1.000000          0.367915   \nlength_of_kernel         0.949985   0.972422     0.367915          1.000000   \nwidth_of_kernel          0.970771   0.944829     0.761635          0.860415   \nasymmetry_coefficient   -0.229572  -0.217340    -0.331471         -0.171562   \nlength_of_kernel_groove  0.863693   0.890784     0.226825          0.932806   \nwheat_type              -0.346058  -0.327900    -0.531007         -0.257269   \n\n                         width_of_kernel  asymmetry_coefficient  \\\narea                            0.970771              -0.229572   \nperimeter                       0.944829              -0.217340   \ncompactness                     0.761635              -0.331471   \nlength_of_kernel                0.860415              -0.171562   \nwidth_of_kernel                 1.000000              -0.258037   \nasymmetry_coefficient          -0.258037               1.000000   \nlength_of_kernel_groove         0.749131              -0.011079   \nwheat_type                     -0.423463               0.577273   \n\n                         length_of_kernel_groove  wheat_type  \narea                                    0.863693   -0.346058  \nperimeter                               0.890784   -0.327900  \ncompactness                             0.226825   -0.531007  \nlength_of_kernel                        0.932806   -0.257269  \nwidth_of_kernel                         0.749131   -0.423463  \nasymmetry_coefficient                  -0.011079    0.577273  \nlength_of_kernel_groove                 1.000000    0.024301  \nwheat_type                              0.024301    1.000000  ",
      "text/html": "<div>\n<style scoped>\n    .dataframe tbody tr th:only-of-type {\n        vertical-align: middle;\n    }\n\n    .dataframe tbody tr th {\n        vertical-align: top;\n    }\n\n    .dataframe thead th {\n        text-align: right;\n    }\n</style>\n<table border=\"1\" class=\"dataframe\">\n  <thead>\n    <tr style=\"text-align: right;\">\n      <th></th>\n      <th>area</th>\n      <th>perimeter</th>\n      <th>compactness</th>\n      <th>length_of_kernel</th>\n      <th>width_of_kernel</th>\n      <th>asymmetry_coefficient</th>\n      <th>length_of_kernel_groove</th>\n      <th>wheat_type</th>\n    </tr>\n  </thead>\n  <tbody>\n    <tr>\n      <th>area</th>\n      <td>1.000000</td>\n      <td>0.994341</td>\n      <td>0.608288</td>\n      <td>0.949985</td>\n      <td>0.970771</td>\n      <td>-0.229572</td>\n      <td>0.863693</td>\n      <td>-0.346058</td>\n    </tr>\n    <tr>\n      <th>perimeter</th>\n      <td>0.994341</td>\n      <td>1.000000</td>\n      <td>0.529244</td>\n      <td>0.972422</td>\n      <td>0.944829</td>\n      <td>-0.217340</td>\n      <td>0.890784</td>\n      <td>-0.327900</td>\n    </tr>\n    <tr>\n      <th>compactness</th>\n      <td>0.608288</td>\n      <td>0.529244</td>\n      <td>1.000000</td>\n      <td>0.367915</td>\n      <td>0.761635</td>\n      <td>-0.331471</td>\n      <td>0.226825</td>\n      <td>-0.531007</td>\n    </tr>\n    <tr>\n      <th>length_of_kernel</th>\n      <td>0.949985</td>\n      <td>0.972422</td>\n      <td>0.367915</td>\n      <td>1.000000</td>\n      <td>0.860415</td>\n      <td>-0.171562</td>\n      <td>0.932806</td>\n      <td>-0.257269</td>\n    </tr>\n    <tr>\n      <th>width_of_kernel</th>\n      <td>0.970771</td>\n      <td>0.944829</td>\n      <td>0.761635</td>\n      <td>0.860415</td>\n      <td>1.000000</td>\n      <td>-0.258037</td>\n      <td>0.749131</td>\n      <td>-0.423463</td>\n    </tr>\n    <tr>\n      <th>asymmetry_coefficient</th>\n      <td>-0.229572</td>\n      <td>-0.217340</td>\n      <td>-0.331471</td>\n      <td>-0.171562</td>\n      <td>-0.258037</td>\n      <td>1.000000</td>\n      <td>-0.011079</td>\n      <td>0.577273</td>\n    </tr>\n    <tr>\n      <th>length_of_kernel_groove</th>\n      <td>0.863693</td>\n      <td>0.890784</td>\n      <td>0.226825</td>\n      <td>0.932806</td>\n      <td>0.749131</td>\n      <td>-0.011079</td>\n      <td>1.000000</td>\n      <td>0.024301</td>\n    </tr>\n    <tr>\n      <th>wheat_type</th>\n      <td>-0.346058</td>\n      <td>-0.327900</td>\n      <td>-0.531007</td>\n      <td>-0.257269</td>\n      <td>-0.423463</td>\n      <td>0.577273</td>\n      <td>0.024301</td>\n      <td>1.000000</td>\n    </tr>\n  </tbody>\n</table>\n</div>"
     },
     "execution_count": 224,
     "metadata": {},
     "output_type": "execute_result"
    }
   ],
   "source": [
    "data.corr()"
   ],
   "metadata": {
    "collapsed": false,
    "pycharm": {
     "name": "#%%\n"
    }
   }
  },
  {
   "cell_type": "code",
   "execution_count": 225,
   "outputs": [],
   "source": [
    "# train test split\n",
    "features = ['area', 'perimeter', 'compactness','length_of_kernel','width_of_kernel','asymmetry_coefficient','length_of_kernel_groove']\n",
    "target = ['wheat_type']\n",
    "X_train, X_test, y_train, y_test = train_test_split(data[features], data[target], test_size=0.2, random_state=42)"
   ],
   "metadata": {
    "collapsed": false,
    "pycharm": {
     "name": "#%%\n"
    }
   }
  },
  {
   "cell_type": "markdown",
   "source": [
    "## Perceptron"
   ],
   "metadata": {
    "collapsed": false,
    "pycharm": {
     "name": "#%% md\n"
    }
   }
  },
  {
   "cell_type": "code",
   "execution_count": 226,
   "outputs": [],
   "source": [
    "model = Pipeline([\n",
    "    ('scaler',StandardScaler()),\n",
    "    ('Perceptron', Perceptron(n_jobs=-1, random_state=42))\n",
    "])"
   ],
   "metadata": {
    "collapsed": false,
    "pycharm": {
     "name": "#%%\n"
    }
   }
  },
  {
   "cell_type": "code",
   "execution_count": 227,
   "outputs": [],
   "source": [
    "model.fit(X_train, y_train)\n",
    "prediction = model.predict(X_test)"
   ],
   "metadata": {
    "collapsed": false,
    "pycharm": {
     "name": "#%%\n"
    }
   }
  },
  {
   "cell_type": "code",
   "execution_count": 228,
   "outputs": [
    {
     "name": "stdout",
     "output_type": "stream",
     "text": [
      "Accuracy: 90.48%\n"
     ]
    }
   ],
   "source": [
    "print(f'Accuracy: {(accuracy_score(y_test,prediction)*100).__round__(2)}%')"
   ],
   "metadata": {
    "collapsed": false,
    "pycharm": {
     "name": "#%%\n"
    }
   }
  },
  {
   "cell_type": "markdown",
   "source": [
    "## MLP"
   ],
   "metadata": {
    "collapsed": false,
    "pycharm": {
     "name": "#%% md\n"
    }
   }
  },
  {
   "cell_type": "code",
   "execution_count": 229,
   "outputs": [],
   "source": [
    "solv = ['lbfgs','sgd', 'adam'] #default = adam\n",
    "l_rate = [1e-4, 1e-3, 1e-2]   #default = 0.001\n",
    "reg = [1e-5, 1e-4, 1e-3]  #default = 0.0001\n",
    "lr = ['constant', 'invscaling', 'adaptive']\n",
    "\n",
    "\n",
    "\n",
    "no_of_tests = 20\n",
    "max_layer_amount = 5\n",
    "max_neuron_amount = 100\n",
    "hidden = []\n",
    "random.seed(42)\n",
    "for i in range(0,no_of_tests): # amount of variations\n",
    "    no_of_layers = random.randrange(1,max_layer_amount+1)\n",
    "    t = ()\n",
    "    for j in range(0,no_of_layers):\n",
    "        t += (random.randrange(1,max_neuron_amount+1),)\n",
    "    hidden.append(t)\n",
    "\n",
    "model = Pipeline([\n",
    "    ('scaler',StandardScaler()),\n",
    "    ('MLPClassifier', MLPClassifier(verbose=False, random_state=42))\n",
    "])\n",
    "\n",
    "hidden = [(1,), (2,), (3,), (4,), (5,)]"
   ],
   "metadata": {
    "collapsed": false,
    "pycharm": {
     "name": "#%%\n"
    }
   }
  },
  {
   "cell_type": "code",
   "execution_count": 230,
   "outputs": [
    {
     "name": "stdout",
     "output_type": "stream",
     "text": [
      "[(1,), (2,), (3,), (4,), (5,)]\n"
     ]
    }
   ],
   "source": [
    "print(hidden)"
   ],
   "metadata": {
    "collapsed": false,
    "pycharm": {
     "name": "#%%\n"
    }
   }
  },
  {
   "cell_type": "code",
   "execution_count": 231,
   "outputs": [
    {
     "data": {
      "text/plain": "dict_keys(['memory', 'steps', 'verbose', 'scaler', 'MLPClassifier', 'scaler__copy', 'scaler__with_mean', 'scaler__with_std', 'MLPClassifier__activation', 'MLPClassifier__alpha', 'MLPClassifier__batch_size', 'MLPClassifier__beta_1', 'MLPClassifier__beta_2', 'MLPClassifier__early_stopping', 'MLPClassifier__epsilon', 'MLPClassifier__hidden_layer_sizes', 'MLPClassifier__learning_rate', 'MLPClassifier__learning_rate_init', 'MLPClassifier__max_fun', 'MLPClassifier__max_iter', 'MLPClassifier__momentum', 'MLPClassifier__n_iter_no_change', 'MLPClassifier__nesterovs_momentum', 'MLPClassifier__power_t', 'MLPClassifier__random_state', 'MLPClassifier__shuffle', 'MLPClassifier__solver', 'MLPClassifier__tol', 'MLPClassifier__validation_fraction', 'MLPClassifier__verbose', 'MLPClassifier__warm_start'])"
     },
     "execution_count": 231,
     "metadata": {},
     "output_type": "execute_result"
    }
   ],
   "source": [
    "model.get_params().keys()"
   ],
   "metadata": {
    "collapsed": false,
    "pycharm": {
     "name": "#%%\n"
    }
   }
  },
  {
   "cell_type": "code",
   "execution_count": 232,
   "outputs": [
    {
     "data": {
      "text/plain": "{'MLPClassifier__alpha': 1e-05,\n 'MLPClassifier__hidden_layer_sizes': (1,),\n 'MLPClassifier__learning_rate': 'constant',\n 'MLPClassifier__learning_rate_init': 0.0001,\n 'MLPClassifier__solver': 'lbfgs'}"
     },
     "execution_count": 232,
     "metadata": {},
     "output_type": "execute_result"
    }
   ],
   "source": [
    "from sklearn.utils._testing import ignore_warnings\n",
    "\n",
    "# GridsearchCV\n",
    "skf = StratifiedKFold(n_splits=5, shuffle=True, random_state=42)\n",
    "parameters = {'MLPClassifier__learning_rate_init': l_rate, 'MLPClassifier__solver': solv, 'MLPClassifier__alpha': reg, 'MLPClassifier__hidden_layer_sizes':hidden, 'MLPClassifier__learning_rate': lr}\n",
    "#parameters = {'MLPClassifier__learning_rate_init': l_rate}\n",
    "gscv = GridSearchCV(estimator=model, param_grid=parameters, scoring=\"f1\", cv=skf, n_jobs=-1)\n",
    "@ignore_warnings\n",
    "def fit():\n",
    "    gscv.fit(data[features], data[target])\n",
    "#fit()\n",
    "#gscv.best_params_"
   ],
   "metadata": {
    "collapsed": false,
    "pycharm": {
     "name": "#%%\n"
    }
   }
  },
  {
   "cell_type": "code",
   "source": [
    "best_alpha = 1e-05 # or 0.00001\n",
    "best_hidden_layer_size = (5,10,10,10)\n",
    "best_learning_rate = 'constant'\n",
    "best_learning_rate_init = 0.0001 # won't be used with lbfgs anyway\n",
    "best_solver = 'lbfgs'"
   ],
   "metadata": {
    "collapsed": false,
    "pycharm": {
     "name": "#%%\n"
    }
   },
   "execution_count": 238,
   "outputs": []
  },
  {
   "cell_type": "markdown",
   "source": [
    "### Non-optimized pipeline"
   ],
   "metadata": {
    "collapsed": false,
    "pycharm": {
     "name": "#%% md\n"
    }
   }
  },
  {
   "cell_type": "code",
   "execution_count": 234,
   "outputs": [
    {
     "name": "stdout",
     "output_type": "stream",
     "text": [
      "Default Accuracy: 88.1%\n"
     ]
    }
   ],
   "source": [
    "# Default values\n",
    "model = Pipeline([\n",
    "    ('scaler',StandardScaler()),\n",
    "    ('MLPClassifier', MLPClassifier(verbose=False,random_state=42))\n",
    "])\n",
    "model.fit(X_train, y_train)\n",
    "prediction = model.predict(X_test)\n",
    "print(f'Default Accuracy: {(accuracy_score(y_test,prediction)*100).__round__(2)}%')"
   ],
   "metadata": {
    "collapsed": false,
    "pycharm": {
     "name": "#%%\n"
    }
   }
  },
  {
   "cell_type": "markdown",
   "source": [
    "### Optimized pipeline"
   ],
   "metadata": {
    "collapsed": false,
    "pycharm": {
     "name": "#%% md\n"
    }
   }
  },
  {
   "cell_type": "code",
   "execution_count": 239,
   "outputs": [
    {
     "name": "stdout",
     "output_type": "stream",
     "text": [
      "Optimized Accuracy: 97.62%\n",
      "F1 Score:0.9761904761904762\n"
     ]
    }
   ],
   "source": [
    "#(5,10,10,10) and the other best parameters results in 97.62%\n",
    "model = Pipeline([\n",
    "    ('scaler',StandardScaler()),\n",
    "    ('MLPClassifier', MLPClassifier(verbose=False,\n",
    "                                    random_state=42,\n",
    "                                    alpha=best_alpha,\n",
    "                                    solver=best_solver,\n",
    "                                    learning_rate=best_learning_rate,\n",
    "                                    hidden_layer_sizes=best_hidden_layer_size))\n",
    "])\n",
    "model.fit(X_train, y_train)\n",
    "prediction = model.predict(X_test)\n",
    "print(f'Optimized Accuracy: {(accuracy_score(y_test,prediction)*100).__round__(2)}%')\n",
    "print(f'F1 Score:{(f1_score(y_test, prediction, average=\"micro\"))}')"
   ],
   "metadata": {
    "collapsed": false,
    "pycharm": {
     "name": "#%%\n"
    }
   }
  },
  {
   "cell_type": "code",
   "execution_count": null,
   "outputs": [],
   "source": [
    "iterations = range(1,1000)\n",
    "scores = []\n",
    "for i in iterations:\n",
    "    model = Pipeline([\n",
    "    ('scaler',StandardScaler()),\n",
    "    ('MLPClassifier', MLPClassifier(verbose=False,\n",
    "                                    random_state=42,\n",
    "                                    alpha=best_alpha,\n",
    "                                    solver=best_solver,\n",
    "                                    learning_rate=best_learning_rate,\n",
    "                                    hidden_layer_sizes=best_hidden_layer_size,\n",
    "                                    max_iter=i))\n",
    "    ])\n",
    "    model.fit(X_train, y_train)\n",
    "    prediction = model.predict(X_test)\n",
    "    scores.append(f1_score(y_test,prediction, average='micro'))"
   ],
   "metadata": {
    "collapsed": false,
    "pycharm": {
     "name": "#%%\n",
     "is_executing": true
    }
   }
  },
  {
   "cell_type": "code",
   "execution_count": null,
   "outputs": [],
   "source": [
    "plt.plot(iterations, scores)\n",
    "plt.grid()\n",
    "plt.show()"
   ],
   "metadata": {
    "collapsed": false,
    "pycharm": {
     "name": "#%%\n"
    }
   }
  }
 ],
 "metadata": {
  "kernelspec": {
   "display_name": "Python 3",
   "language": "python",
   "name": "python3"
  },
  "language_info": {
   "codemirror_mode": {
    "name": "ipython",
    "version": 3
   },
   "file_extension": ".py",
   "mimetype": "text/x-python",
   "name": "python",
   "nbconvert_exporter": "python",
   "pygments_lexer": "ipython3",
   "version": "3.8.12"
  }
 },
 "nbformat": 4,
 "nbformat_minor": 4
}