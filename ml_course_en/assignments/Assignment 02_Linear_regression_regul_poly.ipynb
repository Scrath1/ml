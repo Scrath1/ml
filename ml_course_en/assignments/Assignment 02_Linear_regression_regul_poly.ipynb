{
 "cells": [
  {
   "cell_type": "markdown",
   "metadata": {},
   "source": [
    "# Assignment 2. Linear regression. Polynomial features. Regularization\n",
    "## General Assignment\n",
    "\n",
    "Before performing the practical work, you need download the dataset accordingly to the option on your machine (or cloud service)\n",
    "1. Write a program that splits the original sample into a training set and a test set (training set, validation set, test set) with train_test_split method of Skikit Learn library\n",
    "2. Using the scikit-learn library (http://scikit-learn.org/stable/), train the linear regression model for the training sample (example: http://scikit-learn.org/stable/auto_examples/linear_model/plot_ols.html#sphx-glr-auto-examples-linear-model-plot-ols-py)\n",
    "3. Check the accuracy of the model from the test set\n",
    "4. Build a model using a polynomial function (example: http://scikit-learn.org/stable/auto_examples/model_selection/plot_underfitting_overfitting.html#sphx-glr-auto-examples-model-selection-plot-underfitting-overfitting-py). Build plots with the dependence of the accuracy (r2 or accuracy or score) on the degree of the polynomial function.\n",
    "5. Build a model using regularization (example: http://scikit-learn.org/stable/modules/linear_model.html). On the basis of experiments, select parameters for regularization. Build plots with the dependence of the error on the regularization coefficient.\n",
    "\n",
    "\n",
    "## Options\n",
    "Data sets are taken from the [UCI Machine Learning Repository]\n",
    "(https://archive.ics.uci.edu/ml/datasets.php)\n",
    "The option is determined by the data set, which can be downloaded from the link above:\n",
    "1. Condition Based Maintenance of Naval Propulsion Plants\n",
    "2. UJIIndoorLoc\n",
    "3. Insurance Company Benchmark (COIL 2000)\n",
    "4. KDD Cup 1998 Data\n",
    "5. [Forest Fires](https://www.kaggle.com/elikplim/predict-the-burned-area-of-forest-fires)\n",
    "6. Concrete Compressive Strength\n",
    "7. Concrete Slump Test\n",
    "8. Communities and Crime\n",
    "9. Parkinsons Telemonitoring\n",
    "10. YearPredictionMSD\n",
    "11. Relative location of CT slices on axial axis\n",
    "12. Individual household electric power consumption\n",
    "13. **Energy efficiency**\n",
    "14. 3D Road Network (North Jutland, Denmark)\n",
    "15. ISTANBUL STOCK EXCHANGE\n",
    "16. Buzz in social media\n",
    "17. Physicochemical Properties of Protein Tertiary Structure\n",
    "18. Gas Sensor Array Drift Dataset at Different Concentrations\n",
    "19. SkillCraft1 Master Table Dataset\n",
    "20. SML2010\n",
    "21. Bike Sharing Dataset\n",
    "22. Combined Cycle Power Plant\n",
    "23. BlogFeedback\n",
    "\n",
    "\n"
   ]
  },
  {
   "cell_type": "code",
   "execution_count": 76,
   "metadata": {},
   "outputs": [],
   "source": [
    "import pandas as pd\n",
    "import numpy as np\n",
    "from sklearn.model_selection import train_test_split\n",
    "from sklearn import linear_model\n",
    "from sklearn.tree import DecisionTreeClassifier\n",
    "import matplotlib.pyplot as plt\n",
    "from sklearn.metrics import mean_squared_error, r2_score\n",
    "\n",
    "#import data\n",
    "dataset = pd.read_excel(\"./Assignment_Data/energy_efficiency_dataset.xlsx\")\n",
    "dataset = dataset.rename(columns={\"X1\" : \"Relative Compactness\", \"X2\" : \"Surface Area\", \"X3\" : \"Wall Area\",\n",
    "           \"X4\" : \"Roof Area\", \"X5\" : \"Overall Height\", \"X6\" : \"Orientation\",\n",
    "           \"X7\" : \"Glazing Area\", \"X8\" : \"Glazing Area Distribution\", \"Y1\" : \"Heating Load\",\n",
    "           \"Y2\" : \"Cooling Load\"}, errors=\"raise\")\n",
    "\n",
    "features = [\"Relative Compactness\", \"Surface Area\", \"Wall Area\", \"Roof Area\",\"Overall Height\", \"Orientation\",\n",
    "           \"Glazing Area\", \"Glazing Area Distribution\"]\n",
    "targets= [\"Heating Load\", \"Cooling Load\"]"
   ]
  },
  {
   "cell_type": "code",
   "execution_count": 77,
   "outputs": [
    {
     "name": "stdout",
     "output_type": "stream",
     "text": [
      "148    28.07\n",
      "445    24.96\n",
      "93     12.97\n",
      "625    32.69\n",
      "144    24.28\n",
      "       ...  \n",
      "266    10.34\n",
      "675    32.74\n",
      "420    12.97\n",
      "250    25.36\n",
      "503    36.70\n",
      "Name: Heating Load, Length: 576, dtype: float64\n"
     ]
    }
   ],
   "source": [
    "#split data into training and test set\n",
    "data_train, data_test = train_test_split(dataset)\n",
    "data_train_x = data_train[features].values.reshape(-1,len(features))\n",
    "data_train_y = data_train[targets].values.reshape(-1,len(targets))\n",
    "data_test_x = data_test[features].values.reshape(-1, len(features))\n",
    "data_test_y = data_test[targets].values.reshape(-1,len(targets))\n",
    "\n",
    "\n",
    "print(data_train_y)"
   ],
   "metadata": {
    "collapsed": false,
    "pycharm": {
     "name": "#%%\n"
    }
   }
  },
  {
   "cell_type": "code",
   "execution_count": 78,
   "outputs": [
    {
     "ename": "ValueError",
     "evalue": "Unknown label type: 'continuous'",
     "output_type": "error",
     "traceback": [
      "\u001B[1;31m---------------------------------------------------------------------------\u001B[0m",
      "\u001B[1;31mValueError\u001B[0m                                Traceback (most recent call last)",
      "\u001B[1;32m~\\AppData\\Local\\Temp/ipykernel_14492/2383766790.py\u001B[0m in \u001B[0;36m<module>\u001B[1;34m\u001B[0m\n\u001B[0;32m      2\u001B[0m \u001B[1;33m\u001B[0m\u001B[0m\n\u001B[0;32m      3\u001B[0m \u001B[0mmodel1\u001B[0m \u001B[1;33m=\u001B[0m \u001B[0mlinear_model\u001B[0m\u001B[1;33m.\u001B[0m\u001B[0mLinearRegression\u001B[0m\u001B[1;33m(\u001B[0m\u001B[1;33m)\u001B[0m\u001B[1;33m.\u001B[0m\u001B[0mfit\u001B[0m\u001B[1;33m(\u001B[0m\u001B[0mdata_train_x\u001B[0m\u001B[1;33m,\u001B[0m\u001B[0mdata_train_y1\u001B[0m\u001B[1;33m)\u001B[0m\u001B[1;33m\u001B[0m\u001B[1;33m\u001B[0m\u001B[0m\n\u001B[1;32m----> 4\u001B[1;33m \u001B[0mmodel1_tree\u001B[0m \u001B[1;33m=\u001B[0m \u001B[0mDecisionTreeClassifier\u001B[0m\u001B[1;33m(\u001B[0m\u001B[1;33m)\u001B[0m\u001B[1;33m.\u001B[0m\u001B[0mfit\u001B[0m\u001B[1;33m(\u001B[0m\u001B[0mdata_train_x\u001B[0m\u001B[1;33m,\u001B[0m\u001B[0mdata_train_y1\u001B[0m\u001B[1;33m)\u001B[0m\u001B[1;33m\u001B[0m\u001B[1;33m\u001B[0m\u001B[0m\n\u001B[0m\u001B[0;32m      5\u001B[0m \u001B[0mmodel2\u001B[0m \u001B[1;33m=\u001B[0m \u001B[0mlinear_model\u001B[0m\u001B[1;33m.\u001B[0m\u001B[0mLinearRegression\u001B[0m\u001B[1;33m(\u001B[0m\u001B[1;33m)\u001B[0m\u001B[1;33m.\u001B[0m\u001B[0mfit\u001B[0m\u001B[1;33m(\u001B[0m\u001B[0mdata_train_x\u001B[0m\u001B[1;33m,\u001B[0m\u001B[0mdata_train_y2\u001B[0m\u001B[1;33m)\u001B[0m\u001B[1;33m\u001B[0m\u001B[1;33m\u001B[0m\u001B[0m\n\u001B[0;32m      6\u001B[0m \u001B[1;31m#predict\u001B[0m\u001B[1;33m\u001B[0m\u001B[1;33m\u001B[0m\u001B[0m\n",
      "\u001B[1;32m~\\.virtualenvs\\ml-TQRJ4U_2\\lib\\site-packages\\sklearn\\tree\\_classes.py\u001B[0m in \u001B[0;36mfit\u001B[1;34m(self, X, y, sample_weight, check_input, X_idx_sorted)\u001B[0m\n\u001B[0;32m    935\u001B[0m         \"\"\"\n\u001B[0;32m    936\u001B[0m \u001B[1;33m\u001B[0m\u001B[0m\n\u001B[1;32m--> 937\u001B[1;33m         super().fit(\n\u001B[0m\u001B[0;32m    938\u001B[0m             \u001B[0mX\u001B[0m\u001B[1;33m,\u001B[0m\u001B[1;33m\u001B[0m\u001B[1;33m\u001B[0m\u001B[0m\n\u001B[0;32m    939\u001B[0m             \u001B[0my\u001B[0m\u001B[1;33m,\u001B[0m\u001B[1;33m\u001B[0m\u001B[1;33m\u001B[0m\u001B[0m\n",
      "\u001B[1;32m~\\.virtualenvs\\ml-TQRJ4U_2\\lib\\site-packages\\sklearn\\tree\\_classes.py\u001B[0m in \u001B[0;36mfit\u001B[1;34m(self, X, y, sample_weight, check_input, X_idx_sorted)\u001B[0m\n\u001B[0;32m    201\u001B[0m \u001B[1;33m\u001B[0m\u001B[0m\n\u001B[0;32m    202\u001B[0m         \u001B[1;32mif\u001B[0m \u001B[0mis_classification\u001B[0m\u001B[1;33m:\u001B[0m\u001B[1;33m\u001B[0m\u001B[1;33m\u001B[0m\u001B[0m\n\u001B[1;32m--> 203\u001B[1;33m             \u001B[0mcheck_classification_targets\u001B[0m\u001B[1;33m(\u001B[0m\u001B[0my\u001B[0m\u001B[1;33m)\u001B[0m\u001B[1;33m\u001B[0m\u001B[1;33m\u001B[0m\u001B[0m\n\u001B[0m\u001B[0;32m    204\u001B[0m             \u001B[0my\u001B[0m \u001B[1;33m=\u001B[0m \u001B[0mnp\u001B[0m\u001B[1;33m.\u001B[0m\u001B[0mcopy\u001B[0m\u001B[1;33m(\u001B[0m\u001B[0my\u001B[0m\u001B[1;33m)\u001B[0m\u001B[1;33m\u001B[0m\u001B[1;33m\u001B[0m\u001B[0m\n\u001B[0;32m    205\u001B[0m \u001B[1;33m\u001B[0m\u001B[0m\n",
      "\u001B[1;32m~\\.virtualenvs\\ml-TQRJ4U_2\\lib\\site-packages\\sklearn\\utils\\multiclass.py\u001B[0m in \u001B[0;36mcheck_classification_targets\u001B[1;34m(y)\u001B[0m\n\u001B[0;32m    196\u001B[0m         \u001B[1;34m\"multilabel-sequences\"\u001B[0m\u001B[1;33m,\u001B[0m\u001B[1;33m\u001B[0m\u001B[1;33m\u001B[0m\u001B[0m\n\u001B[0;32m    197\u001B[0m     ]:\n\u001B[1;32m--> 198\u001B[1;33m         \u001B[1;32mraise\u001B[0m \u001B[0mValueError\u001B[0m\u001B[1;33m(\u001B[0m\u001B[1;34m\"Unknown label type: %r\"\u001B[0m \u001B[1;33m%\u001B[0m \u001B[0my_type\u001B[0m\u001B[1;33m)\u001B[0m\u001B[1;33m\u001B[0m\u001B[1;33m\u001B[0m\u001B[0m\n\u001B[0m\u001B[0;32m    199\u001B[0m \u001B[1;33m\u001B[0m\u001B[0m\n\u001B[0;32m    200\u001B[0m \u001B[1;33m\u001B[0m\u001B[0m\n",
      "\u001B[1;31mValueError\u001B[0m: Unknown label type: 'continuous'"
     ]
    }
   ],
   "source": [
    "#create model and fit it\n",
    "\n",
    "model = linear_model.LinearRegression().fit(data_train_x,data_train_y)\n",
    "model_tree = DecisionTreeClassifier().fit(data_train_x,data_train_y)\n",
    "\n",
    "#predict\n",
    "y1_pred = model.predict(data_test_x)"
   ],
   "metadata": {
    "collapsed": false,
    "pycharm": {
     "name": "#%%\n"
    }
   }
  },
  {
   "cell_type": "code",
   "execution_count": null,
   "outputs": [],
   "source": [
    "print(model_tree.feature_importances_)\n"
   ],
   "metadata": {
    "collapsed": false,
    "pycharm": {
     "name": "#%%\n"
    }
   }
  }
 ],
 "metadata": {
  "kernelspec": {
   "display_name": "Python 3",
   "language": "python",
   "name": "python3"
  },
  "language_info": {
   "codemirror_mode": {
    "name": "ipython",
    "version": 3
   },
   "file_extension": ".py",
   "mimetype": "text/x-python",
   "name": "python",
   "nbconvert_exporter": "python",
   "pygments_lexer": "ipython3",
   "version": "3.8.8"
  }
 },
 "nbformat": 4,
 "nbformat_minor": 4
}