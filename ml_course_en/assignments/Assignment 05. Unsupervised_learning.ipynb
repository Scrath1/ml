{
 "cells": [
  {
   "cell_type": "markdown",
   "metadata": {},
   "source": [
    "# Assignment 5. Unsupervised learning"
   ]
  },
  {
   "cell_type": "markdown",
   "metadata": {},
   "source": [
    "## Assignment 5.1.\n",
    "\n",
    "In this task, we will look at how data dimensionality reduction and clustering methods work. At the same time, we'll practice solving classification task again.\n",
    "\n",
    "We will work with the [Samsung Human Activity Recognition](https://archive.ics.uci.edu/ml/datasets/Human+Activity+Recognition+Using+Smartphones) dataset. Download the data [here](https://drive.google.com/file/d/14RukQ0ylM2GCdViUHBBjZ2imCaYcjlux/view?usp=sharing). The data comes from accelerometers and gyros of Samsung Galaxy S3 mobile phones ( you can find more info about the features using the link above), the type of activity of a person with a phone in his/her pocket is also known – whether he/she walked, stood, lay, sat or walked up or down the stairs.\n",
    "\n",
    "First, we pretend that the type of activity is unknown to us, and we will try to cluster people purely on the basis of available features. Then we solve the problem of determining the type of physical activity as a classification problem.\n",
    "\n",
    "Fill the code where needed (\"Your code is here\") and answer the questions in the [web form](https://docs.google.com/forms/d/1wBf5UoRndv6PpzIwYnM9f0ysoGa4Yqcqle-HBlBP5QQ/edit)."
   ]
  },
  {
   "cell_type": "code",
   "execution_count": 1188,
   "metadata": {},
   "outputs": [],
   "source": [
    "import concurrent.futures\n",
    "import os\n",
    "import threading\n",
    "\n",
    "import numpy as np\n",
    "import pandas as pd\n",
    "import seaborn as sns\n",
    "from tqdm import tqdm_notebook\n",
    "\n",
    "%matplotlib inline\n",
    "from matplotlib import pyplot as plt\n",
    "plt.style.use(['seaborn-darkgrid'])\n",
    "plt.rcParams['figure.figsize'] = (12, 9)\n",
    "plt.rcParams['font.family'] = 'DejaVu Sans'\n",
    "\n",
    "from sklearn import metrics\n",
    "from sklearn.cluster import KMeans, AgglomerativeClustering, SpectralClustering\n",
    "from sklearn.decomposition import PCA\n",
    "from sklearn.model_selection import GridSearchCV\n",
    "from sklearn.preprocessing import StandardScaler\n",
    "from sklearn.svm import LinearSVC\n",
    "\n",
    "RANDOM_STATE = 17"
   ]
  },
  {
   "cell_type": "code",
   "execution_count": 1189,
   "metadata": {},
   "outputs": [],
   "source": [
    "PATH_TO_SAMSUNG_DATA = \"../../data/samsung_HAR\""
   ]
  },
  {
   "cell_type": "code",
   "execution_count": 1190,
   "metadata": {},
   "outputs": [],
   "source": [
    "#X_train = np.loadtxt(os.path.join(PATH_TO_SAMSUNG_DATA, \"samsung_train.txt\"))\n",
    "#y_train = np.loadtxt(os.path.join(PATH_TO_SAMSUNG_DATA,\n",
    "#                                  \"samsung_train_labels.txt\")).astype(int)\n",
    "\n",
    "#X_test = np.loadtxt(os.path.join(PATH_TO_SAMSUNG_DATA, \"samsung_test.txt\"))\n",
    "#y_test = np.loadtxt(os.path.join(PATH_TO_SAMSUNG_DATA,\n",
    "#                                  \"samsung_test_labels.txt\")).astype(int)"
   ]
  },
  {
   "cell_type": "code",
   "execution_count": 1191,
   "metadata": {},
   "outputs": [],
   "source": [
    "# Checking dimensions\n",
    "#assert(X_train.shape == (7352, 561) and y_train.shape == (7352,))\n",
    "#assert(X_test.shape == (2947, 561) and y_test.shape == (2947,))"
   ]
  },
  {
   "cell_type": "markdown",
   "metadata": {},
   "source": [
    "For clustering, we do not need a target vector, so we'll work with the combination of training and test samples. Merge `X_train` with `X_test`, and `y_train` with `y_test`."
   ]
  },
  {
   "cell_type": "code",
   "execution_count": 1192,
   "metadata": {},
   "outputs": [],
   "source": [
    "# Your code here"
   ]
  },
  {
   "cell_type": "markdown",
   "metadata": {},
   "source": [
    "Define the number of unique values of the labels of the target class."
   ]
  },
  {
   "cell_type": "code",
   "execution_count": 1193,
   "metadata": {},
   "outputs": [],
   "source": [
    "# np.unique(y)"
   ]
  },
  {
   "cell_type": "code",
   "execution_count": 1194,
   "metadata": {},
   "outputs": [],
   "source": [
    "# n_classes = np.unique(y).size"
   ]
  },
  {
   "cell_type": "markdown",
   "metadata": {},
   "source": [
    "[These labels correspond to:](https://archive.ics.uci.edu/ml/machine-learning-databases/00240/UCI%20HAR%20Dataset.names)\n",
    "- 1 – walking\n",
    "- 2 – walking upstairs\n",
    "- 3 – walking downstairs\n",
    "- 4 – sitting\n",
    "- 5 – standing\n",
    "- 6 – laying down"
   ]
  },
  {
   "cell_type": "markdown",
   "metadata": {},
   "source": [
    "Scale the sample using `StandardScaler` with default parameters."
   ]
  },
  {
   "cell_type": "code",
   "execution_count": 1195,
   "metadata": {},
   "outputs": [],
   "source": [
    "# Your code here"
   ]
  },
  {
   "cell_type": "markdown",
   "metadata": {},
   "source": [
    "Reduce the number of dimensions using PCA, leaving as many components as necessary to explain at least 90% of the variance of the original (scaled) data. Use the scaled dataset and fix `random_state` (RANDOM_STATE constant)."
   ]
  },
  {
   "cell_type": "code",
   "execution_count": 1196,
   "metadata": {},
   "outputs": [],
   "source": [
    "# Your code here\n",
    "# pca = \n",
    "# X_pca = "
   ]
  },
  {
   "cell_type": "markdown",
   "metadata": {},
   "source": [
    "** Question 1: ** <br>\n",
    "What is the minimum number of principal components required to cover the 90% of the variance of the original (scaled) data?"
   ]
  },
  {
   "cell_type": "code",
   "execution_count": 1197,
   "metadata": {},
   "outputs": [],
   "source": [
    "# Your code here"
   ]
  },
  {
   "cell_type": "markdown",
   "metadata": {},
   "source": [
    "**Answer options:**\n",
    "- 56 \n",
    "- 65\n",
    "- 66\n",
    "- 193"
   ]
  },
  {
   "cell_type": "markdown",
   "metadata": {},
   "source": [
    "**Вопрос 2:**<br>\n",
    "What percentage of the variance is covered by the first principal component? Round to the nearest percent.\n",
    "\n",
    "**Answer options:**\n",
    "- 45\n",
    "- 51 \n",
    "- 56\n",
    "- 61"
   ]
  },
  {
   "cell_type": "code",
   "execution_count": 1198,
   "metadata": {},
   "outputs": [],
   "source": [
    "# Your code here"
   ]
  },
  {
   "cell_type": "markdown",
   "metadata": {},
   "source": [
    "Visualize data in projection on the first two principal components."
   ]
  },
  {
   "cell_type": "code",
   "execution_count": 1199,
   "metadata": {},
   "outputs": [],
   "source": [
    "# Your code here\n",
    "# plt.scatter(, , c=y, s=20, cmap='viridis');"
   ]
  },
  {
   "cell_type": "markdown",
   "metadata": {},
   "source": [
    "**Question 3:**<br>\n",
    "If everything worked out correctly, you will see a number of clusters, almost perfectly separated from each other. What types of activity are included in these clusters? <br>\n",
    "\n",
    "**Answer options:**\n",
    "- 1 cluster: all 6 activities\n",
    "- 2 clusters: (walking, walking upstairs, walking downstairs ) and (sitting, standing, laying)\n",
    "- 3 clusters: (walking), (walking upstairs, walking downstairs) and (sitting, standing, laying)\n",
    "- 6 clusters"
   ]
  },
  {
   "cell_type": "markdown",
   "metadata": {},
   "source": [
    "------------------------------"
   ]
  },
  {
   "cell_type": "markdown",
   "metadata": {},
   "source": [
    "Perform clustering with the `KMeans` method, training the model on data with reduced dimensionality (by PCA). In this case, we will give a clue to look for exactly 6 clusters, but in general case we will not know how many clusters we should be looking for.\n",
    "\n",
    "Options:\n",
    "\n",
    "- ** n_clusters ** = n_classes (number of unique labels of the target class)\n",
    "- ** n_init ** = 100\n",
    "- ** random_state ** = RANDOM_STATE (for reproducibility of the result)\n",
    "\n",
    "Other parameters should have default values."
   ]
  },
  {
   "cell_type": "code",
   "execution_count": 1200,
   "metadata": {},
   "outputs": [],
   "source": [
    "# Your code here"
   ]
  },
  {
   "cell_type": "markdown",
   "metadata": {},
   "source": [
    "Visualize data in projection on the first two principal components. Color the dots according to the clusters obtained."
   ]
  },
  {
   "cell_type": "code",
   "execution_count": 1201,
   "metadata": {},
   "outputs": [],
   "source": [
    "# Your code here\n",
    "# plt.scatter(, , c=cluster_labels, s=20, cmap='viridis');"
   ]
  },
  {
   "cell_type": "markdown",
   "metadata": {},
   "source": [
    "Look at the correspondence between the cluster marks and the original class labels and what kinds of activities the `KMeans` algorithm is confused at."
   ]
  },
  {
   "cell_type": "code",
   "execution_count": 1202,
   "metadata": {},
   "outputs": [],
   "source": [
    "# tab = pd.crosstab(y, cluster_labels, margins=True)\n",
    "# tab.index = ['walking', 'going up the stairs',\n",
    "#             'going down the stairs', 'sitting', 'standing', 'laying', 'all']\n",
    "# tab.columns = ['cluster' + str(i + 1) for i in range(6)] + ['all']\n",
    "# tab"
   ]
  },
  {
   "cell_type": "markdown",
   "metadata": {},
   "source": [
    "We see that for each class (i.e., each activity) there are several clusters. Let's look at the maximum percentage of objects in a class that are assigned to a single cluster. This will be a simple metric that characterizes how easily the class is separated from others when clustering.\n",
    "\n",
    "Example: if for class \"walking downstairs\" (with 1406 instances belonging to it), the distribution of clusters is:\n",
    " - cluster 1 - 900\n",
    " - cluster 3 - 500\n",
    " - cluster 6 - 6,\n",
    " \n",
    "then such a share will be 900/1406 $ \\approx $ 0.64.\n",
    " \n",
    "\n",
    "** Question 4: ** <br>\n",
    "Which activity is separated from the rest better than others based on the simple metric described above? <br>\n",
    "\n",
    "**Answer:**\n",
    "- walking\n",
    "- standing\n",
    "- walking downstairs\n",
    "- all three options are incorrect"
   ]
  },
  {
   "cell_type": "markdown",
   "metadata": {},
   "source": [
    "It can be seen that kMeans does not distinguish activities very well. Use the elbow method to select the optimal number of clusters. Parameters of the algorithm and the data we use are the same as before, we change only `n_clusters`."
   ]
  },
  {
   "cell_type": "code",
   "execution_count": 1203,
   "metadata": {},
   "outputs": [],
   "source": [
    "# # Your code here\n",
    "# inertia = []\n",
    "# for k in tqdm_notebook(range(1, n_classes + 1)):\n",
    "#     pass"
   ]
  },
  {
   "cell_type": "markdown",
   "metadata": {},
   "source": [
    "** Question 5: ** <br>\n",
    "How many clusters can we choose according to the elbow method? <br>\n",
    "\n",
    "**Answer options:**\n",
    "- 1\n",
    "- 2\n",
    "- 3\n",
    "- 4"
   ]
  },
  {
   "cell_type": "markdown",
   "metadata": {},
   "source": [
    "------------------------"
   ]
  },
  {
   "cell_type": "markdown",
   "metadata": {},
   "source": [
    "Let's try another clustering algorithm, described in the article – agglomerative clustering."
   ]
  },
  {
   "cell_type": "code",
   "execution_count": 1204,
   "metadata": {},
   "outputs": [],
   "source": [
    "# ag = AgglomerativeClustering(n_clusters=n_classes, \n",
    "#                              linkage='ward').fit(X_pca)"
   ]
  },
  {
   "cell_type": "markdown",
   "metadata": {},
   "source": [
    "Calculate the Adjusted Rand Index (`sklearn.metrics`) for the resulting clustering and for ` KMeans` with the parameters from the 4th question."
   ]
  },
  {
   "cell_type": "code",
   "execution_count": 1205,
   "metadata": {},
   "outputs": [],
   "source": [
    "# Your code here"
   ]
  },
  {
   "cell_type": "markdown",
   "metadata": {},
   "source": [
    "** Question 6: ** <br>\n",
    "Select all the correct statements. <br>\n",
    "\n",
    "** Answer options: **\n",
    "- According to ARI, KMeans handled clustering worse than Agglomerative Clustering \n",
    "- For ARI, it does not matter which tags are assigned to the cluster, only the partitioning of instances into clusters matters \n",
    "- In case of random partitioning into clusters, ARI will be close to zero "
   ]
  },
  {
   "cell_type": "markdown",
   "metadata": {},
   "source": [
    "-------------------------------"
   ]
  },
  {
   "cell_type": "markdown",
   "metadata": {},
   "source": [
    "You can notice that the task is not very well solved when we try to detect several clusters (> 2). Now, let's solve the classification problem, given that the data is labeled.\n",
    "\n",
    "For classification, use the support vector machine – class `sklearn.svm.LinearSVC`. In this course, we didn't study this algorithm separately, but it is well-known and you can read about it, for example [here](http://cs231n.github.io/linear-classify/#svmvssoftmax).\n",
    "\n",
    "Choose the `C` hyperparameter for` LinearSVC` using `GridSearchCV`.\n",
    "\n",
    "- Train the new `StandardScaler` on the training set (with all original features), apply scaling to the test set\n",
    "- In `GridSearchCV`, specify `cv` = 3."
   ]
  },
  {
   "cell_type": "code",
   "execution_count": 1206,
   "metadata": {},
   "outputs": [],
   "source": [
    "# # Your code here\n",
    "# scaler = StandardScaler()\n",
    "# X_train_scaled =\n",
    "# X_test_scaled = "
   ]
  },
  {
   "cell_type": "code",
   "execution_count": 1207,
   "metadata": {},
   "outputs": [],
   "source": [
    "svc = LinearSVC(random_state=RANDOM_STATE)\n",
    "svc_params = {'C': [0.001, 0.01, 0.1, 1, 10]}"
   ]
  },
  {
   "cell_type": "code",
   "execution_count": 1208,
   "metadata": {},
   "outputs": [],
   "source": [
    "# %%time\n",
    "# # Your code here\n",
    "# best_svc = None"
   ]
  },
  {
   "cell_type": "code",
   "execution_count": 1209,
   "metadata": {},
   "outputs": [],
   "source": [
    "# best_svc.best_params_, best_svc.best_score_"
   ]
  },
  {
   "cell_type": "markdown",
   "metadata": {},
   "source": [
    "**Question 7**<br>\n",
    "Which value of the hyperparameter `C` was chosen the best on the basis of cross-validation? <br>\n",
    "\n",
    "**Answer options:**\n",
    "- 0.001\n",
    "- 0.01\n",
    "- 0.1 \n",
    "- 1\n",
    "- 10"
   ]
  },
  {
   "cell_type": "code",
   "execution_count": 1210,
   "metadata": {},
   "outputs": [],
   "source": [
    "# y_predicted = best_svc.predict(X_test_scaled)"
   ]
  },
  {
   "cell_type": "code",
   "execution_count": 1211,
   "metadata": {},
   "outputs": [],
   "source": [
    "# tab = pd.crosstab(y_test, y_predicted, margins=True)\n",
    "# tab.index = ['walking', 'climbing up the stairs',\n",
    "#              'going down the stairs', 'sitting', 'standing', 'laying', 'all']\n",
    "# tab.columns = ['walking', 'climbing up the stairs',\n",
    "#              'going down the stairs', 'sitting', 'standing', 'laying', 'all']\n",
    "# tab"
   ]
  },
  {
   "cell_type": "markdown",
   "metadata": {},
   "source": [
    "** Question 8: ** <br>\n",
    "Which activity type is worst detected by SVM in terms of precision? Recall?<br>\n",
    "\n",
    "**Answer options:**\n",
    "- precision – going up the stairs, recall – laying\n",
    "- precision – laying, recall – sitting\n",
    "- precision – walking, recall – walking\n",
    "- precision – standing, recall – sitting "
   ]
  },
  {
   "cell_type": "markdown",
   "metadata": {},
   "source": [
    "Finally, do the same thing as in Question 7, but add PCA.\n",
    "\n",
    "- Use `X_train_scaled` and` X_test_scaled`\n",
    "- Train the same PCA as before, on the scaled training set, apply scaling to the test set\n",
    "- Choose the hyperparameter `C` via cross-validation on the training set with PCA-transformation. You will notice how much faster it works now.\n",
    "\n",
    "** Question 9: ** <br>\n",
    "What is the difference between the best quality (accuracy) for cross-validation in the case of all 561 initial characteristics and in the second case, when the principal component method was applied? Round to the nearest percent. <br>\n",
    "\n",
    "** Options: **\n",
    "- quality is the same\n",
    "- 2%\n",
    "- 4%\n",
    "- 10%\n",
    "- 20%"
   ]
  },
  {
   "cell_type": "code",
   "execution_count": 1212,
   "metadata": {},
   "outputs": [],
   "source": [
    "# Your code here"
   ]
  },
  {
   "cell_type": "markdown",
   "metadata": {},
   "source": [
    "** Question 10: ** <br>\n",
    "Select all the correct statements:\n",
    "\n",
    "** Answer options: **\n",
    "- Principal component analysis in this case allowed to reduce the model training time, while the quality (mean cross-validation accuracy) suffered greatly, by more than 10%\n",
    "- PCA can be used to visualize data, but there are better methods for this task, for example, tSNE. However, PCA has lower computational complexity \n",
    "- PCA builds linear combinations of initial features, and in some applications they might be poorly interpreted by humans "
   ]
  },
  {
   "cell_type": "markdown",
   "metadata": {},
   "source": [
    "Authors: [Olga Daykhovskaya](https://www.linkedin.com/in/odaykhovskaya/), [Yury Kashnitskiy](https://yorko.github.io). This material is subject to the terms and conditions of the [Creative Commons CC BY-NC-SA 4.0](https://creativecommons.org/licenses/by-nc-sa/4.0/) license. Free use is permitted for any non-commercial purpose."
   ]
  },
  {
   "cell_type": "markdown",
   "metadata": {},
   "source": [
    "## Assignment 5.2"
   ]
  },
  {
   "cell_type": "markdown",
   "metadata": {},
   "source": [
    "### General Assignment\n",
    "\n",
    "Before performing the practice work, it is necessary to load the data set accordingly to the option on the disk.\n",
    "1. Perform the scaling.\n",
    "2. Using the scikit-learn library (http://scikit-learn.org/stable/), write a program using data clustering algorithms, which allows you to split the original sample into clusters corresponding to the proposed task (http://scikit-learn.org/stable/modules/clustering.html).\n",
    "3. Perform experiments and determine the best algorithm for clustering, parameters of the algorithm. At least 3 algorithms must be used.\n",
    "The results of experiments must be presented in the report (graphs, experimental procedure, conclusions).\n",
    "\n",
    "### Options\n",
    "Data sets are taken from the UCI Machine Learning Repository\n",
    "https://archive.ics.uci.edu/ml/index.php\n",
    "\n",
    "The option is determined by the data set, which can be downloaded from the link above:\n",
    "1. Sponge\n",
    "2. Water Treatment Plant\n",
    "3. Synthetic Control Chart Time Series\n",
    "4. Character Trajectories\n",
    "5. Plants\n",
    "6. Libras Movement\n",
    "7. KEGG Metabolic Relation Network (Directed)\n",
    "8. SMS Spam Collection\n",
    "9. **seeds**\n",
    "10. Human Activity Recognition Using Smartphones\n",
    "11. User Knowledge Modeling\n",
    "12. NYSK\n",
    "13. Activities of Daily Living (ADLs) Recognition Using Binary Sensors\n",
    "14. Dresses_Attribute_Sales\n",
    "15. Wholesale customers\n",
    "16. StoneFlakes\n",
    "17. Gesture Phase Segmentation\n",
    "18. AAAI 2014 Accepted Papers\n",
    "19. Dow Jones Index\n",
    "20. AAAI 2013 Accepted Papers\n",
    "21. wiki4HE\n",
    "22. Folio\n",
    "23. Mice Protein Expression\n",
    "24. Improved Spiral Test Using Digitized Graphics Tablet for Monitoring Parkinson’s Disease\n"
   ]
  },
  {
   "cell_type": "code",
   "execution_count": 1213,
   "outputs": [
    {
     "data": {
      "text/plain": "    area  perimeter  compactness  length_of_kernel  width_of_kernel  \\\n0  15.26      14.84       0.8710             5.763            3.312   \n1  14.88      14.57       0.8811             5.554            3.333   \n2  14.29      14.09       0.9050             5.291            3.337   \n3  13.84      13.94       0.8955             5.324            3.379   \n4  16.14      14.99       0.9034             5.658            3.562   \n\n   asymmetry_coefficient  length_of_kernel_groove  wheat_type  \n0                  2.221                    5.220           1  \n1                  1.018                    4.956           1  \n2                  2.699                    4.825           1  \n3                  2.259                    4.805           1  \n4                  1.355                    5.175           1  ",
      "text/html": "<div>\n<style scoped>\n    .dataframe tbody tr th:only-of-type {\n        vertical-align: middle;\n    }\n\n    .dataframe tbody tr th {\n        vertical-align: top;\n    }\n\n    .dataframe thead th {\n        text-align: right;\n    }\n</style>\n<table border=\"1\" class=\"dataframe\">\n  <thead>\n    <tr style=\"text-align: right;\">\n      <th></th>\n      <th>area</th>\n      <th>perimeter</th>\n      <th>compactness</th>\n      <th>length_of_kernel</th>\n      <th>width_of_kernel</th>\n      <th>asymmetry_coefficient</th>\n      <th>length_of_kernel_groove</th>\n      <th>wheat_type</th>\n    </tr>\n  </thead>\n  <tbody>\n    <tr>\n      <th>0</th>\n      <td>15.26</td>\n      <td>14.84</td>\n      <td>0.8710</td>\n      <td>5.763</td>\n      <td>3.312</td>\n      <td>2.221</td>\n      <td>5.220</td>\n      <td>1</td>\n    </tr>\n    <tr>\n      <th>1</th>\n      <td>14.88</td>\n      <td>14.57</td>\n      <td>0.8811</td>\n      <td>5.554</td>\n      <td>3.333</td>\n      <td>1.018</td>\n      <td>4.956</td>\n      <td>1</td>\n    </tr>\n    <tr>\n      <th>2</th>\n      <td>14.29</td>\n      <td>14.09</td>\n      <td>0.9050</td>\n      <td>5.291</td>\n      <td>3.337</td>\n      <td>2.699</td>\n      <td>4.825</td>\n      <td>1</td>\n    </tr>\n    <tr>\n      <th>3</th>\n      <td>13.84</td>\n      <td>13.94</td>\n      <td>0.8955</td>\n      <td>5.324</td>\n      <td>3.379</td>\n      <td>2.259</td>\n      <td>4.805</td>\n      <td>1</td>\n    </tr>\n    <tr>\n      <th>4</th>\n      <td>16.14</td>\n      <td>14.99</td>\n      <td>0.9034</td>\n      <td>5.658</td>\n      <td>3.562</td>\n      <td>1.355</td>\n      <td>5.175</td>\n      <td>1</td>\n    </tr>\n  </tbody>\n</table>\n</div>"
     },
     "execution_count": 1213,
     "metadata": {},
     "output_type": "execute_result"
    }
   ],
   "source": [
    "import pandas as pd\n",
    "import numpy as np\n",
    "from sklearn.cluster import AgglomerativeClustering, SpectralClustering, KMeans, AffinityPropagation, MeanShift\n",
    "from sklearn.preprocessing import StandardScaler\n",
    "from sklearn.model_selection import StratifiedKFold\n",
    "from sklearn import metrics\n",
    "from sklearn.decomposition import PCA\n",
    "from sklearn.base import clone\n",
    "from mpl_toolkits.mplot3d import Axes3D\n",
    "from itertools import product\n",
    "\n",
    "data = pd.read_csv('Assignment_Data/seeds_dataset.csv')\n",
    "data.head()"
   ],
   "metadata": {
    "collapsed": false,
    "pycharm": {
     "name": "#%%\n"
    }
   }
  },
  {
   "cell_type": "code",
   "execution_count": 1214,
   "outputs": [
    {
     "data": {
      "text/plain": "area                       False\nperimeter                  False\ncompactness                False\nlength_of_kernel           False\nwidth_of_kernel            False\nasymmetry_coefficient      False\nlength_of_kernel_groove    False\nwheat_type                 False\ndtype: bool"
     },
     "execution_count": 1214,
     "metadata": {},
     "output_type": "execute_result"
    }
   ],
   "source": [
    "data.any().isnull()"
   ],
   "metadata": {
    "collapsed": false,
    "pycharm": {
     "name": "#%%\n"
    }
   }
  },
  {
   "cell_type": "code",
   "execution_count": 1215,
   "outputs": [
    {
     "data": {
      "text/plain": "                             area  perimeter  compactness  length_of_kernel  \\\narea                     1.000000   0.994341     0.608288          0.949985   \nperimeter                0.994341   1.000000     0.529244          0.972422   \ncompactness              0.608288   0.529244     1.000000          0.367915   \nlength_of_kernel         0.949985   0.972422     0.367915          1.000000   \nwidth_of_kernel          0.970771   0.944829     0.761635          0.860415   \nasymmetry_coefficient   -0.229572  -0.217340    -0.331471         -0.171562   \nlength_of_kernel_groove  0.863693   0.890784     0.226825          0.932806   \nwheat_type              -0.346058  -0.327900    -0.531007         -0.257269   \n\n                         width_of_kernel  asymmetry_coefficient  \\\narea                            0.970771              -0.229572   \nperimeter                       0.944829              -0.217340   \ncompactness                     0.761635              -0.331471   \nlength_of_kernel                0.860415              -0.171562   \nwidth_of_kernel                 1.000000              -0.258037   \nasymmetry_coefficient          -0.258037               1.000000   \nlength_of_kernel_groove         0.749131              -0.011079   \nwheat_type                     -0.423463               0.577273   \n\n                         length_of_kernel_groove  wheat_type  \narea                                    0.863693   -0.346058  \nperimeter                               0.890784   -0.327900  \ncompactness                             0.226825   -0.531007  \nlength_of_kernel                        0.932806   -0.257269  \nwidth_of_kernel                         0.749131   -0.423463  \nasymmetry_coefficient                  -0.011079    0.577273  \nlength_of_kernel_groove                 1.000000    0.024301  \nwheat_type                              0.024301    1.000000  ",
      "text/html": "<div>\n<style scoped>\n    .dataframe tbody tr th:only-of-type {\n        vertical-align: middle;\n    }\n\n    .dataframe tbody tr th {\n        vertical-align: top;\n    }\n\n    .dataframe thead th {\n        text-align: right;\n    }\n</style>\n<table border=\"1\" class=\"dataframe\">\n  <thead>\n    <tr style=\"text-align: right;\">\n      <th></th>\n      <th>area</th>\n      <th>perimeter</th>\n      <th>compactness</th>\n      <th>length_of_kernel</th>\n      <th>width_of_kernel</th>\n      <th>asymmetry_coefficient</th>\n      <th>length_of_kernel_groove</th>\n      <th>wheat_type</th>\n    </tr>\n  </thead>\n  <tbody>\n    <tr>\n      <th>area</th>\n      <td>1.000000</td>\n      <td>0.994341</td>\n      <td>0.608288</td>\n      <td>0.949985</td>\n      <td>0.970771</td>\n      <td>-0.229572</td>\n      <td>0.863693</td>\n      <td>-0.346058</td>\n    </tr>\n    <tr>\n      <th>perimeter</th>\n      <td>0.994341</td>\n      <td>1.000000</td>\n      <td>0.529244</td>\n      <td>0.972422</td>\n      <td>0.944829</td>\n      <td>-0.217340</td>\n      <td>0.890784</td>\n      <td>-0.327900</td>\n    </tr>\n    <tr>\n      <th>compactness</th>\n      <td>0.608288</td>\n      <td>0.529244</td>\n      <td>1.000000</td>\n      <td>0.367915</td>\n      <td>0.761635</td>\n      <td>-0.331471</td>\n      <td>0.226825</td>\n      <td>-0.531007</td>\n    </tr>\n    <tr>\n      <th>length_of_kernel</th>\n      <td>0.949985</td>\n      <td>0.972422</td>\n      <td>0.367915</td>\n      <td>1.000000</td>\n      <td>0.860415</td>\n      <td>-0.171562</td>\n      <td>0.932806</td>\n      <td>-0.257269</td>\n    </tr>\n    <tr>\n      <th>width_of_kernel</th>\n      <td>0.970771</td>\n      <td>0.944829</td>\n      <td>0.761635</td>\n      <td>0.860415</td>\n      <td>1.000000</td>\n      <td>-0.258037</td>\n      <td>0.749131</td>\n      <td>-0.423463</td>\n    </tr>\n    <tr>\n      <th>asymmetry_coefficient</th>\n      <td>-0.229572</td>\n      <td>-0.217340</td>\n      <td>-0.331471</td>\n      <td>-0.171562</td>\n      <td>-0.258037</td>\n      <td>1.000000</td>\n      <td>-0.011079</td>\n      <td>0.577273</td>\n    </tr>\n    <tr>\n      <th>length_of_kernel_groove</th>\n      <td>0.863693</td>\n      <td>0.890784</td>\n      <td>0.226825</td>\n      <td>0.932806</td>\n      <td>0.749131</td>\n      <td>-0.011079</td>\n      <td>1.000000</td>\n      <td>0.024301</td>\n    </tr>\n    <tr>\n      <th>wheat_type</th>\n      <td>-0.346058</td>\n      <td>-0.327900</td>\n      <td>-0.531007</td>\n      <td>-0.257269</td>\n      <td>-0.423463</td>\n      <td>0.577273</td>\n      <td>0.024301</td>\n      <td>1.000000</td>\n    </tr>\n  </tbody>\n</table>\n</div>"
     },
     "execution_count": 1215,
     "metadata": {},
     "output_type": "execute_result"
    }
   ],
   "source": [
    "data.corr()"
   ],
   "metadata": {
    "collapsed": false,
    "pycharm": {
     "name": "#%%\n"
    }
   }
  },
  {
   "cell_type": "code",
   "execution_count": 1216,
   "outputs": [
    {
     "data": {
      "text/plain": "3"
     },
     "execution_count": 1216,
     "metadata": {},
     "output_type": "execute_result"
    }
   ],
   "source": [
    "# amount of classes to predict\n",
    "len(data.wheat_type.unique())\n"
   ],
   "metadata": {
    "collapsed": false,
    "pycharm": {
     "name": "#%%\n"
    }
   }
  },
  {
   "cell_type": "code",
   "execution_count": 1217,
   "outputs": [],
   "source": [
    "features = ['area', 'perimeter', 'compactness','length_of_kernel','width_of_kernel','asymmetry_coefficient','length_of_kernel_groove']\n",
    "target = ['wheat_type']\n",
    "# Scale data\n",
    "scaler = StandardScaler()\n",
    "data[features] = scaler.fit_transform(data[features], data[target])"
   ],
   "metadata": {
    "collapsed": false,
    "pycharm": {
     "name": "#%%\n"
    }
   }
  },
  {
   "cell_type": "code",
   "execution_count": 1218,
   "outputs": [
    {
     "data": {
      "text/plain": "       area  perimeter  compactness  length_of_kernel  width_of_kernel  \\\n0  0.142098   0.215462     0.000061          0.304218         0.141702   \n1  0.011188   0.008224     0.428515         -0.168625         0.197432   \n2 -0.192067  -0.360201     1.442383         -0.763637         0.208048   \n3 -0.347091  -0.475333     1.039381         -0.688978         0.319508   \n4  0.445257   0.330595     1.374509          0.066666         0.805159   \n\n   asymmetry_coefficient  length_of_kernel_groove  wheat_type  \n0              -0.986152                -0.383577           1  \n1              -1.788166                -0.922013           1  \n2              -0.667479                -1.189192           1  \n3              -0.960818                -1.229983           1  \n4              -1.563495                -0.475356           1  ",
      "text/html": "<div>\n<style scoped>\n    .dataframe tbody tr th:only-of-type {\n        vertical-align: middle;\n    }\n\n    .dataframe tbody tr th {\n        vertical-align: top;\n    }\n\n    .dataframe thead th {\n        text-align: right;\n    }\n</style>\n<table border=\"1\" class=\"dataframe\">\n  <thead>\n    <tr style=\"text-align: right;\">\n      <th></th>\n      <th>area</th>\n      <th>perimeter</th>\n      <th>compactness</th>\n      <th>length_of_kernel</th>\n      <th>width_of_kernel</th>\n      <th>asymmetry_coefficient</th>\n      <th>length_of_kernel_groove</th>\n      <th>wheat_type</th>\n    </tr>\n  </thead>\n  <tbody>\n    <tr>\n      <th>0</th>\n      <td>0.142098</td>\n      <td>0.215462</td>\n      <td>0.000061</td>\n      <td>0.304218</td>\n      <td>0.141702</td>\n      <td>-0.986152</td>\n      <td>-0.383577</td>\n      <td>1</td>\n    </tr>\n    <tr>\n      <th>1</th>\n      <td>0.011188</td>\n      <td>0.008224</td>\n      <td>0.428515</td>\n      <td>-0.168625</td>\n      <td>0.197432</td>\n      <td>-1.788166</td>\n      <td>-0.922013</td>\n      <td>1</td>\n    </tr>\n    <tr>\n      <th>2</th>\n      <td>-0.192067</td>\n      <td>-0.360201</td>\n      <td>1.442383</td>\n      <td>-0.763637</td>\n      <td>0.208048</td>\n      <td>-0.667479</td>\n      <td>-1.189192</td>\n      <td>1</td>\n    </tr>\n    <tr>\n      <th>3</th>\n      <td>-0.347091</td>\n      <td>-0.475333</td>\n      <td>1.039381</td>\n      <td>-0.688978</td>\n      <td>0.319508</td>\n      <td>-0.960818</td>\n      <td>-1.229983</td>\n      <td>1</td>\n    </tr>\n    <tr>\n      <th>4</th>\n      <td>0.445257</td>\n      <td>0.330595</td>\n      <td>1.374509</td>\n      <td>0.066666</td>\n      <td>0.805159</td>\n      <td>-1.563495</td>\n      <td>-0.475356</td>\n      <td>1</td>\n    </tr>\n  </tbody>\n</table>\n</div>"
     },
     "execution_count": 1218,
     "metadata": {},
     "output_type": "execute_result"
    }
   ],
   "source": [
    "data.head()"
   ],
   "metadata": {
    "collapsed": false,
    "pycharm": {
     "name": "#%%\n"
    }
   }
  },
  {
   "cell_type": "code",
   "execution_count": 1219,
   "outputs": [],
   "source": [
    "X = data[features]\n",
    "y = data[target].apply(lambda x: x-1)\n",
    "y = np.array(y).ravel()"
   ],
   "metadata": {
    "collapsed": false,
    "pycharm": {
     "name": "#%%\n"
    }
   }
  },
  {
   "cell_type": "markdown",
   "source": [
    "## PCA"
   ],
   "metadata": {
    "collapsed": false
   }
  },
  {
   "cell_type": "code",
   "execution_count": 1220,
   "outputs": [
    {
     "data": {
      "text/plain": "<Figure size 720x504 with 1 Axes>",
      "image/png": "[encoded data removed]"
     },
     "metadata": {},
     "output_type": "display_data"
    }
   ],
   "source": [
    "pca = PCA()\n",
    "pca.fit(X)\n",
    "\n",
    "plt.figure(figsize=(10,7))\n",
    "plt.plot(np.cumsum(pca.explained_variance_ratio_), color='k', lw=2)\n",
    "plt.xlabel('Number of components')\n",
    "plt.ylabel('Total explained variance')\n",
    "plt.xlim(0, 6)\n",
    "plt.yticks(np.arange(0, 1.1, 0.1))\n",
    "plt.axvline(2, c='b')\n",
    "plt.axhline(0.9, c='r')\n",
    "plt.show()"
   ],
   "metadata": {
    "collapsed": false,
    "pycharm": {
     "name": "#%%\n"
    }
   }
  },
  {
   "cell_type": "code",
   "execution_count": 1221,
   "outputs": [
    {
     "data": {
      "text/plain": "PCA(n_components=3)"
     },
     "execution_count": 1221,
     "metadata": {},
     "output_type": "execute_result"
    }
   ],
   "source": [
    "pca = PCA(n_components=3)\n",
    "pca.fit(X)"
   ],
   "metadata": {
    "collapsed": false,
    "pycharm": {
     "name": "#%%\n"
    }
   }
  },
  {
   "cell_type": "code",
   "execution_count": 1222,
   "outputs": [
    {
     "name": "stdout",
     "output_type": "stream",
     "text": [
      "3 principal components explain 98.67% of variance\n",
      "(210, 3)\n"
     ]
    },
    {
     "data": {
      "text/plain": "[Text(-2.0, 0, ''),\n Text(-1.0, 0, ''),\n Text(0.0, 0, ''),\n Text(1.0, 0, ''),\n Text(2.0, 0, ''),\n Text(3.0, 0, ''),\n Text(4.0, 0, '')]"
     },
     "execution_count": 1222,
     "metadata": {},
     "output_type": "execute_result"
    },
    {
     "data": {
      "text/plain": "<Figure size 432x360 with 1 Axes>",
      "image/png": "[encoded data removed]"
     },
     "metadata": {},
     "output_type": "display_data"
    }
   ],
   "source": [
    "print('3 principal components explain %.2f%% of variance' %\n",
    "      (100 * np.cumsum(pca.explained_variance_ratio_)[-1]))\n",
    "X = pca.transform(X)\n",
    "print(X.shape)\n",
    "\n",
    "fig = plt.figure(1, figsize=(6, 5))\n",
    "plt.clf()\n",
    "ax = Axes3D(fig, rect=[0, 0, .95, 1], elev=48, azim=134, auto_add_to_figure=False)\n",
    "fig.add_axes(ax)\n",
    "\n",
    "plt.cla()\n",
    "y_clr = np.choose(y, [1, 2, 0]).astype(float)\n",
    "ax.scatter(X[:, 0], X[:, 1], X[:, 2], c=y_clr,\n",
    "           cmap=plt.cm.brg)\n",
    "\n",
    "ax.w_xaxis.set_ticklabels([])\n",
    "ax.w_yaxis.set_ticklabels([])\n",
    "ax.w_zaxis.set_ticklabels([])"
   ],
   "metadata": {
    "collapsed": false,
    "pycharm": {
     "name": "#%%\n"
    }
   }
  },
  {
   "cell_type": "code",
   "execution_count": 1223,
   "outputs": [],
   "source": [
    "algorithms = []\n",
    "# custom GridSearch function with MULTITHREADING\n",
    "def param_search(model, parameters:dict, X: pd.DataFrame, y: pd.DataFrame or np.array, scoring_function)->list:\n",
    "    def combination_maker(params:dict)->list:\n",
    "        keys = list(params.keys())\n",
    "        param_lists = []\n",
    "        for k in keys:\n",
    "            param_lists.append(params.get(k))\n",
    "        result = list(product(*param_lists))\n",
    "        ret_val = []\n",
    "        for i in range(0,len(result)):\n",
    "            ret_val.append(dict(zip(keys,result[i])))\n",
    "        return ret_val\n",
    "\n",
    "    def evaluate_combination(model,params: dict)->float and dict:\n",
    "        m = clone(model)\n",
    "        m.set_params(**params)\n",
    "        m.fit(X)\n",
    "        return scoring_function(y,m.labels_),params\n",
    "\n",
    "    param_data = []\n",
    "    combinations = combination_maker(parameters)\n",
    "    with concurrent.futures.ThreadPoolExecutor() as executor:\n",
    "        futures = [executor.submit(evaluate_combination,model=model, params=c) for c in combinations]\n",
    "        param_data = [r.result() for r in futures]\n",
    "\n",
    "    return param_data"
   ],
   "metadata": {
    "collapsed": false,
    "pycharm": {
     "name": "#%%\n"
    }
   }
  },
  {
   "cell_type": "markdown",
   "source": [
    "## Scoring Function"
   ],
   "metadata": {
    "collapsed": false,
    "pycharm": {
     "name": "#%% md\n"
    }
   }
  },
  {
   "cell_type": "code",
   "execution_count": 1224,
   "outputs": [],
   "source": [
    "scorer =  metrics.v_measure_score"
   ],
   "metadata": {
    "collapsed": false,
    "pycharm": {
     "name": "#%%\n"
    }
   }
  },
  {
   "cell_type": "markdown",
   "source": [
    "## K-Means"
   ],
   "metadata": {
    "collapsed": false,
    "pycharm": {
     "name": "#%% md\n"
    }
   }
  },
  {
   "cell_type": "code",
   "execution_count": 1225,
   "outputs": [],
   "source": [
    "n_init = [1, 2, 4, 6, 8, 10, 12, 14, 16, 18, 20]\n",
    "max_iter = [5,10,25, 50, 75, 100, 200, 300, 400, 500, 600]\n",
    "tol = [1, 1e-1, 1e-2, 1e-3, 1e-4, 1e-5, 1e-6]\n",
    "algorithm = [\"full\",\"elkan\"]\n",
    "\n",
    "model = KMeans(n_clusters = 3,random_state=42)\n",
    "\n",
    "\n",
    "parameters={'algorithm': algorithm,'max_iter':max_iter ,'n_init': n_init, 'tol':tol}\n",
    "\n",
    "result = param_search(model, parameters, X, y, scorer)"
   ],
   "metadata": {
    "collapsed": false,
    "pycharm": {
     "name": "#%%\n"
    }
   }
  },
  {
   "cell_type": "code",
   "execution_count": 1226,
   "outputs": [
    {
     "name": "stdout",
     "output_type": "stream",
     "text": [
      "(0.7384069651104697, {'algorithm': 'full', 'max_iter': 5, 'n_init': 2, 'tol': 0.01})\n",
      "(0.7384069651104697, {'algorithm': 'full', 'max_iter': 5, 'n_init': 2, 'tol': 0.001})\n",
      "(0.7384069651104697, {'algorithm': 'full', 'max_iter': 5, 'n_init': 2, 'tol': 0.0001})\n",
      "(0.7384069651104697, {'algorithm': 'full', 'max_iter': 5, 'n_init': 2, 'tol': 1e-05})\n",
      "(0.7384069651104697, {'algorithm': 'full', 'max_iter': 5, 'n_init': 2, 'tol': 1e-06})\n",
      "(0.7384069651104697, {'algorithm': 'full', 'max_iter': 5, 'n_init': 4, 'tol': 0.01})\n",
      "(0.7384069651104697, {'algorithm': 'full', 'max_iter': 5, 'n_init': 4, 'tol': 0.001})\n",
      "(0.7384069651104697, {'algorithm': 'full', 'max_iter': 5, 'n_init': 4, 'tol': 0.0001})\n",
      "(0.7384069651104697, {'algorithm': 'full', 'max_iter': 5, 'n_init': 4, 'tol': 1e-05})\n",
      "(0.7384069651104697, {'algorithm': 'full', 'max_iter': 5, 'n_init': 4, 'tol': 1e-06})\n"
     ]
    }
   ],
   "source": [
    "sorted_by_score = sorted(result, key=lambda item:item[0], reverse=True)\n",
    "\n",
    "print(*sorted_by_score[:10], sep='\\n')\n",
    "\n",
    "algorithms.append(KMeans(n_clusters=3,\n",
    "                         random_state=42,\n",
    "                         algorithm=sorted_by_score[0][1]['algorithm'],\n",
    "                         max_iter=sorted_by_score[0][1]['max_iter'],\n",
    "                         n_init=sorted_by_score[0][1]['n_init'],\n",
    "                         tol=sorted_by_score[0][1]['tol']))"
   ],
   "metadata": {
    "collapsed": false,
    "pycharm": {
     "name": "#%%\n"
    }
   }
  },
  {
   "cell_type": "markdown",
   "source": [
    "## Agglomerative Clustering/Hierarchical Clustering"
   ],
   "metadata": {
    "collapsed": false,
    "pycharm": {
     "name": "#%% md\n"
    }
   }
  },
  {
   "cell_type": "code",
   "execution_count": 1227,
   "outputs": [],
   "source": [
    "affinity = ['euclidean', 'l1', 'l2', 'manhattan', 'cosine']\n",
    "compute_full_tree = [True, False]\n",
    "linkage = ['complete', 'average', 'single']\n",
    "\n",
    "model = AgglomerativeClustering(n_clusters=3)\n",
    "parameters={'affinity':affinity,'compute_full_tree':compute_full_tree,'linkage':linkage}\n",
    "result = param_search(model, parameters, X,y, metrics.v_measure_score)"
   ],
   "metadata": {
    "collapsed": false,
    "pycharm": {
     "name": "#%%\n"
    }
   }
  },
  {
   "cell_type": "code",
   "execution_count": 1228,
   "outputs": [
    {
     "name": "stdout",
     "output_type": "stream",
     "text": [
      "(0.6733511865183034, {'affinity': 'l1', 'compute_full_tree': True, 'linkage': 'complete'})\n",
      "(0.6733511865183034, {'affinity': 'l1', 'compute_full_tree': False, 'linkage': 'complete'})\n",
      "(0.6733511865183034, {'affinity': 'manhattan', 'compute_full_tree': True, 'linkage': 'complete'})\n",
      "(0.6733511865183034, {'affinity': 'manhattan', 'compute_full_tree': False, 'linkage': 'complete'})\n",
      "(0.6663058783990584, {'affinity': 'cosine', 'compute_full_tree': True, 'linkage': 'average'})\n",
      "(0.6663058783990584, {'affinity': 'cosine', 'compute_full_tree': False, 'linkage': 'average'})\n",
      "(0.6460841820631407, {'affinity': 'euclidean', 'compute_full_tree': True, 'linkage': 'complete'})\n",
      "(0.6460841820631407, {'affinity': 'euclidean', 'compute_full_tree': False, 'linkage': 'complete'})\n",
      "(0.6460841820631407, {'affinity': 'l2', 'compute_full_tree': True, 'linkage': 'complete'})\n",
      "(0.6460841820631407, {'affinity': 'l2', 'compute_full_tree': False, 'linkage': 'complete'})\n"
     ]
    }
   ],
   "source": [
    "sorted_by_score = sorted(result, key=lambda item:item[0], reverse=True)\n",
    "\n",
    "print(*sorted_by_score[:10], sep='\\n')\n",
    "\n",
    "algorithms.append(AgglomerativeClustering(n_clusters=3,\n",
    "                         affinity=sorted_by_score[0][1]['affinity'],\n",
    "                         compute_full_tree=sorted_by_score[0][1]['compute_full_tree'],\n",
    "                         linkage=sorted_by_score[0][1]['linkage']))"
   ],
   "metadata": {
    "collapsed": false,
    "pycharm": {
     "name": "#%%\n"
    }
   }
  },
  {
   "cell_type": "markdown",
   "source": [
    "## Spectral Clustering"
   ],
   "metadata": {
    "collapsed": false,
    "pycharm": {
     "name": "#%% md\n"
    }
   }
  },
  {
   "cell_type": "code",
   "execution_count": 1234,
   "outputs": [
    {
     "ename": "ValueError",
     "evalue": "Expected n_neighbors <= n_samples,  but n_samples = 210, n_neighbors = 300",
     "output_type": "error",
     "traceback": [
      "\u001B[1;31m---------------------------------------------------------------------------\u001B[0m",
      "\u001B[1;31mValueError\u001B[0m                                Traceback (most recent call last)",
      "\u001B[1;32m~\\AppData\\Local\\Temp/ipykernel_2440/568835361.py\u001B[0m in \u001B[0;36m<module>\u001B[1;34m\u001B[0m\n\u001B[0;32m      9\u001B[0m \u001B[1;33m\u001B[0m\u001B[0m\n\u001B[0;32m     10\u001B[0m \u001B[0mmodel\u001B[0m \u001B[1;33m=\u001B[0m \u001B[0mSpectralClustering\u001B[0m\u001B[1;33m(\u001B[0m\u001B[0mn_clusters\u001B[0m\u001B[1;33m=\u001B[0m\u001B[1;36m3\u001B[0m\u001B[1;33m,\u001B[0m \u001B[0mrandom_state\u001B[0m\u001B[1;33m=\u001B[0m\u001B[1;36m42\u001B[0m\u001B[1;33m,\u001B[0m \u001B[0mn_jobs\u001B[0m\u001B[1;33m=\u001B[0m\u001B[1;33m-\u001B[0m\u001B[1;36m1\u001B[0m\u001B[1;33m)\u001B[0m\u001B[1;33m\u001B[0m\u001B[1;33m\u001B[0m\u001B[0m\n\u001B[1;32m---> 11\u001B[1;33m \u001B[0mresult\u001B[0m \u001B[1;33m=\u001B[0m \u001B[0mparam_search\u001B[0m\u001B[1;33m(\u001B[0m\u001B[0mmodel\u001B[0m\u001B[1;33m,\u001B[0m\u001B[0mparameters\u001B[0m\u001B[1;33m,\u001B[0m\u001B[0mX\u001B[0m\u001B[1;33m,\u001B[0m\u001B[0my\u001B[0m\u001B[1;33m,\u001B[0m\u001B[0mscorer\u001B[0m\u001B[1;33m)\u001B[0m\u001B[1;33m\u001B[0m\u001B[1;33m\u001B[0m\u001B[0m\n\u001B[0m",
      "\u001B[1;32m~\\AppData\\Local\\Temp/ipykernel_2440/3728974116.py\u001B[0m in \u001B[0;36mparam_search\u001B[1;34m(model, parameters, X, y, scoring_function)\u001B[0m\n\u001B[0;32m     23\u001B[0m     \u001B[1;32mwith\u001B[0m \u001B[0mconcurrent\u001B[0m\u001B[1;33m.\u001B[0m\u001B[0mfutures\u001B[0m\u001B[1;33m.\u001B[0m\u001B[0mThreadPoolExecutor\u001B[0m\u001B[1;33m(\u001B[0m\u001B[1;33m)\u001B[0m \u001B[1;32mas\u001B[0m \u001B[0mexecutor\u001B[0m\u001B[1;33m:\u001B[0m\u001B[1;33m\u001B[0m\u001B[1;33m\u001B[0m\u001B[0m\n\u001B[0;32m     24\u001B[0m         \u001B[0mfutures\u001B[0m \u001B[1;33m=\u001B[0m \u001B[1;33m[\u001B[0m\u001B[0mexecutor\u001B[0m\u001B[1;33m.\u001B[0m\u001B[0msubmit\u001B[0m\u001B[1;33m(\u001B[0m\u001B[0mevaluate_combination\u001B[0m\u001B[1;33m,\u001B[0m\u001B[0mmodel\u001B[0m\u001B[1;33m=\u001B[0m\u001B[0mmodel\u001B[0m\u001B[1;33m,\u001B[0m \u001B[0mparams\u001B[0m\u001B[1;33m=\u001B[0m\u001B[0mc\u001B[0m\u001B[1;33m)\u001B[0m \u001B[1;32mfor\u001B[0m \u001B[0mc\u001B[0m \u001B[1;32min\u001B[0m \u001B[0mcombinations\u001B[0m\u001B[1;33m]\u001B[0m\u001B[1;33m\u001B[0m\u001B[1;33m\u001B[0m\u001B[0m\n\u001B[1;32m---> 25\u001B[1;33m         \u001B[0mparam_data\u001B[0m \u001B[1;33m=\u001B[0m \u001B[1;33m[\u001B[0m\u001B[0mr\u001B[0m\u001B[1;33m.\u001B[0m\u001B[0mresult\u001B[0m\u001B[1;33m(\u001B[0m\u001B[1;33m)\u001B[0m \u001B[1;32mfor\u001B[0m \u001B[0mr\u001B[0m \u001B[1;32min\u001B[0m \u001B[0mfutures\u001B[0m\u001B[1;33m]\u001B[0m\u001B[1;33m\u001B[0m\u001B[1;33m\u001B[0m\u001B[0m\n\u001B[0m\u001B[0;32m     26\u001B[0m \u001B[1;33m\u001B[0m\u001B[0m\n\u001B[0;32m     27\u001B[0m     \u001B[1;32mreturn\u001B[0m \u001B[0mparam_data\u001B[0m\u001B[1;33m\u001B[0m\u001B[1;33m\u001B[0m\u001B[0m\n",
      "\u001B[1;32m~\\AppData\\Local\\Temp/ipykernel_2440/3728974116.py\u001B[0m in \u001B[0;36m<listcomp>\u001B[1;34m(.0)\u001B[0m\n\u001B[0;32m     23\u001B[0m     \u001B[1;32mwith\u001B[0m \u001B[0mconcurrent\u001B[0m\u001B[1;33m.\u001B[0m\u001B[0mfutures\u001B[0m\u001B[1;33m.\u001B[0m\u001B[0mThreadPoolExecutor\u001B[0m\u001B[1;33m(\u001B[0m\u001B[1;33m)\u001B[0m \u001B[1;32mas\u001B[0m \u001B[0mexecutor\u001B[0m\u001B[1;33m:\u001B[0m\u001B[1;33m\u001B[0m\u001B[1;33m\u001B[0m\u001B[0m\n\u001B[0;32m     24\u001B[0m         \u001B[0mfutures\u001B[0m \u001B[1;33m=\u001B[0m \u001B[1;33m[\u001B[0m\u001B[0mexecutor\u001B[0m\u001B[1;33m.\u001B[0m\u001B[0msubmit\u001B[0m\u001B[1;33m(\u001B[0m\u001B[0mevaluate_combination\u001B[0m\u001B[1;33m,\u001B[0m\u001B[0mmodel\u001B[0m\u001B[1;33m=\u001B[0m\u001B[0mmodel\u001B[0m\u001B[1;33m,\u001B[0m \u001B[0mparams\u001B[0m\u001B[1;33m=\u001B[0m\u001B[0mc\u001B[0m\u001B[1;33m)\u001B[0m \u001B[1;32mfor\u001B[0m \u001B[0mc\u001B[0m \u001B[1;32min\u001B[0m \u001B[0mcombinations\u001B[0m\u001B[1;33m]\u001B[0m\u001B[1;33m\u001B[0m\u001B[1;33m\u001B[0m\u001B[0m\n\u001B[1;32m---> 25\u001B[1;33m         \u001B[0mparam_data\u001B[0m \u001B[1;33m=\u001B[0m \u001B[1;33m[\u001B[0m\u001B[0mr\u001B[0m\u001B[1;33m.\u001B[0m\u001B[0mresult\u001B[0m\u001B[1;33m(\u001B[0m\u001B[1;33m)\u001B[0m \u001B[1;32mfor\u001B[0m \u001B[0mr\u001B[0m \u001B[1;32min\u001B[0m \u001B[0mfutures\u001B[0m\u001B[1;33m]\u001B[0m\u001B[1;33m\u001B[0m\u001B[1;33m\u001B[0m\u001B[0m\n\u001B[0m\u001B[0;32m     26\u001B[0m \u001B[1;33m\u001B[0m\u001B[0m\n\u001B[0;32m     27\u001B[0m     \u001B[1;32mreturn\u001B[0m \u001B[0mparam_data\u001B[0m\u001B[1;33m\u001B[0m\u001B[1;33m\u001B[0m\u001B[0m\n",
      "\u001B[1;32m~\\AppData\\Local\\Programs\\Python\\Python39\\lib\\concurrent\\futures\\_base.py\u001B[0m in \u001B[0;36mresult\u001B[1;34m(self, timeout)\u001B[0m\n\u001B[0;32m    436\u001B[0m                     \u001B[1;32mraise\u001B[0m \u001B[0mCancelledError\u001B[0m\u001B[1;33m(\u001B[0m\u001B[1;33m)\u001B[0m\u001B[1;33m\u001B[0m\u001B[1;33m\u001B[0m\u001B[0m\n\u001B[0;32m    437\u001B[0m                 \u001B[1;32melif\u001B[0m \u001B[0mself\u001B[0m\u001B[1;33m.\u001B[0m\u001B[0m_state\u001B[0m \u001B[1;33m==\u001B[0m \u001B[0mFINISHED\u001B[0m\u001B[1;33m:\u001B[0m\u001B[1;33m\u001B[0m\u001B[1;33m\u001B[0m\u001B[0m\n\u001B[1;32m--> 438\u001B[1;33m                     \u001B[1;32mreturn\u001B[0m \u001B[0mself\u001B[0m\u001B[1;33m.\u001B[0m\u001B[0m__get_result\u001B[0m\u001B[1;33m(\u001B[0m\u001B[1;33m)\u001B[0m\u001B[1;33m\u001B[0m\u001B[1;33m\u001B[0m\u001B[0m\n\u001B[0m\u001B[0;32m    439\u001B[0m \u001B[1;33m\u001B[0m\u001B[0m\n\u001B[0;32m    440\u001B[0m                 \u001B[0mself\u001B[0m\u001B[1;33m.\u001B[0m\u001B[0m_condition\u001B[0m\u001B[1;33m.\u001B[0m\u001B[0mwait\u001B[0m\u001B[1;33m(\u001B[0m\u001B[0mtimeout\u001B[0m\u001B[1;33m)\u001B[0m\u001B[1;33m\u001B[0m\u001B[1;33m\u001B[0m\u001B[0m\n",
      "\u001B[1;32m~\\AppData\\Local\\Programs\\Python\\Python39\\lib\\concurrent\\futures\\_base.py\u001B[0m in \u001B[0;36m__get_result\u001B[1;34m(self)\u001B[0m\n\u001B[0;32m    388\u001B[0m         \u001B[1;32mif\u001B[0m \u001B[0mself\u001B[0m\u001B[1;33m.\u001B[0m\u001B[0m_exception\u001B[0m\u001B[1;33m:\u001B[0m\u001B[1;33m\u001B[0m\u001B[1;33m\u001B[0m\u001B[0m\n\u001B[0;32m    389\u001B[0m             \u001B[1;32mtry\u001B[0m\u001B[1;33m:\u001B[0m\u001B[1;33m\u001B[0m\u001B[1;33m\u001B[0m\u001B[0m\n\u001B[1;32m--> 390\u001B[1;33m                 \u001B[1;32mraise\u001B[0m \u001B[0mself\u001B[0m\u001B[1;33m.\u001B[0m\u001B[0m_exception\u001B[0m\u001B[1;33m\u001B[0m\u001B[1;33m\u001B[0m\u001B[0m\n\u001B[0m\u001B[0;32m    391\u001B[0m             \u001B[1;32mfinally\u001B[0m\u001B[1;33m:\u001B[0m\u001B[1;33m\u001B[0m\u001B[1;33m\u001B[0m\u001B[0m\n\u001B[0;32m    392\u001B[0m                 \u001B[1;31m# Break a reference cycle with the exception in self._exception\u001B[0m\u001B[1;33m\u001B[0m\u001B[1;33m\u001B[0m\u001B[0m\n",
      "\u001B[1;32m~\\AppData\\Local\\Programs\\Python\\Python39\\lib\\concurrent\\futures\\thread.py\u001B[0m in \u001B[0;36mrun\u001B[1;34m(self)\u001B[0m\n\u001B[0;32m     50\u001B[0m \u001B[1;33m\u001B[0m\u001B[0m\n\u001B[0;32m     51\u001B[0m         \u001B[1;32mtry\u001B[0m\u001B[1;33m:\u001B[0m\u001B[1;33m\u001B[0m\u001B[1;33m\u001B[0m\u001B[0m\n\u001B[1;32m---> 52\u001B[1;33m             \u001B[0mresult\u001B[0m \u001B[1;33m=\u001B[0m \u001B[0mself\u001B[0m\u001B[1;33m.\u001B[0m\u001B[0mfn\u001B[0m\u001B[1;33m(\u001B[0m\u001B[1;33m*\u001B[0m\u001B[0mself\u001B[0m\u001B[1;33m.\u001B[0m\u001B[0margs\u001B[0m\u001B[1;33m,\u001B[0m \u001B[1;33m**\u001B[0m\u001B[0mself\u001B[0m\u001B[1;33m.\u001B[0m\u001B[0mkwargs\u001B[0m\u001B[1;33m)\u001B[0m\u001B[1;33m\u001B[0m\u001B[1;33m\u001B[0m\u001B[0m\n\u001B[0m\u001B[0;32m     53\u001B[0m         \u001B[1;32mexcept\u001B[0m \u001B[0mBaseException\u001B[0m \u001B[1;32mas\u001B[0m \u001B[0mexc\u001B[0m\u001B[1;33m:\u001B[0m\u001B[1;33m\u001B[0m\u001B[1;33m\u001B[0m\u001B[0m\n\u001B[0;32m     54\u001B[0m             \u001B[0mself\u001B[0m\u001B[1;33m.\u001B[0m\u001B[0mfuture\u001B[0m\u001B[1;33m.\u001B[0m\u001B[0mset_exception\u001B[0m\u001B[1;33m(\u001B[0m\u001B[0mexc\u001B[0m\u001B[1;33m)\u001B[0m\u001B[1;33m\u001B[0m\u001B[1;33m\u001B[0m\u001B[0m\n",
      "\u001B[1;32m~\\AppData\\Local\\Temp/ipykernel_2440/3728974116.py\u001B[0m in \u001B[0;36mevaluate_combination\u001B[1;34m(model, params)\u001B[0m\n\u001B[0;32m     16\u001B[0m         \u001B[0mm\u001B[0m \u001B[1;33m=\u001B[0m \u001B[0mclone\u001B[0m\u001B[1;33m(\u001B[0m\u001B[0mmodel\u001B[0m\u001B[1;33m)\u001B[0m\u001B[1;33m\u001B[0m\u001B[1;33m\u001B[0m\u001B[0m\n\u001B[0;32m     17\u001B[0m         \u001B[0mm\u001B[0m\u001B[1;33m.\u001B[0m\u001B[0mset_params\u001B[0m\u001B[1;33m(\u001B[0m\u001B[1;33m**\u001B[0m\u001B[0mparams\u001B[0m\u001B[1;33m)\u001B[0m\u001B[1;33m\u001B[0m\u001B[1;33m\u001B[0m\u001B[0m\n\u001B[1;32m---> 18\u001B[1;33m         \u001B[0mm\u001B[0m\u001B[1;33m.\u001B[0m\u001B[0mfit\u001B[0m\u001B[1;33m(\u001B[0m\u001B[0mX\u001B[0m\u001B[1;33m)\u001B[0m\u001B[1;33m\u001B[0m\u001B[1;33m\u001B[0m\u001B[0m\n\u001B[0m\u001B[0;32m     19\u001B[0m         \u001B[1;32mreturn\u001B[0m \u001B[0mscoring_function\u001B[0m\u001B[1;33m(\u001B[0m\u001B[0my\u001B[0m\u001B[1;33m,\u001B[0m\u001B[0mm\u001B[0m\u001B[1;33m.\u001B[0m\u001B[0mlabels_\u001B[0m\u001B[1;33m)\u001B[0m\u001B[1;33m,\u001B[0m\u001B[0mparams\u001B[0m\u001B[1;33m\u001B[0m\u001B[1;33m\u001B[0m\u001B[0m\n\u001B[0;32m     20\u001B[0m \u001B[1;33m\u001B[0m\u001B[0m\n",
      "\u001B[1;32m~\\.virtualenvs\\ml-TQRJ4U_2\\lib\\site-packages\\sklearn\\cluster\\_spectral.py\u001B[0m in \u001B[0;36mfit\u001B[1;34m(self, X, y)\u001B[0m\n\u001B[0;32m    595\u001B[0m \u001B[1;33m\u001B[0m\u001B[0m\n\u001B[0;32m    596\u001B[0m         \u001B[1;32mif\u001B[0m \u001B[0mself\u001B[0m\u001B[1;33m.\u001B[0m\u001B[0maffinity\u001B[0m \u001B[1;33m==\u001B[0m \u001B[1;34m\"nearest_neighbors\"\u001B[0m\u001B[1;33m:\u001B[0m\u001B[1;33m\u001B[0m\u001B[1;33m\u001B[0m\u001B[0m\n\u001B[1;32m--> 597\u001B[1;33m             connectivity = kneighbors_graph(\n\u001B[0m\u001B[0;32m    598\u001B[0m                 \u001B[0mX\u001B[0m\u001B[1;33m,\u001B[0m \u001B[0mn_neighbors\u001B[0m\u001B[1;33m=\u001B[0m\u001B[0mself\u001B[0m\u001B[1;33m.\u001B[0m\u001B[0mn_neighbors\u001B[0m\u001B[1;33m,\u001B[0m \u001B[0minclude_self\u001B[0m\u001B[1;33m=\u001B[0m\u001B[1;32mTrue\u001B[0m\u001B[1;33m,\u001B[0m \u001B[0mn_jobs\u001B[0m\u001B[1;33m=\u001B[0m\u001B[0mself\u001B[0m\u001B[1;33m.\u001B[0m\u001B[0mn_jobs\u001B[0m\u001B[1;33m\u001B[0m\u001B[1;33m\u001B[0m\u001B[0m\n\u001B[0;32m    599\u001B[0m             )\n",
      "\u001B[1;32m~\\.virtualenvs\\ml-TQRJ4U_2\\lib\\site-packages\\sklearn\\neighbors\\_graph.py\u001B[0m in \u001B[0;36mkneighbors_graph\u001B[1;34m(X, n_neighbors, mode, metric, p, metric_params, include_self, n_jobs)\u001B[0m\n\u001B[0;32m    122\u001B[0m \u001B[1;33m\u001B[0m\u001B[0m\n\u001B[0;32m    123\u001B[0m     \u001B[0mquery\u001B[0m \u001B[1;33m=\u001B[0m \u001B[0m_query_include_self\u001B[0m\u001B[1;33m(\u001B[0m\u001B[0mX\u001B[0m\u001B[1;33m.\u001B[0m\u001B[0m_fit_X\u001B[0m\u001B[1;33m,\u001B[0m \u001B[0minclude_self\u001B[0m\u001B[1;33m,\u001B[0m \u001B[0mmode\u001B[0m\u001B[1;33m)\u001B[0m\u001B[1;33m\u001B[0m\u001B[1;33m\u001B[0m\u001B[0m\n\u001B[1;32m--> 124\u001B[1;33m     \u001B[1;32mreturn\u001B[0m \u001B[0mX\u001B[0m\u001B[1;33m.\u001B[0m\u001B[0mkneighbors_graph\u001B[0m\u001B[1;33m(\u001B[0m\u001B[0mX\u001B[0m\u001B[1;33m=\u001B[0m\u001B[0mquery\u001B[0m\u001B[1;33m,\u001B[0m \u001B[0mn_neighbors\u001B[0m\u001B[1;33m=\u001B[0m\u001B[0mn_neighbors\u001B[0m\u001B[1;33m,\u001B[0m \u001B[0mmode\u001B[0m\u001B[1;33m=\u001B[0m\u001B[0mmode\u001B[0m\u001B[1;33m)\u001B[0m\u001B[1;33m\u001B[0m\u001B[1;33m\u001B[0m\u001B[0m\n\u001B[0m\u001B[0;32m    125\u001B[0m \u001B[1;33m\u001B[0m\u001B[0m\n\u001B[0;32m    126\u001B[0m \u001B[1;33m\u001B[0m\u001B[0m\n",
      "\u001B[1;32m~\\.virtualenvs\\ml-TQRJ4U_2\\lib\\site-packages\\sklearn\\neighbors\\_base.py\u001B[0m in \u001B[0;36mkneighbors_graph\u001B[1;34m(self, X, n_neighbors, mode)\u001B[0m\n\u001B[0;32m    876\u001B[0m         \u001B[1;31m# construct CSR matrix representation of the k-NN graph\u001B[0m\u001B[1;33m\u001B[0m\u001B[1;33m\u001B[0m\u001B[0m\n\u001B[0;32m    877\u001B[0m         \u001B[1;32mif\u001B[0m \u001B[0mmode\u001B[0m \u001B[1;33m==\u001B[0m \u001B[1;34m\"connectivity\"\u001B[0m\u001B[1;33m:\u001B[0m\u001B[1;33m\u001B[0m\u001B[1;33m\u001B[0m\u001B[0m\n\u001B[1;32m--> 878\u001B[1;33m             \u001B[0mA_ind\u001B[0m \u001B[1;33m=\u001B[0m \u001B[0mself\u001B[0m\u001B[1;33m.\u001B[0m\u001B[0mkneighbors\u001B[0m\u001B[1;33m(\u001B[0m\u001B[0mX\u001B[0m\u001B[1;33m,\u001B[0m \u001B[0mn_neighbors\u001B[0m\u001B[1;33m,\u001B[0m \u001B[0mreturn_distance\u001B[0m\u001B[1;33m=\u001B[0m\u001B[1;32mFalse\u001B[0m\u001B[1;33m)\u001B[0m\u001B[1;33m\u001B[0m\u001B[1;33m\u001B[0m\u001B[0m\n\u001B[0m\u001B[0;32m    879\u001B[0m             \u001B[0mn_queries\u001B[0m \u001B[1;33m=\u001B[0m \u001B[0mA_ind\u001B[0m\u001B[1;33m.\u001B[0m\u001B[0mshape\u001B[0m\u001B[1;33m[\u001B[0m\u001B[1;36m0\u001B[0m\u001B[1;33m]\u001B[0m\u001B[1;33m\u001B[0m\u001B[1;33m\u001B[0m\u001B[0m\n\u001B[0;32m    880\u001B[0m             \u001B[0mA_data\u001B[0m \u001B[1;33m=\u001B[0m \u001B[0mnp\u001B[0m\u001B[1;33m.\u001B[0m\u001B[0mones\u001B[0m\u001B[1;33m(\u001B[0m\u001B[0mn_queries\u001B[0m \u001B[1;33m*\u001B[0m \u001B[0mn_neighbors\u001B[0m\u001B[1;33m)\u001B[0m\u001B[1;33m\u001B[0m\u001B[1;33m\u001B[0m\u001B[0m\n",
      "\u001B[1;32m~\\.virtualenvs\\ml-TQRJ4U_2\\lib\\site-packages\\sklearn\\neighbors\\_base.py\u001B[0m in \u001B[0;36mkneighbors\u001B[1;34m(self, X, n_neighbors, return_distance)\u001B[0m\n\u001B[0;32m    722\u001B[0m         \u001B[0mn_samples_fit\u001B[0m \u001B[1;33m=\u001B[0m \u001B[0mself\u001B[0m\u001B[1;33m.\u001B[0m\u001B[0mn_samples_fit_\u001B[0m\u001B[1;33m\u001B[0m\u001B[1;33m\u001B[0m\u001B[0m\n\u001B[0;32m    723\u001B[0m         \u001B[1;32mif\u001B[0m \u001B[0mn_neighbors\u001B[0m \u001B[1;33m>\u001B[0m \u001B[0mn_samples_fit\u001B[0m\u001B[1;33m:\u001B[0m\u001B[1;33m\u001B[0m\u001B[1;33m\u001B[0m\u001B[0m\n\u001B[1;32m--> 724\u001B[1;33m             raise ValueError(\n\u001B[0m\u001B[0;32m    725\u001B[0m                 \u001B[1;34m\"Expected n_neighbors <= n_samples, \"\u001B[0m\u001B[1;33m\u001B[0m\u001B[1;33m\u001B[0m\u001B[0m\n\u001B[0;32m    726\u001B[0m                 \u001B[1;34m\" but n_samples = %d, n_neighbors = %d\"\u001B[0m \u001B[1;33m%\u001B[0m \u001B[1;33m(\u001B[0m\u001B[0mn_samples_fit\u001B[0m\u001B[1;33m,\u001B[0m \u001B[0mn_neighbors\u001B[0m\u001B[1;33m)\u001B[0m\u001B[1;33m\u001B[0m\u001B[1;33m\u001B[0m\u001B[0m\n",
      "\u001B[1;31mValueError\u001B[0m: Expected n_neighbors <= n_samples,  but n_samples = 210, n_neighbors = 300"
     ]
    }
   ],
   "source": [
    "# np.random.seed(42)\n",
    "# eigen_solver = ['arpack', 'tobpcg', 'amg']\n",
    "# n_components = [1, 2, 3, 4, 5, 6, 7, 8]\n",
    "# n_init = [2, 5, 7, 10, 13, 15, 17, 20]\n",
    "# affinity = ['nearest_neighbors', 'rbf', 'precomputed', 'precomputed_nearest_neighbors']\n",
    "# assign_labels = ['kmeans', 'discretize']\n",
    "#\n",
    "# parameters = {'eigen_solver': eigen_solver, 'n_components': n_components, 'n_init':n_init, 'affinity':affinity, 'n_neighbors':max_iter, 'assign_labels':assign_labels}\n",
    "#\n",
    "# model = SpectralClustering(n_clusters=3, random_state=42, n_jobs=-1)\n",
    "# result = param_search(model,parameters,X,y,scorer)"
   ],
   "metadata": {
    "collapsed": false,
    "pycharm": {
     "name": "#%%\n"
    }
   }
  },
  {
   "cell_type": "code",
   "execution_count": 1231,
   "outputs": [
    {
     "name": "stdout",
     "output_type": "stream",
     "text": [
      "(0.6733511865183034, {'affinity': 'l1', 'compute_full_tree': True, 'linkage': 'complete'})\n",
      "(0.6733511865183034, {'affinity': 'l1', 'compute_full_tree': False, 'linkage': 'complete'})\n",
      "(0.6733511865183034, {'affinity': 'manhattan', 'compute_full_tree': True, 'linkage': 'complete'})\n",
      "(0.6733511865183034, {'affinity': 'manhattan', 'compute_full_tree': False, 'linkage': 'complete'})\n",
      "(0.6663058783990584, {'affinity': 'cosine', 'compute_full_tree': True, 'linkage': 'average'})\n",
      "(0.6663058783990584, {'affinity': 'cosine', 'compute_full_tree': False, 'linkage': 'average'})\n",
      "(0.6460841820631407, {'affinity': 'euclidean', 'compute_full_tree': True, 'linkage': 'complete'})\n",
      "(0.6460841820631407, {'affinity': 'euclidean', 'compute_full_tree': False, 'linkage': 'complete'})\n",
      "(0.6460841820631407, {'affinity': 'l2', 'compute_full_tree': True, 'linkage': 'complete'})\n",
      "(0.6460841820631407, {'affinity': 'l2', 'compute_full_tree': False, 'linkage': 'complete'})\n"
     ]
    },
    {
     "ename": "KeyError",
     "evalue": "'eigen_solver'",
     "output_type": "error",
     "traceback": [
      "\u001B[1;31m---------------------------------------------------------------------------\u001B[0m",
      "\u001B[1;31mKeyError\u001B[0m                                  Traceback (most recent call last)",
      "\u001B[1;32m~\\AppData\\Local\\Temp/ipykernel_2440/725671079.py\u001B[0m in \u001B[0;36m<module>\u001B[1;34m\u001B[0m\n\u001B[0;32m      4\u001B[0m \u001B[1;33m\u001B[0m\u001B[0m\n\u001B[0;32m      5\u001B[0m algorithms.append(SpectralClustering(n_jobs=-1, n_clusters=3, random_state=42,\n\u001B[1;32m----> 6\u001B[1;33m                                      \u001B[0meigen_solver\u001B[0m\u001B[1;33m=\u001B[0m\u001B[0msorted_by_score\u001B[0m\u001B[1;33m[\u001B[0m\u001B[1;36m0\u001B[0m\u001B[1;33m]\u001B[0m\u001B[1;33m[\u001B[0m\u001B[1;36m1\u001B[0m\u001B[1;33m]\u001B[0m\u001B[1;33m[\u001B[0m\u001B[1;34m'eigen_solver'\u001B[0m\u001B[1;33m]\u001B[0m\u001B[1;33m,\u001B[0m\u001B[1;33m\u001B[0m\u001B[1;33m\u001B[0m\u001B[0m\n\u001B[0m\u001B[0;32m      7\u001B[0m                                      \u001B[0mn_components\u001B[0m\u001B[1;33m=\u001B[0m\u001B[0msorted_by_score\u001B[0m\u001B[1;33m[\u001B[0m\u001B[1;36m0\u001B[0m\u001B[1;33m]\u001B[0m\u001B[1;33m[\u001B[0m\u001B[1;36m1\u001B[0m\u001B[1;33m]\u001B[0m\u001B[1;33m[\u001B[0m\u001B[1;34m'n_components'\u001B[0m\u001B[1;33m]\u001B[0m\u001B[1;33m,\u001B[0m\u001B[1;33m\u001B[0m\u001B[1;33m\u001B[0m\u001B[0m\n\u001B[0;32m      8\u001B[0m                                      \u001B[0mn_init\u001B[0m\u001B[1;33m=\u001B[0m\u001B[0msorted_by_score\u001B[0m\u001B[1;33m[\u001B[0m\u001B[1;36m0\u001B[0m\u001B[1;33m]\u001B[0m\u001B[1;33m[\u001B[0m\u001B[1;36m1\u001B[0m\u001B[1;33m]\u001B[0m\u001B[1;33m[\u001B[0m\u001B[1;34m'n_init'\u001B[0m\u001B[1;33m]\u001B[0m\u001B[1;33m,\u001B[0m\u001B[1;33m\u001B[0m\u001B[1;33m\u001B[0m\u001B[0m\n",
      "\u001B[1;31mKeyError\u001B[0m: 'eigen_solver'"
     ]
    }
   ],
   "source": [
    "# sorted_by_score = sorted(result, key=lambda item:item[0], reverse=True)\n",
    "#\n",
    "# print(*sorted_by_score[:10], sep='\\n')\n",
    "#\n",
    "# algorithms.append(SpectralClustering(n_jobs=-1, n_clusters=3, random_state=42,\n",
    "#                                      eigen_solver=sorted_by_score[0][1]['eigen_solver'],\n",
    "#                                      n_components=sorted_by_score[0][1]['n_components'],\n",
    "#                                      n_init=sorted_by_score[0][1]['n_init'],\n",
    "#                                      affinity=sorted_by_score[0][1]['affinity'],\n",
    "#                                      assign_labels=sorted_by_score[0][1]['assign_lables']))"
   ],
   "metadata": {
    "collapsed": false,
    "pycharm": {
     "name": "#%%\n"
    }
   }
  },
  {
   "cell_type": "markdown",
   "source": [
    "## MeanShift"
   ],
   "metadata": {
    "collapsed": false,
    "pycharm": {
     "name": "#%% md\n"
    }
   }
  },
  {
   "cell_type": "code",
   "execution_count": null,
   "outputs": [],
   "source": [
    "bandwith = [None, 0.1,0.2,0.5,1,2,3,5]\n",
    "bin_seeding = [True,False]\n",
    "min_bin_freq = [1,2,3,4,5,10,15,20]\n",
    "cluster_all = [True, False]\n",
    "max_iter = [5,10,25, 50, 75, 100, 200, 300, 400, 500, 600]\n",
    "\n",
    "parameters = {'bandwith': bandwith, 'bin_seeding': bin_seeding, 'min_bin_freq':min_bin_freq, 'cluster_all':cluster_all, 'max_iter':max_iter}\n",
    "model = MeanShift(n_jobs=-1)\n",
    "\n",
    "result = param_search(model, parameters, X, y, scorer)"
   ],
   "metadata": {
    "collapsed": false,
    "pycharm": {
     "name": "#%%\n"
    }
   }
  },
  {
   "cell_type": "code",
   "execution_count": null,
   "outputs": [],
   "source": [
    "sorted_by_score = sorted(result, key=lambda item:item[0], reverse=True)\n",
    "\n",
    "print(*sorted_by_score[:10], sep='\\n')\n",
    "algorithms.append(MeanShift(n_jobs=-1,\n",
    "                            bandwith=sorted_by_score[0][1]['bandwidth'],\n",
    "                            bin_seeding=sorted_by_score[0][1]['bin_seeding'],\n",
    "                            min_bin_freq=sorted_by_score[0][1]['min_bin_freq'],\n",
    "                            cluster_all=sorted_by_score[0][1]['cluster_all'],\n",
    "                            max_iter=sorted_by_score[0][1]['max_iter']))"
   ],
   "metadata": {
    "collapsed": false,
    "pycharm": {
     "name": "#%%\n"
    }
   }
  },
  {
   "cell_type": "markdown",
   "source": [
    "## Comparison"
   ],
   "metadata": {
    "collapsed": false,
    "pycharm": {
     "name": "#%% md\n"
    }
   }
  },
  {
   "cell_type": "code",
   "execution_count": null,
   "outputs": [],
   "source": [
    "# Code taken from Lecture 06-01.pca_clustering.ipynb\n",
    "data = []\n",
    "for algo in algorithms:\n",
    "    algo.fit(X)\n",
    "    print(algo.labels_)\n",
    "\n",
    "    data.append(({\n",
    "        'ARI': metrics.adjusted_rand_score(labels_true=y,labels_pred=algo.labels_),\n",
    "        'AMI': metrics.adjusted_mutual_info_score(labels_true=y,labels_pred=algo.labels_),\n",
    "        'Homogenity': metrics.homogeneity_score(labels_true=y,labels_pred=algo.labels_),\n",
    "        'Completeness': metrics.completeness_score(labels_true=y,labels_pred=algo.labels_),\n",
    "        'V-measure': metrics.v_measure_score(labels_true=y,labels_pred=algo.labels_),\n",
    "        'Silhouette': metrics.silhouette_score(X, algo.labels_)}))\n",
    "\n",
    "results = pd.DataFrame(data=data, columns=['ARI', 'AMI', 'Homogenity',\n",
    "                                           'Completeness', 'V-measure',\n",
    "                                           'Silhouette'],\n",
    "                       index=['K-means','Spectral', 'Agglomerative'])\n",
    "\n",
    "results"
   ],
   "metadata": {
    "collapsed": false,
    "pycharm": {
     "name": "#%%\n"
    }
   }
  }
 ],
 "metadata": {
  "anaconda-cloud": {},
  "kernelspec": {
   "display_name": "Python 3",
   "language": "python",
   "name": "python3"
  },
  "language_info": {
   "codemirror_mode": {
    "name": "ipython",
    "version": 3
   },
   "file_extension": ".py",
   "mimetype": "text/x-python",
   "name": "python",
   "nbconvert_exporter": "python",
   "pygments_lexer": "ipython3",
   "version": "3.8.8"
  }
 },
 "nbformat": 4,
 "nbformat_minor": 4
}