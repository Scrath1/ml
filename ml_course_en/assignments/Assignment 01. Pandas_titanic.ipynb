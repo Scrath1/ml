{
 "nbformat": 4,
 "nbformat_minor": 0,
 "metadata": {
  "anaconda-cloud": {},
  "kernelspec": {
   "display_name": "Python 3",
   "language": "python",
   "name": "python3"
  },
  "language_info": {
   "codemirror_mode": {
    "name": "ipython",
    "version": 3
   },
   "file_extension": ".py",
   "mimetype": "text/x-python",
   "name": "python",
   "nbconvert_exporter": "python",
   "pygments_lexer": "ipython3",
   "version": "3.8.8"
  },
  "name": "seminar02_practice_pandas_titanic.ipynb",
  "colab": {
   "name": "Assignment 01. Pandas_titanic.ipynb",
   "provenance": [],
   "include_colab_link": true
  }
 },
 "cells": [
  {
   "cell_type": "markdown",
   "metadata": {
    "id": "view-in-github",
    "colab_type": "text"
   },
   "source": [
    "<a href=\"https://colab.research.google.com/github/Scrath1/ml/blob/master/ml_course_en/assignments/Assignment%2001.%20Pandas_titanic.ipynb\" target=\"_parent\"><img src=\"https://colab.research.google.com/assets/colab-badge.svg\" alt=\"Open In Colab\"/></a>"
   ]
  },
  {
   "cell_type": "markdown",
   "metadata": {
    "id": "RclxwI1wYx_R"
   },
   "source": [
    "# Assignment 01. Exploratory data analysis with Pandas\n",
    "## Practice. Analyzing \"Titanic\" passengers\n",
    "\n",
    "**Fill in the missing code (\"You code here\")"
   ]
  },
  {
   "cell_type": "code",
   "metadata": {
    "id": "02wpyY7mYx_U"
   },
   "source": [
    "import numpy as np\n",
    "import pandas as pd\n",
    "from matplotlib import pyplot as plt\n",
    "# Graphics in SVG format are more sharp and legible\n",
    "%config InlineBackend.figure_format = 'svg'\n",
    "pd.set_option(\"display.precision\", 2)"
   ],
   "execution_count": 12,
   "outputs": []
  },
  {
   "cell_type": "markdown",
   "metadata": {
    "id": "tds0McLRYx_W"
   },
   "source": [
    "**Read data into a Pandas DataFrame**"
   ]
  },
  {
   "cell_type": "code",
   "metadata": {
    "id": "oqAKGdfZYx_W"
   },
   "source": [
    "data = pd.read_csv('../../data/titanic_train.csv',\n",
    "                  index_col='PassengerId')"
   ],
   "execution_count": 13,
   "outputs": []
  },
  {
   "cell_type": "markdown",
   "metadata": {
    "id": "plDaqwT_Yx_W"
   },
   "source": [
    "**First 5 rows**"
   ]
  },
  {
   "cell_type": "code",
   "metadata": {
    "id": "PFQ1wlqCYx_X",
    "outputId": "6b224d7b-0eff-4910-a612-99529bb3a922"
   },
   "source": [
    "data.head(5)"
   ],
   "execution_count": 14,
   "outputs": [
    {
     "data": {
      "text/plain": "             Survived  Pclass  \\\nPassengerId                     \n1                   0       3   \n2                   1       1   \n3                   1       3   \n4                   1       1   \n5                   0       3   \n\n                                                          Name     Sex   Age  \\\nPassengerId                                                                    \n1                                      Braund, Mr. Owen Harris    male  22.0   \n2            Cumings, Mrs. John Bradley (Florence Briggs Th...  female  38.0   \n3                                       Heikkinen, Miss. Laina  female  26.0   \n4                 Futrelle, Mrs. Jacques Heath (Lily May Peel)  female  35.0   \n5                                     Allen, Mr. William Henry    male  35.0   \n\n             SibSp  Parch            Ticket   Fare Cabin Embarked  \nPassengerId                                                        \n1                1      0         A/5 21171   7.25   NaN        S  \n2                1      0          PC 17599  71.28   C85        C  \n3                0      0  STON/O2. 3101282   7.92   NaN        S  \n4                1      0            113803  53.10  C123        S  \n5                0      0            373450   8.05   NaN        S  ",
      "text/html": "<div>\n<style scoped>\n    .dataframe tbody tr th:only-of-type {\n        vertical-align: middle;\n    }\n\n    .dataframe tbody tr th {\n        vertical-align: top;\n    }\n\n    .dataframe thead th {\n        text-align: right;\n    }\n</style>\n<table border=\"1\" class=\"dataframe\">\n  <thead>\n    <tr style=\"text-align: right;\">\n      <th></th>\n      <th>Survived</th>\n      <th>Pclass</th>\n      <th>Name</th>\n      <th>Sex</th>\n      <th>Age</th>\n      <th>SibSp</th>\n      <th>Parch</th>\n      <th>Ticket</th>\n      <th>Fare</th>\n      <th>Cabin</th>\n      <th>Embarked</th>\n    </tr>\n    <tr>\n      <th>PassengerId</th>\n      <th></th>\n      <th></th>\n      <th></th>\n      <th></th>\n      <th></th>\n      <th></th>\n      <th></th>\n      <th></th>\n      <th></th>\n      <th></th>\n      <th></th>\n    </tr>\n  </thead>\n  <tbody>\n    <tr>\n      <th>1</th>\n      <td>0</td>\n      <td>3</td>\n      <td>Braund, Mr. Owen Harris</td>\n      <td>male</td>\n      <td>22.0</td>\n      <td>1</td>\n      <td>0</td>\n      <td>A/5 21171</td>\n      <td>7.25</td>\n      <td>NaN</td>\n      <td>S</td>\n    </tr>\n    <tr>\n      <th>2</th>\n      <td>1</td>\n      <td>1</td>\n      <td>Cumings, Mrs. John Bradley (Florence Briggs Th...</td>\n      <td>female</td>\n      <td>38.0</td>\n      <td>1</td>\n      <td>0</td>\n      <td>PC 17599</td>\n      <td>71.28</td>\n      <td>C85</td>\n      <td>C</td>\n    </tr>\n    <tr>\n      <th>3</th>\n      <td>1</td>\n      <td>3</td>\n      <td>Heikkinen, Miss. Laina</td>\n      <td>female</td>\n      <td>26.0</td>\n      <td>0</td>\n      <td>0</td>\n      <td>STON/O2. 3101282</td>\n      <td>7.92</td>\n      <td>NaN</td>\n      <td>S</td>\n    </tr>\n    <tr>\n      <th>4</th>\n      <td>1</td>\n      <td>1</td>\n      <td>Futrelle, Mrs. Jacques Heath (Lily May Peel)</td>\n      <td>female</td>\n      <td>35.0</td>\n      <td>1</td>\n      <td>0</td>\n      <td>113803</td>\n      <td>53.10</td>\n      <td>C123</td>\n      <td>S</td>\n    </tr>\n    <tr>\n      <th>5</th>\n      <td>0</td>\n      <td>3</td>\n      <td>Allen, Mr. William Henry</td>\n      <td>male</td>\n      <td>35.0</td>\n      <td>0</td>\n      <td>0</td>\n      <td>373450</td>\n      <td>8.05</td>\n      <td>NaN</td>\n      <td>S</td>\n    </tr>\n  </tbody>\n</table>\n</div>"
     },
     "execution_count": 14,
     "metadata": {},
     "output_type": "execute_result"
    }
   ]
  },
  {
   "cell_type": "code",
   "metadata": {
    "id": "QsrriWEQYx_Y",
    "outputId": "1f475bb8-3b25-4cf7-c7de-c8cd1db8a929"
   },
   "source": [
    "data.describe()"
   ],
   "execution_count": 15,
   "outputs": [
    {
     "data": {
      "text/plain": "       Survived  Pclass     Age   SibSp   Parch    Fare\ncount    891.00  891.00  714.00  891.00  891.00  891.00\nmean       0.38    2.31   29.70    0.52    0.38   32.20\nstd        0.49    0.84   14.53    1.10    0.81   49.69\nmin        0.00    1.00    0.42    0.00    0.00    0.00\n25%        0.00    2.00   20.12    0.00    0.00    7.91\n50%        0.00    3.00   28.00    0.00    0.00   14.45\n75%        1.00    3.00   38.00    1.00    0.00   31.00\nmax        1.00    3.00   80.00    8.00    6.00  512.33",
      "text/html": "<div>\n<style scoped>\n    .dataframe tbody tr th:only-of-type {\n        vertical-align: middle;\n    }\n\n    .dataframe tbody tr th {\n        vertical-align: top;\n    }\n\n    .dataframe thead th {\n        text-align: right;\n    }\n</style>\n<table border=\"1\" class=\"dataframe\">\n  <thead>\n    <tr style=\"text-align: right;\">\n      <th></th>\n      <th>Survived</th>\n      <th>Pclass</th>\n      <th>Age</th>\n      <th>SibSp</th>\n      <th>Parch</th>\n      <th>Fare</th>\n    </tr>\n  </thead>\n  <tbody>\n    <tr>\n      <th>count</th>\n      <td>891.00</td>\n      <td>891.00</td>\n      <td>714.00</td>\n      <td>891.00</td>\n      <td>891.00</td>\n      <td>891.00</td>\n    </tr>\n    <tr>\n      <th>mean</th>\n      <td>0.38</td>\n      <td>2.31</td>\n      <td>29.70</td>\n      <td>0.52</td>\n      <td>0.38</td>\n      <td>32.20</td>\n    </tr>\n    <tr>\n      <th>std</th>\n      <td>0.49</td>\n      <td>0.84</td>\n      <td>14.53</td>\n      <td>1.10</td>\n      <td>0.81</td>\n      <td>49.69</td>\n    </tr>\n    <tr>\n      <th>min</th>\n      <td>0.00</td>\n      <td>1.00</td>\n      <td>0.42</td>\n      <td>0.00</td>\n      <td>0.00</td>\n      <td>0.00</td>\n    </tr>\n    <tr>\n      <th>25%</th>\n      <td>0.00</td>\n      <td>2.00</td>\n      <td>20.12</td>\n      <td>0.00</td>\n      <td>0.00</td>\n      <td>7.91</td>\n    </tr>\n    <tr>\n      <th>50%</th>\n      <td>0.00</td>\n      <td>3.00</td>\n      <td>28.00</td>\n      <td>0.00</td>\n      <td>0.00</td>\n      <td>14.45</td>\n    </tr>\n    <tr>\n      <th>75%</th>\n      <td>1.00</td>\n      <td>3.00</td>\n      <td>38.00</td>\n      <td>1.00</td>\n      <td>0.00</td>\n      <td>31.00</td>\n    </tr>\n    <tr>\n      <th>max</th>\n      <td>1.00</td>\n      <td>3.00</td>\n      <td>80.00</td>\n      <td>8.00</td>\n      <td>6.00</td>\n      <td>512.33</td>\n    </tr>\n  </tbody>\n</table>\n</div>"
     },
     "execution_count": 15,
     "metadata": {},
     "output_type": "execute_result"
    }
   ]
  },
  {
   "cell_type": "markdown",
   "metadata": {
    "id": "n7SBXgF8Yx_Z"
   },
   "source": [
    "**Let's select those passengers who embarked in Cherbourg (Embarked=C) and paid > 200 pounds for their ticker (fare > 200).**\n",
    "\n",
    "Make sure you understand how actually this construction works."
   ]
  },
  {
   "cell_type": "code",
   "metadata": {
    "id": "3eLtYlWeYx_Z",
    "outputId": "7b88b768-f086-4741-a34d-9753224b4eec"
   },
   "source": [
    "data[(data['Embarked'] == 'C') & (data.Fare > 200)].head()"
   ],
   "execution_count": 16,
   "outputs": [
    {
     "data": {
      "text/plain": "             Survived  Pclass  \\\nPassengerId                     \n119                 0       1   \n259                 1       1   \n300                 1       1   \n312                 1       1   \n378                 0       1   \n\n                                                        Name     Sex   Age  \\\nPassengerId                                                                  \n119                                 Baxter, Mr. Quigg Edmond    male  24.0   \n259                                         Ward, Miss. Anna  female  35.0   \n300          Baxter, Mrs. James (Helene DeLaudeniere Chaput)  female  50.0   \n312                               Ryerson, Miss. Emily Borie  female  18.0   \n378                                Widener, Mr. Harry Elkins    male  27.0   \n\n             SibSp  Parch    Ticket    Fare            Cabin Embarked  \nPassengerId                                                            \n119              0      1  PC 17558  247.52          B58 B60        C  \n259              0      0  PC 17755  512.33              NaN        C  \n300              0      1  PC 17558  247.52          B58 B60        C  \n312              2      2  PC 17608  262.38  B57 B59 B63 B66        C  \n378              0      2    113503  211.50              C82        C  ",
      "text/html": "<div>\n<style scoped>\n    .dataframe tbody tr th:only-of-type {\n        vertical-align: middle;\n    }\n\n    .dataframe tbody tr th {\n        vertical-align: top;\n    }\n\n    .dataframe thead th {\n        text-align: right;\n    }\n</style>\n<table border=\"1\" class=\"dataframe\">\n  <thead>\n    <tr style=\"text-align: right;\">\n      <th></th>\n      <th>Survived</th>\n      <th>Pclass</th>\n      <th>Name</th>\n      <th>Sex</th>\n      <th>Age</th>\n      <th>SibSp</th>\n      <th>Parch</th>\n      <th>Ticket</th>\n      <th>Fare</th>\n      <th>Cabin</th>\n      <th>Embarked</th>\n    </tr>\n    <tr>\n      <th>PassengerId</th>\n      <th></th>\n      <th></th>\n      <th></th>\n      <th></th>\n      <th></th>\n      <th></th>\n      <th></th>\n      <th></th>\n      <th></th>\n      <th></th>\n      <th></th>\n    </tr>\n  </thead>\n  <tbody>\n    <tr>\n      <th>119</th>\n      <td>0</td>\n      <td>1</td>\n      <td>Baxter, Mr. Quigg Edmond</td>\n      <td>male</td>\n      <td>24.0</td>\n      <td>0</td>\n      <td>1</td>\n      <td>PC 17558</td>\n      <td>247.52</td>\n      <td>B58 B60</td>\n      <td>C</td>\n    </tr>\n    <tr>\n      <th>259</th>\n      <td>1</td>\n      <td>1</td>\n      <td>Ward, Miss. Anna</td>\n      <td>female</td>\n      <td>35.0</td>\n      <td>0</td>\n      <td>0</td>\n      <td>PC 17755</td>\n      <td>512.33</td>\n      <td>NaN</td>\n      <td>C</td>\n    </tr>\n    <tr>\n      <th>300</th>\n      <td>1</td>\n      <td>1</td>\n      <td>Baxter, Mrs. James (Helene DeLaudeniere Chaput)</td>\n      <td>female</td>\n      <td>50.0</td>\n      <td>0</td>\n      <td>1</td>\n      <td>PC 17558</td>\n      <td>247.52</td>\n      <td>B58 B60</td>\n      <td>C</td>\n    </tr>\n    <tr>\n      <th>312</th>\n      <td>1</td>\n      <td>1</td>\n      <td>Ryerson, Miss. Emily Borie</td>\n      <td>female</td>\n      <td>18.0</td>\n      <td>2</td>\n      <td>2</td>\n      <td>PC 17608</td>\n      <td>262.38</td>\n      <td>B57 B59 B63 B66</td>\n      <td>C</td>\n    </tr>\n    <tr>\n      <th>378</th>\n      <td>0</td>\n      <td>1</td>\n      <td>Widener, Mr. Harry Elkins</td>\n      <td>male</td>\n      <td>27.0</td>\n      <td>0</td>\n      <td>2</td>\n      <td>113503</td>\n      <td>211.50</td>\n      <td>C82</td>\n      <td>C</td>\n    </tr>\n  </tbody>\n</table>\n</div>"
     },
     "execution_count": 16,
     "metadata": {},
     "output_type": "execute_result"
    }
   ]
  },
  {
   "cell_type": "markdown",
   "metadata": {
    "id": "mphxvVRZYx_a"
   },
   "source": [
    "**We can sort these people by Fare in descending order.**"
   ]
  },
  {
   "cell_type": "code",
   "metadata": {
    "id": "jyOp0hk0Yx_a",
    "outputId": "4a74f9b1-2553-4ff2-f2be-a617adf536af"
   },
   "source": [
    "data[(data['Embarked'] == 'C') & \n",
    "     (data['Fare'] > 200)].sort_values(by='Fare',\n",
    "                               ascending=False).head()"
   ],
   "execution_count": 17,
   "outputs": [
    {
     "data": {
      "text/plain": "             Survived  Pclass                                   Name     Sex  \\\nPassengerId                                                                    \n259                 1       1                       Ward, Miss. Anna  female   \n680                 1       1     Cardeza, Mr. Thomas Drake Martinez    male   \n738                 1       1                 Lesurer, Mr. Gustave J    male   \n312                 1       1             Ryerson, Miss. Emily Borie  female   \n743                 1       1  Ryerson, Miss. Susan Parker \"Suzette\"  female   \n\n              Age  SibSp  Parch    Ticket    Fare            Cabin Embarked  \nPassengerId                                                                  \n259          35.0      0      0  PC 17755  512.33              NaN        C  \n680          36.0      0      1  PC 17755  512.33      B51 B53 B55        C  \n738          35.0      0      0  PC 17755  512.33             B101        C  \n312          18.0      2      2  PC 17608  262.38  B57 B59 B63 B66        C  \n743          21.0      2      2  PC 17608  262.38  B57 B59 B63 B66        C  ",
      "text/html": "<div>\n<style scoped>\n    .dataframe tbody tr th:only-of-type {\n        vertical-align: middle;\n    }\n\n    .dataframe tbody tr th {\n        vertical-align: top;\n    }\n\n    .dataframe thead th {\n        text-align: right;\n    }\n</style>\n<table border=\"1\" class=\"dataframe\">\n  <thead>\n    <tr style=\"text-align: right;\">\n      <th></th>\n      <th>Survived</th>\n      <th>Pclass</th>\n      <th>Name</th>\n      <th>Sex</th>\n      <th>Age</th>\n      <th>SibSp</th>\n      <th>Parch</th>\n      <th>Ticket</th>\n      <th>Fare</th>\n      <th>Cabin</th>\n      <th>Embarked</th>\n    </tr>\n    <tr>\n      <th>PassengerId</th>\n      <th></th>\n      <th></th>\n      <th></th>\n      <th></th>\n      <th></th>\n      <th></th>\n      <th></th>\n      <th></th>\n      <th></th>\n      <th></th>\n      <th></th>\n    </tr>\n  </thead>\n  <tbody>\n    <tr>\n      <th>259</th>\n      <td>1</td>\n      <td>1</td>\n      <td>Ward, Miss. Anna</td>\n      <td>female</td>\n      <td>35.0</td>\n      <td>0</td>\n      <td>0</td>\n      <td>PC 17755</td>\n      <td>512.33</td>\n      <td>NaN</td>\n      <td>C</td>\n    </tr>\n    <tr>\n      <th>680</th>\n      <td>1</td>\n      <td>1</td>\n      <td>Cardeza, Mr. Thomas Drake Martinez</td>\n      <td>male</td>\n      <td>36.0</td>\n      <td>0</td>\n      <td>1</td>\n      <td>PC 17755</td>\n      <td>512.33</td>\n      <td>B51 B53 B55</td>\n      <td>C</td>\n    </tr>\n    <tr>\n      <th>738</th>\n      <td>1</td>\n      <td>1</td>\n      <td>Lesurer, Mr. Gustave J</td>\n      <td>male</td>\n      <td>35.0</td>\n      <td>0</td>\n      <td>0</td>\n      <td>PC 17755</td>\n      <td>512.33</td>\n      <td>B101</td>\n      <td>C</td>\n    </tr>\n    <tr>\n      <th>312</th>\n      <td>1</td>\n      <td>1</td>\n      <td>Ryerson, Miss. Emily Borie</td>\n      <td>female</td>\n      <td>18.0</td>\n      <td>2</td>\n      <td>2</td>\n      <td>PC 17608</td>\n      <td>262.38</td>\n      <td>B57 B59 B63 B66</td>\n      <td>C</td>\n    </tr>\n    <tr>\n      <th>743</th>\n      <td>1</td>\n      <td>1</td>\n      <td>Ryerson, Miss. Susan Parker \"Suzette\"</td>\n      <td>female</td>\n      <td>21.0</td>\n      <td>2</td>\n      <td>2</td>\n      <td>PC 17608</td>\n      <td>262.38</td>\n      <td>B57 B59 B63 B66</td>\n      <td>C</td>\n    </tr>\n  </tbody>\n</table>\n</div>"
     },
     "execution_count": 17,
     "metadata": {},
     "output_type": "execute_result"
    }
   ]
  },
  {
   "cell_type": "markdown",
   "metadata": {
    "id": "q3ioXu7AYx_b"
   },
   "source": [
    "**Let's create a new feature.**"
   ]
  },
  {
   "cell_type": "code",
   "metadata": {
    "id": "C6qIvTtoYx_c"
   },
   "source": [
    "def age_category(age):\n",
    "    '''\n",
    "    < 30 -> 1\n",
    "    >= 30, <55 -> 2\n",
    "    >= 55 -> 3\n",
    "    '''\n",
    "    if age < 30:\n",
    "        return 1\n",
    "    elif age < 55:\n",
    "        return 2\n",
    "    elif age >= 55:\n",
    "        return 3"
   ],
   "execution_count": 18,
   "outputs": []
  },
  {
   "cell_type": "code",
   "metadata": {
    "id": "EoyYbqGhYx_c"
   },
   "source": [
    "age_categories = [age_category(age) for age in data.Age]\n",
    "data['Age_category'] = age_categories"
   ],
   "execution_count": 19,
   "outputs": []
  },
  {
   "cell_type": "markdown",
   "metadata": {
    "id": "MSCA7kMAYx_c"
   },
   "source": [
    "**Another way is to do it with `apply`.**"
   ]
  },
  {
   "cell_type": "code",
   "metadata": {
    "id": "2w4S7NHjYx_c"
   },
   "source": [
    "data['Age_category'] = data['Age'].apply(age_category)"
   ],
   "execution_count": 20,
   "outputs": []
  },
  {
   "cell_type": "markdown",
   "metadata": {
    "id": "FhfKw0C1Yx_d"
   },
   "source": [
    "**1. How many men/women were there onboard?**\n",
    "- 412 men and 479 women\n",
    "- 314 men and 577 women\n",
    "- 479 men and 412 women\n",
    "- **577 men and 314 women**"
   ]
  },
  {
   "cell_type": "code",
   "metadata": {
    "id": "JjCJYCdwYx_d"
   },
   "source": [
    "# You code here\n",
    "data['Sex'].value_counts()"
   ],
   "execution_count": 50,
   "outputs": [
    {
     "data": {
      "text/plain": "male      577\nfemale    314\nName: Sex, dtype: int64"
     },
     "execution_count": 50,
     "metadata": {},
     "output_type": "execute_result"
    }
   ]
  },
  {
   "cell_type": "markdown",
   "metadata": {
    "id": "sRNyaikuYx_d"
   },
   "source": [
    "**2. Print the distribution of the `Pclass` feature. Then the same, but for men and women separately. How many men from second class were there onboard?**\n",
    "- 104\n",
    "- **108**\n",
    "- 112\n",
    "- 125"
   ]
  },
  {
   "cell_type": "code",
   "metadata": {
    "id": "8VQRwraYYx_e"
   },
   "source": [
    "# You code here\n",
    "#dist = data['Pclass'].plot.hist()\n",
    "#print('Passengers in each class:',dist)\n",
    "#male_dist = data[data.Sex == 'male']['Pclass'].plot.hist()\n",
    "pd.crosstab(data.Sex,data.Pclass)"
   ],
   "execution_count": 52,
   "outputs": [
    {
     "data": {
      "text/plain": "Pclass    1    2    3\nSex                  \nfemale   94   76  144\nmale    122  108  347",
      "text/html": "<div>\n<style scoped>\n    .dataframe tbody tr th:only-of-type {\n        vertical-align: middle;\n    }\n\n    .dataframe tbody tr th {\n        vertical-align: top;\n    }\n\n    .dataframe thead th {\n        text-align: right;\n    }\n</style>\n<table border=\"1\" class=\"dataframe\">\n  <thead>\n    <tr style=\"text-align: right;\">\n      <th>Pclass</th>\n      <th>1</th>\n      <th>2</th>\n      <th>3</th>\n    </tr>\n    <tr>\n      <th>Sex</th>\n      <th></th>\n      <th></th>\n      <th></th>\n    </tr>\n  </thead>\n  <tbody>\n    <tr>\n      <th>female</th>\n      <td>94</td>\n      <td>76</td>\n      <td>144</td>\n    </tr>\n    <tr>\n      <th>male</th>\n      <td>122</td>\n      <td>108</td>\n      <td>347</td>\n    </tr>\n  </tbody>\n</table>\n</div>"
     },
     "execution_count": 52,
     "metadata": {},
     "output_type": "execute_result"
    }
   ]
  },
  {
   "cell_type": "markdown",
   "metadata": {
    "id": "kvATh0z-Yx_e"
   },
   "source": [
    "**3. What are median and standard deviation of `Fare`?. Round to two decimals.**\n",
    "- **median is  14.45, standard deviation is 49.69**\n",
    "- median is 15.1, standard deviation is 12.15\n",
    "- median is 13.15, standard deviation is 35.3\n",
    "- median is  17.43, standard deviation is 39.1"
   ]
  },
  {
   "cell_type": "code",
   "metadata": {
    "id": "ggyAp_DGYx_e"
   },
   "source": [
    "# You code here\n",
    "import statistics as st\n",
    "fare_lst = data['Fare']\n",
    "print(fare_lst)\n",
    "print('Fare:',fare_lst.median().round(2))\n",
    "print('Standard Deviation:',fare_lst.std().round(2))"
   ],
   "execution_count": 56,
   "outputs": [
    {
     "name": "stdout",
     "output_type": "stream",
     "text": [
      "PassengerId\n",
      "1       7.25\n",
      "2      71.28\n",
      "3       7.92\n",
      "4      53.10\n",
      "5       8.05\n",
      "       ...  \n",
      "887    13.00\n",
      "888    30.00\n",
      "889    23.45\n",
      "890    30.00\n",
      "891     7.75\n",
      "Name: Fare, Length: 891, dtype: float64\n",
      "Fare: 14.45\n",
      "Standard Deviation: 49.69\n"
     ]
    }
   ]
  },
  {
   "cell_type": "markdown",
   "metadata": {
    "id": "U5Ggd-VKYx_e"
   },
   "source": [
    "**4. Is that true that the mean age of survived people is higher than that of passengers who eventually died?**\n",
    "- Yes\n",
    "- **No**\n"
   ]
  },
  {
   "cell_type": "code",
   "metadata": {
    "id": "82kLS9dwYx_e"
   },
   "source": [
    "# You code here\n",
    "survived_lst = data[data['Survived'] == 1]['Age']\n",
    "diseased_lst = data[data['Survived'] == 0]['Age']\n",
    "print('Survived age mean:',survived_lst.mean().round(2))\n",
    "print('Deceased age mean:',diseased_lst.mean().round(2))"
   ],
   "execution_count": 58,
   "outputs": [
    {
     "name": "stdout",
     "output_type": "stream",
     "text": [
      "Survived age mean: 28.34\n",
      "Disasesed age mean: 30.63\n"
     ]
    }
   ]
  },
  {
   "cell_type": "markdown",
   "metadata": {
    "id": "IfD4PFOuYx_e"
   },
   "source": [
    "**5. Is that true that passengers younger than 30 y.o. survived more frequently than those older than 60 y.o.? What are shares of survived people among young and old people?**\n",
    "- 22.7% among young and 40.6% among old\n",
    "- **40.6% among young and 22.7% among old**\n",
    "- 35.3% among young and 27.4% among old\n",
    "- 27.4% among young and 35.3% among old"
   ]
  },
  {
   "cell_type": "code",
   "metadata": {
    "id": "pPVGkl84Yx_f"
   },
   "source": [
    "# You code here\n",
    "below_thirty = data[data['Age'] < 30]['Survived'].value_counts()\n",
    "print(\"Survival rate <30:\",(below_thirty[1]/(below_thirty[0]+below_thirty[1]))*100,'%')\n",
    "\n",
    "# mean only works here because survived is 1 and deceased 0\n",
    "above_sixty = data[data['Age'] > 60]['Survived'].mean()*100\n",
    "print(\"Survival rate >60:\",above_sixty.round(3),'%')"
   ],
   "execution_count": 86,
   "outputs": [
    {
     "name": "stdout",
     "output_type": "stream",
     "text": [
      "Survival rate <30: 40.625 %\n",
      "Survival rate >60: 22.727 %\n"
     ]
    }
   ]
  },
  {
   "cell_type": "markdown",
   "metadata": {
    "id": "SyXxB8uEYx_f"
   },
   "source": [
    "**6. Is that true that women survived more frequently than men? What are shares of survived people among men and women?**\n",
    "- 30.2% among men and 46.2% among women\n",
    "- 35.7% among men and 74.2% among women\n",
    "- 21.1% among men and 46.2% among women\n",
    "- 18.9% among men and 74.2% among women"
   ]
  },
  {
   "cell_type": "code",
   "metadata": {
    "id": "cwv_N5qOYx_f"
   },
   "source": [
    "# You code here\n",
    "women_survival = data[data['Sex'] == 'female']['Survived'].mean()*100\n",
    "print('Women survival rate:',women_survival.round(3),'%')\n",
    "\n",
    "men_survival = data[data['Sex'] == 'male']['Survived'].mean()*100\n",
    "print('Men survival rate:',men_survival.round(3),'%')\n",
    "\n",
    "#Alternative\n",
    "survived_by_sex = data.groupby('Sex').mean()*100\n",
    "print(survived_by_sex['Survived'])"
   ],
   "execution_count": 90,
   "outputs": [
    {
     "name": "stdout",
     "output_type": "stream",
     "text": [
      "Women survival rate: 74.204 %\n",
      "Men survival rate: 18.891 %\n",
      "Sex\n",
      "female    74.20\n",
      "male      18.89\n",
      "Name: Survived, dtype: float64\n"
     ]
    }
   ]
  },
  {
   "cell_type": "markdown",
   "metadata": {
    "id": "1OU6PYTIYx_f"
   },
   "source": [
    "**7. What's the most popular first name among male passengers?**\n",
    "- Charles\n",
    "- Thomas\n",
    "- **William**\n",
    "- John"
   ]
  },
  {
   "cell_type": "code",
   "metadata": {
    "id": "aiKBo39PYx_f"
   },
   "source": [
    "# You code here\n",
    "# names are split by spaces into a list and the third element(the first name) is selected and written back\n",
    "male_names = data[data['Sex']=='male']['Name'].apply(lambda x: x.split()[2])\n",
    "print(male_names.value_counts().head(5))"
   ],
   "execution_count": 97,
   "outputs": [
    {
     "name": "stdout",
     "output_type": "stream",
     "text": [
      "William    35\n",
      "John       25\n",
      "George     14\n",
      "Thomas     13\n",
      "Charles    13\n",
      "Name: Name, dtype: int64\n"
     ]
    }
   ]
  },
  {
   "cell_type": "markdown",
   "metadata": {
    "id": "9epnEz_8Yx_g"
   },
   "source": [
    "**8. How is average age for men/women dependent on `Pclass`? Choose all correct statements:**\n",
    "- **On average, men of 1 class are older than 40**\n",
    "- On average, women of 1 class are older than 40\n",
    "- **Men of all classes are on average older than women of the same class**\n",
    "- On average, passengers of the first class are older than those of the 2nd class who are older than passengers of the 3rd class"
   ]
  },
  {
   "cell_type": "code",
   "metadata": {
    "id": "obWBMhn2Yx_g"
   },
   "source": [
    "# You code here\n",
    "table = data.pivot_table(index=['Pclass','Sex'], values='Age',aggfunc='mean')\n",
    "print('Average age for each class by gender\\n',table)\n",
    "\n",
    "print('Average age for each class')\n",
    "print(data.pivot_table(index=['Pclass'], values='Age',aggfunc='mean'))"
   ],
   "execution_count": 109,
   "outputs": [
    {
     "name": "stdout",
     "output_type": "stream",
     "text": [
      "Average age for each class by gender\n",
      "                  Age\n",
      "Pclass Sex          \n",
      "1      female  34.61\n",
      "       male    41.28\n",
      "2      female  28.72\n",
      "       male    30.74\n",
      "3      female  21.75\n",
      "       male    26.51\n",
      "Average age for each class\n",
      "          Age\n",
      "Pclass       \n",
      "1       38.23\n",
      "2       29.88\n",
      "3       25.14\n"
     ]
    }
   ]
  },
  {
   "cell_type": "markdown",
   "metadata": {
    "id": "6UvcsO9KYx_g"
   },
   "source": [
    "## Useful resources\n",
    "* The same notebook as an interactive web-based [Kaggle Kernel](https://www.kaggle.com/kashnitsky/topic-1-practice-analyzing-titanic-passengers) with a [solution](https://www.kaggle.com/kashnitsky/topic-1-practice-solution)\n",
    "* Topic 1 \"Exploratory Data Analysis with Pandas\" as a [Kaggle Kernel](https://www.kaggle.com/kashnitsky/topic-1-exploratory-data-analysis-with-pandas)\n",
    "* Main course [site](https://mlcourse.ai), [course repo](https://github.com/Yorko/mlcourse.ai), and YouTube [channel](https://www.youtube.com/watch?v=QKTuw4PNOsU&list=PLVlY_7IJCMJeRfZ68eVfEcu-UcN9BbwiX)"
   ]
  },
  {
   "cell_type": "markdown",
   "metadata": {
    "id": "J2e3ANaVYx_g"
   },
   "source": [
    "\n",
    "Author: [Yury Kashnitsky](https://yorko.github.io). This material is subject to the terms and conditions of the [Creative Commons CC BY-NC-SA 4.0](https://creativecommons.org/licenses/by-nc-sa/4.0/) license. Free use is permitted for any non-commercial purpose."
   ]
  }
 ]
}